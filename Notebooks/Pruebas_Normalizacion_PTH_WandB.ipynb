{
 "cells": [
  {
   "cell_type": "code",
   "execution_count": 1,
   "metadata": {},
   "outputs": [],
   "source": [
    "import os\n",
    "from glob import glob\n",
    "import warnings\n",
    "warnings.filterwarnings(\"ignore\", category=RuntimeWarning) \n",
    "\n",
    "import numpy as np\n",
    "import matplotlib.pyplot as plt\n",
    "from sklearn.metrics import confusion_matrix\n",
    "import torch\n",
    "import torch.nn as nn\n",
    "import torch.nn.functional as F\n",
    "import mne\n",
    "mne.set_log_level(verbose=False)\n",
    "import wandb\n",
    "\n",
    "from Datasets import *\n",
    "import utils"
   ]
  },
  {
   "cell_type": "code",
   "execution_count": 2,
   "metadata": {},
   "outputs": [
    {
     "name": "stderr",
     "output_type": "stream",
     "text": [
      "\u001b[34m\u001b[1mwandb\u001b[0m: Currently logged in as: \u001b[33mjorgvt\u001b[0m (use `wandb login --relogin` to force relogin)\n"
     ]
    },
    {
     "data": {
      "text/plain": [
       "True"
      ]
     },
     "execution_count": 2,
     "metadata": {},
     "output_type": "execute_result"
    }
   ],
   "source": [
    "wandb.login()"
   ]
  },
  {
   "cell_type": "code",
   "execution_count": 23,
   "metadata": {},
   "outputs": [],
   "source": [
    "config = {\n",
    "    'epochs':50,\n",
    "    'classes':5,\n",
    "    'batch_size':32,\n",
    "    'learning_rate':0.001,\n",
    "    'channels':['F4'],\n",
    "    'patients':1\n",
    "}"
   ]
  },
  {
   "cell_type": "code",
   "execution_count": 2,
   "metadata": {},
   "outputs": [],
   "source": [
    "# BATCH_SIZE = 32\n",
    "# channels = ['F4']"
   ]
  },
  {
   "cell_type": "code",
   "execution_count": 5,
   "metadata": {},
   "outputs": [
    {
     "data": {
      "text/plain": [
       "device(type='cuda', index=2)"
      ]
     },
     "execution_count": 5,
     "metadata": {},
     "output_type": "execute_result"
    }
   ],
   "source": [
    "device = torch.device(\"cuda:2\" if torch.cuda.is_available() else \"cpu\")\n",
    "device"
   ]
  },
  {
   "cell_type": "code",
   "execution_count": 6,
   "metadata": {},
   "outputs": [],
   "source": [
    "path = \"../Data/PSG1.edf\"\n",
    "test = EDFData_PTH(path, channels=config['channels'])\n",
    "testloader = torch.utils.data.DataLoader(test, batch_size = config['batch_size'], drop_last=True)"
   ]
  },
  {
   "cell_type": "code",
   "execution_count": 7,
   "metadata": {},
   "outputs": [
    {
     "data": {
      "text/plain": [
       "512"
      ]
     },
     "execution_count": 7,
     "metadata": {},
     "output_type": "execute_result"
    }
   ],
   "source": [
    "sampling_rate = int(test.sampling_rate)\n",
    "sampling_rate"
   ]
  },
  {
   "cell_type": "code",
   "execution_count": 6,
   "metadata": {},
   "outputs": [],
   "source": [
    "class TinySleepNet(nn.Module):\n",
    "    def __init__(self, sampling_rate, channels, classes):\n",
    "        super(TinySleepNet, self).__init__()\n",
    "        self.sampling_rate = sampling_rate\n",
    "        self.channels = channels\n",
    "        self.classes = classes\n",
    "\n",
    "        self.feature_extraction = nn.Sequential(*[\n",
    "            nn.Conv1d(in_channels=len(channels), out_channels=128, kernel_size=sampling_rate//2, stride=sampling_rate//4),\n",
    "            nn.ReLU(),\n",
    "            # nn.MaxPool1d(kernel_size=8, stride=8),\n",
    "            # nn.Conv1d(in_channels=128, out_channels=128, kernel_size=8, stride=1, padding=3),\n",
    "            # nn.ReLU(),\n",
    "            # nn.Conv1d(in_channels=128, out_channels=128, kernel_size=8, stride=1, padding=3),\n",
    "            # nn.ReLU(),\n",
    "            # nn.Conv1d(in_channels=128, out_channels=128, kernel_size=8, stride=1, padding=3),\n",
    "            # nn.ReLU(),\n",
    "            # nn.MaxPool1d(kernel_size=4, stride=4)\n",
    "        ])\n",
    "\n",
    "        self.lstm = nn.LSTM(input_size=128, hidden_size=128, batch_first=True)\n",
    "        \n",
    "        self.classifier = nn.Linear(128, classes)\n",
    "\n",
    "    def forward(self, X):\n",
    "        X = self.feature_extraction(X)\n",
    "        X, _ = self.lstm(X.permute(0,2,1))\n",
    "        X = X[:,-1,:]\n",
    "        # X = self.classifier(X.reshape(X.shape[0],-1))\n",
    "        X = self.classifier(X)\n",
    "        return X"
   ]
  },
  {
   "cell_type": "code",
   "execution_count": 9,
   "metadata": {},
   "outputs": [
    {
     "data": {
      "text/plain": [
       "TinySleepNet(\n",
       "  (feature_extraction): Sequential(\n",
       "    (0): Conv1d(1, 128, kernel_size=(256,), stride=(128,))\n",
       "    (1): ReLU()\n",
       "  )\n",
       "  (lstm): LSTM(128, 128, batch_first=True)\n",
       "  (classifier): Linear(in_features=128, out_features=5, bias=True)\n",
       ")"
      ]
     },
     "execution_count": 9,
     "metadata": {},
     "output_type": "execute_result"
    }
   ],
   "source": [
    "model = TinySleepNet(sampling_rate, config['channels'], classes=len(test.id_to_class_dict))\n",
    "model.to(device)\n",
    "optimizer = torch.optim.Adam(model.parameters())\n",
    "loss_fn = nn.CrossEntropyLoss()\n",
    "model"
   ]
  },
  {
   "cell_type": "code",
   "execution_count": 11,
   "metadata": {},
   "outputs": [
    {
     "data": {
      "text/plain": [
       "torch.Size([32, 5])"
      ]
     },
     "execution_count": 11,
     "metadata": {},
     "output_type": "execute_result"
    }
   ],
   "source": [
    "for X, Y in testloader:\n",
    "    X = X.to(device).float()\n",
    "    with torch.no_grad():\n",
    "        pap = model(X)\n",
    "    break\n",
    "pap.shape"
   ]
  },
  {
   "cell_type": "code",
   "execution_count": 7,
   "metadata": {},
   "outputs": [],
   "source": [
    "def train_step(model, optimizer, loss_fn, history, X, Y, metrics=None):\n",
    "    \"\"\"\n",
    "    Trains the model over a batch.\n",
    "\n",
    "    Parameters\n",
    "    ----------\n",
    "    model: nn.Module\n",
    "        Torch model.\n",
    "    optimizer:\n",
    "        Torch optimizer.\n",
    "    loss_fn:\n",
    "        Torch loss function.\n",
    "    X: torch.Tensor\n",
    "    Y: torch.Tensor\n",
    "    metrics: dict{str:functions}\n",
    "        Dict of functions (metrics) we want to calculate and their name.\n",
    "    \n",
    "    Returns\n",
    "    -------\n",
    "    history: dict{str:float}\n",
    "        Dictionary of metrics.\n",
    "    \"\"\"\n",
    "    optimizer.zero_grad()\n",
    "    pred = model(X)\n",
    "    loss = loss_fn(pred, Y)\n",
    "    loss.backward()\n",
    "\n",
    "    history['loss'] = loss.item()\n",
    "    if metrics:\n",
    "        with torch.no_grad():\n",
    "            for name, metric_fn in metrics.items():\n",
    "                history[name] = metric_fn(pred, Y)\n",
    "\n",
    "    optimizer.step()\n",
    "    return history"
   ]
  },
  {
   "cell_type": "code",
   "execution_count": 8,
   "metadata": {},
   "outputs": [],
   "source": [
    "def val_step(model, optimizer, loss_fn, history, X, Y, metrics=None):\n",
    "    \"\"\"\n",
    "    Calculates the validation metrics over a batch.\n",
    "\n",
    "    Parameters\n",
    "    ----------\n",
    "    model: nn.Module\n",
    "        Torch model.\n",
    "    optimizer:\n",
    "        Torch optimizer.\n",
    "    loss_fn:\n",
    "        Torch loss function.\n",
    "    X: torch.Tensor\n",
    "    Y: torch.Tensor\n",
    "    metrics: dict{str:functions}\n",
    "        Dict of functions (metrics) we want to calculate and their name.\n",
    "    \n",
    "    Returns\n",
    "    -------\n",
    "    history: dict{str:float}\n",
    "        Dictionary of metrics.\n",
    "    \"\"\"\n",
    "    with torch.no_grad():\n",
    "        pred = model(X)\n",
    "        loss = loss_fn(pred, Y)\n",
    "\n",
    "        history['val_loss'] = loss.item()\n",
    "        if metrics:\n",
    "            for name, metric_fn in metrics.items():\n",
    "                history['val_'+name] = metric_fn(pred, Y)\n",
    "\n",
    "    return history"
   ]
  },
  {
   "cell_type": "code",
   "execution_count": 9,
   "metadata": {},
   "outputs": [],
   "source": [
    "class History():\n",
    "    \"\"\"\n",
    "    Class designed to track the metrics during the training of a NN.\n",
    "    \"\"\"\n",
    "    \n",
    "    def __init__(self):\n",
    "        self.history = {}\n",
    "\n",
    "    def update(self, history):\n",
    "        \"\"\"\n",
    "        Adds new values to the history.\n",
    "\n",
    "        Parameters\n",
    "        ----------\n",
    "        history: dict{str:float}\n",
    "\n",
    "        Returns\n",
    "        -------\n",
    "        None\n",
    "        \"\"\"\n",
    "        for metric_name, metric_value in history.items():\n",
    "            if metric_name not in self.history.keys():\n",
    "                self.history[metric_name] = [metric_value]\n",
    "            else:\n",
    "                self.history[metric_name].append(metric_value)\n",
    "\n",
    "    def return_lasts(self):\n",
    "        return {name:value[-1] for name, value in self.history.items()}\n",
    "        \n",
    "    \n",
    "    def plot_history(self, figsize=(16,6)):\n",
    "        \"\"\"\n",
    "        Plots the history values.\n",
    "\n",
    "        Parameters\n",
    "        ----------\n",
    "        history: History object\n",
    "\n",
    "        Returns\n",
    "        -------\n",
    "        None\n",
    "        \"\"\"\n",
    "        ## First retrieve metrics names ## \n",
    "        metrics_names = [a for a in self.history.keys() if a[:3]!='val']\n",
    "        \n",
    "        rows = 1\n",
    "        cols = len(metrics_names)\n",
    "\n",
    "        plt.figure(figsize=figsize)\n",
    "        for i,a in enumerate(metrics_names,1):\n",
    "            plt.subplot(rows,cols,i)\n",
    "            plt.title(a)\n",
    "            plt.plot(history_epoch.history[a], label=\"Train\")\n",
    "            plt.plot(history_epoch.history[\"val_\"+a], label=\"Validation\")\n",
    "            plt.legend()\n",
    "\n",
    "        plt.show()"
   ]
  },
  {
   "cell_type": "code",
   "execution_count": 10,
   "metadata": {},
   "outputs": [],
   "source": [
    "def accuracy_fn(Y_pred, Y_true):\n",
    "    \"\"\"\n",
    "    Calculates the accuracy of our model given its predictions and labels.\n",
    "\n",
    "    Parameters\n",
    "    ----------\n",
    "    Y_pred: torch.Tensor\n",
    "        Raw output from the nn (logits).\n",
    "    Y_true: torch.Tensor\n",
    "        Objective labels.\n",
    "    \n",
    "    Returns\n",
    "    -------\n",
    "    accuracy: float\n",
    "    \"\"\"\n",
    "    Y_pred = torch.softmax(Y_pred, dim=-1)\n",
    "    Y_pred = Y_pred.argmax(dim=-1)\n",
    "    accuracy = torch.where(Y_pred==Y_true, 1, 0).sum() / len(Y_true)\n",
    "\n",
    "    return accuracy.item()"
   ]
  },
  {
   "cell_type": "code",
   "execution_count": 11,
   "metadata": {},
   "outputs": [],
   "source": [
    "def train(model, optimizer, loss_fn, trainloader, testloader, epochs, metrics, history=History, verbose=True):\n",
    "    ## Tell wandb to watch the model\n",
    "    wandb.watch(model, loss_fn, log=\"all\", log_freq=10)\n",
    "\n",
    "    history_epoch = history()\n",
    "\n",
    "    for epoch in range(epochs):\n",
    "        history_batch = history()\n",
    "        for batch_i, (X, Y) in enumerate(trainloader, 1):\n",
    "            X, Y = X.to(device).float(), torch.squeeze(Y).long().to(device)\n",
    "            history_train = train_step(model, optimizer, loss_fn, {}, X, Y, metrics)\n",
    "            history_batch.update(history_train)\n",
    "            \n",
    "        for batch_i, (X, Y) in enumerate(testloader, 1):\n",
    "            X, Y = X.to(device).float(), torch.squeeze(Y).long().to(device)\n",
    "            history_val = val_step(model, optimizer, loss_fn, {}, X, Y, metrics)\n",
    "            history_batch.update(history_val)\n",
    "            \n",
    "        history_epoch.update({name:np.mean(values) for name,values in history_batch.history.items()})\n",
    "        if verbose:\n",
    "            print(f\"Epoch {epoch+1} -> [Train] (Loss) {history_epoch.history['loss'][-1]:.4f} (Acc) {history_epoch.history['accuracy'][-1]:.4f} | [Val] (Loss) {history_epoch.history['val_loss'][-1]:.4f} (Acc) {history_epoch.history['val_accuracy'][-1]:.4f}\")\n",
    "        \n",
    "        ## Log the metrics to WandB\n",
    "        wandb.log(history_epoch.return_lasts())\n",
    "\n",
    "    return history_epoch"
   ]
  },
  {
   "cell_type": "code",
   "execution_count": 12,
   "metadata": {},
   "outputs": [],
   "source": [
    "def get_labels_and_preds(model, dataloader):\n",
    "    \"\"\"\n",
    "    Gets the true and predicted labels for a given dataloader.\n",
    "    \"\"\"\n",
    "    labels = []\n",
    "    preds = []\n",
    "    ## Get every prediction and label\n",
    "    for X, Y in dataloader:\n",
    "        X = X.to(device).float()\n",
    "        with torch.no_grad():\n",
    "            pred = model(X)\n",
    "            pred = pred.softmax(-1).argmax(-1)\n",
    "            preds.extend(pred.cpu().numpy())\n",
    "            labels.extend(Y.numpy())\n",
    "    \n",
    "    return labels, preds"
   ]
  },
  {
   "cell_type": "code",
   "execution_count": 13,
   "metadata": {},
   "outputs": [],
   "source": [
    "def plot_labels_bundle_pth(model, dataset, dataloader):\n",
    "    \"\"\"\n",
    "    Plots the true labels and the predicted labels versus time.\n",
    "    \"\"\"\n",
    "    preds = []\n",
    "    labels = []\n",
    "    ## Get every prediction and label\n",
    "    for X, Y in dataloader:\n",
    "        X = X.to(device).float()\n",
    "        with torch.no_grad():\n",
    "            pred = model(X)\n",
    "            pred = pred.softmax(-1).argmax(-1)\n",
    "            preds.extend(pred.cpu().numpy())\n",
    "            labels.extend(Y.numpy())\n",
    "    \n",
    "    ## Plot the figure\n",
    "    plt.figure(figsize=(20,6))\n",
    "    utils.plot_labels(labels, preds, dataset.id_to_class_dict)"
   ]
  },
  {
   "cell_type": "code",
   "execution_count": 14,
   "metadata": {},
   "outputs": [],
   "source": [
    "def plot_cm_bundle_pth(model, dataset, dataloader, cmap='magma'):\n",
    "    \"\"\"\n",
    "    Plots the confusion matrix for a model trained with a dataset and dataloader.\n",
    "    \"\"\"\n",
    "    preds = []\n",
    "    labels = []\n",
    "    ## Get every prediction and label\n",
    "    for X, Y in dataloader:\n",
    "        X = X.to(device).float()\n",
    "        with torch.no_grad():\n",
    "            pred = model(X)\n",
    "            pred = pred.softmax(-1).argmax(-1)\n",
    "            preds.extend(pred.cpu().numpy())\n",
    "            labels.extend(Y.numpy())\n",
    "    \n",
    "    ## Plot confusion matrix\n",
    "    plt.figure(figsize=(8,8))\n",
    "    utils.plot_heatmaps_raw(confusion_matrix(labels, preds), precision=0, cmap=cmap)\n",
    "    plt.colorbar()\n",
    "    plt.xticks(range(config[\"classes\"]), dataset.id_to_class_dict.values(), rotation=90)\n",
    "    plt.yticks(range(config[\"classes\"]), dataset.id_to_class_dict.values(), rotation=0)\n",
    "    plt.xlabel(\"Predicted Label\")\n",
    "    plt.ylabel(\"True Label\")"
   ]
  },
  {
   "cell_type": "code",
   "execution_count": 15,
   "metadata": {},
   "outputs": [],
   "source": [
    "def plot_cm(labels, preds, dataset, cmap='magma'):\n",
    "    \"\"\"\n",
    "    Plots the confusion matrix for a model trained with a dataset and dataloader.\n",
    "    \"\"\"\n",
    "    # plt.figure(figsize=(8,8))\n",
    "    utils.plot_heatmaps_raw(confusion_matrix(labels, preds), precision=0, cmap=cmap)\n",
    "    plt.colorbar()\n",
    "    plt.xticks(range(config[\"classes\"]), dataset.id_to_class_dict.values(), rotation=90)\n",
    "    plt.yticks(range(config[\"classes\"]), dataset.id_to_class_dict.values(), rotation=0)\n",
    "    plt.xlabel(\"Predicted Label\")\n",
    "    plt.ylabel(\"True Label\")"
   ]
  },
  {
   "cell_type": "code",
   "execution_count": 24,
   "metadata": {},
   "outputs": [
    {
     "data": {
      "text/html": [
       "\n",
       "                Tracking run with wandb version 0.10.32<br/>\n",
       "                Syncing run <strong style=\"color:#cdcd00\">deep-darkness-21</strong> to <a href=\"https://wandb.ai\" target=\"_blank\">Weights & Biases</a> <a href=\"https://docs.wandb.com/integrations/jupyter.html\" target=\"_blank\">(Documentation)</a>.<br/>\n",
       "                Project page: <a href=\"https://wandb.ai/jorgvt/test-pth\" target=\"_blank\">https://wandb.ai/jorgvt/test-pth</a><br/>\n",
       "                Run page: <a href=\"https://wandb.ai/jorgvt/test-pth/runs/1kmuvotj\" target=\"_blank\">https://wandb.ai/jorgvt/test-pth/runs/1kmuvotj</a><br/>\n",
       "                Run data is saved locally in <code>/home/jorgevi/SSD_IA3/Notebooks/wandb/run-20210623_123925-1kmuvotj</code><br/><br/>\n",
       "            "
      ],
      "text/plain": [
       "<IPython.core.display.HTML object>"
      ]
     },
     "metadata": {},
     "output_type": "display_data"
    },
    {
     "name": "stdout",
     "output_type": "stream",
     "text": [
      "Epoch 1 -> [Train] (Loss) 1.5550 (Acc) 0.3588 | [Val] (Loss) 1.4226 (Acc) 0.3669\n",
      "Epoch 2 -> [Train] (Loss) 1.4467 (Acc) 0.3657 | [Val] (Loss) 1.3791 (Acc) 0.3762\n",
      "Epoch 3 -> [Train] (Loss) 1.4040 (Acc) 0.3727 | [Val] (Loss) 1.3547 (Acc) 0.3935\n",
      "Epoch 4 -> [Train] (Loss) 1.3845 (Acc) 0.3704 | [Val] (Loss) 1.3378 (Acc) 0.4039\n",
      "Epoch 5 -> [Train] (Loss) 1.3703 (Acc) 0.3900 | [Val] (Loss) 1.3191 (Acc) 0.4213\n",
      "Epoch 6 -> [Train] (Loss) 1.3492 (Acc) 0.4259 | [Val] (Loss) 1.2938 (Acc) 0.4398\n",
      "Epoch 7 -> [Train] (Loss) 1.3283 (Acc) 0.4398 | [Val] (Loss) 1.2547 (Acc) 0.4942\n",
      "Epoch 8 -> [Train] (Loss) 1.3067 (Acc) 0.4699 | [Val] (Loss) 1.2272 (Acc) 0.4931\n",
      "Epoch 9 -> [Train] (Loss) 1.2719 (Acc) 0.4757 | [Val] (Loss) 1.1830 (Acc) 0.5116\n",
      "Epoch 10 -> [Train] (Loss) 1.2655 (Acc) 0.4606 | [Val] (Loss) 1.1620 (Acc) 0.5116\n",
      "Epoch 11 -> [Train] (Loss) 1.1948 (Acc) 0.4896 | [Val] (Loss) 1.0771 (Acc) 0.5486\n",
      "Epoch 12 -> [Train] (Loss) 1.1396 (Acc) 0.5231 | [Val] (Loss) 1.0597 (Acc) 0.5359\n",
      "Epoch 13 -> [Train] (Loss) 1.1572 (Acc) 0.4942 | [Val] (Loss) 1.1213 (Acc) 0.4919\n",
      "Epoch 14 -> [Train] (Loss) 1.1046 (Acc) 0.5289 | [Val] (Loss) 0.9823 (Acc) 0.5845\n",
      "Epoch 15 -> [Train] (Loss) 1.0218 (Acc) 0.5741 | [Val] (Loss) 0.9156 (Acc) 0.6505\n",
      "Epoch 16 -> [Train] (Loss) 0.9575 (Acc) 0.6181 | [Val] (Loss) 0.8948 (Acc) 0.6678\n",
      "Epoch 17 -> [Train] (Loss) 0.9717 (Acc) 0.6088 | [Val] (Loss) 0.8438 (Acc) 0.6597\n",
      "Epoch 18 -> [Train] (Loss) 0.9009 (Acc) 0.6481 | [Val] (Loss) 0.8068 (Acc) 0.6921\n",
      "Epoch 19 -> [Train] (Loss) 0.8487 (Acc) 0.6644 | [Val] (Loss) 0.8048 (Acc) 0.6921\n",
      "Epoch 20 -> [Train] (Loss) 0.8251 (Acc) 0.6840 | [Val] (Loss) 0.8247 (Acc) 0.7106\n",
      "Epoch 21 -> [Train] (Loss) 0.8013 (Acc) 0.6887 | [Val] (Loss) 0.7407 (Acc) 0.7326\n",
      "Epoch 22 -> [Train] (Loss) 0.8268 (Acc) 0.6655 | [Val] (Loss) 0.7952 (Acc) 0.6875\n",
      "Epoch 23 -> [Train] (Loss) 0.9517 (Acc) 0.5810 | [Val] (Loss) 0.8544 (Acc) 0.6250\n",
      "Epoch 24 -> [Train] (Loss) 0.9190 (Acc) 0.6007 | [Val] (Loss) 0.7953 (Acc) 0.6620\n",
      "Epoch 25 -> [Train] (Loss) 0.8116 (Acc) 0.6586 | [Val] (Loss) 0.6792 (Acc) 0.7315\n",
      "Epoch 26 -> [Train] (Loss) 0.6642 (Acc) 0.7350 | [Val] (Loss) 0.5679 (Acc) 0.8032\n",
      "Epoch 27 -> [Train] (Loss) 0.5968 (Acc) 0.7812 | [Val] (Loss) 0.5214 (Acc) 0.8287\n",
      "Epoch 28 -> [Train] (Loss) 0.5506 (Acc) 0.8160 | [Val] (Loss) 0.4869 (Acc) 0.8715\n",
      "Epoch 29 -> [Train] (Loss) 0.5116 (Acc) 0.8299 | [Val] (Loss) 0.4477 (Acc) 0.8819\n",
      "Epoch 30 -> [Train] (Loss) 0.4718 (Acc) 0.8553 | [Val] (Loss) 0.4281 (Acc) 0.8831\n",
      "Epoch 31 -> [Train] (Loss) 0.4231 (Acc) 0.8681 | [Val] (Loss) 0.3815 (Acc) 0.9028\n",
      "Epoch 32 -> [Train] (Loss) 0.3881 (Acc) 0.8889 | [Val] (Loss) 0.3335 (Acc) 0.9282\n",
      "Epoch 33 -> [Train] (Loss) 0.3539 (Acc) 0.9062 | [Val] (Loss) 0.3134 (Acc) 0.9306\n",
      "Epoch 34 -> [Train] (Loss) 0.3259 (Acc) 0.9236 | [Val] (Loss) 0.2835 (Acc) 0.9340\n",
      "Epoch 35 -> [Train] (Loss) 0.2933 (Acc) 0.9387 | [Val] (Loss) 0.3398 (Acc) 0.9097\n",
      "Epoch 36 -> [Train] (Loss) 0.3762 (Acc) 0.8808 | [Val] (Loss) 0.3041 (Acc) 0.9317\n",
      "Epoch 37 -> [Train] (Loss) 0.2971 (Acc) 0.9352 | [Val] (Loss) 0.2517 (Acc) 0.9502\n",
      "Epoch 38 -> [Train] (Loss) 0.2706 (Acc) 0.9433 | [Val] (Loss) 0.2458 (Acc) 0.9479\n",
      "Epoch 39 -> [Train] (Loss) 0.2254 (Acc) 0.9549 | [Val] (Loss) 0.2807 (Acc) 0.9306\n",
      "Epoch 40 -> [Train] (Loss) 0.2333 (Acc) 0.9502 | [Val] (Loss) 0.3160 (Acc) 0.9201\n",
      "Epoch 41 -> [Train] (Loss) 0.2394 (Acc) 0.9502 | [Val] (Loss) 0.2884 (Acc) 0.9201\n",
      "Epoch 42 -> [Train] (Loss) 0.2129 (Acc) 0.9583 | [Val] (Loss) 0.1769 (Acc) 0.9711\n",
      "Epoch 43 -> [Train] (Loss) 0.1824 (Acc) 0.9630 | [Val] (Loss) 0.1691 (Acc) 0.9699\n",
      "Epoch 44 -> [Train] (Loss) 0.2097 (Acc) 0.9479 | [Val] (Loss) 0.2138 (Acc) 0.9433\n",
      "Epoch 45 -> [Train] (Loss) 0.2112 (Acc) 0.9537 | [Val] (Loss) 0.1563 (Acc) 0.9757\n",
      "Epoch 46 -> [Train] (Loss) 0.1793 (Acc) 0.9630 | [Val] (Loss) 0.1700 (Acc) 0.9641\n",
      "Epoch 47 -> [Train] (Loss) 0.1689 (Acc) 0.9699 | [Val] (Loss) 0.1470 (Acc) 0.9699\n",
      "Epoch 48 -> [Train] (Loss) 0.1649 (Acc) 0.9653 | [Val] (Loss) 0.1309 (Acc) 0.9850\n",
      "Epoch 49 -> [Train] (Loss) 0.1303 (Acc) 0.9826 | [Val] (Loss) 0.0879 (Acc) 0.9977\n",
      "Epoch 50 -> [Train] (Loss) 0.0898 (Acc) 0.9977 | [Val] (Loss) 0.0733 (Acc) 0.9977\n"
     ]
    },
    {
     "data": {
      "text/html": [
       "<br/>Waiting for W&B process to finish, PID 31728<br/>Program ended successfully."
      ],
      "text/plain": [
       "<IPython.core.display.HTML object>"
      ]
     },
     "metadata": {},
     "output_type": "display_data"
    },
    {
     "data": {
      "application/vnd.jupyter.widget-view+json": {
       "model_id": "825141680d48413cafcdf6c708a7d41a",
       "version_major": 2,
       "version_minor": 0
      },
      "text/plain": [
       "VBox(children=(Label(value=' 0.00MB of 0.08MB uploaded (0.00MB deduped)\\r'), FloatProgress(value=0.02338831332…"
      ]
     },
     "metadata": {},
     "output_type": "display_data"
    },
    {
     "data": {
      "text/html": [
       "Find user logs for this run at: <code>/home/jorgevi/SSD_IA3/Notebooks/wandb/run-20210623_123925-1kmuvotj/logs/debug.log</code>"
      ],
      "text/plain": [
       "<IPython.core.display.HTML object>"
      ]
     },
     "metadata": {},
     "output_type": "display_data"
    },
    {
     "data": {
      "text/html": [
       "Find internal logs for this run at: <code>/home/jorgevi/SSD_IA3/Notebooks/wandb/run-20210623_123925-1kmuvotj/logs/debug-internal.log</code>"
      ],
      "text/plain": [
       "<IPython.core.display.HTML object>"
      ]
     },
     "metadata": {},
     "output_type": "display_data"
    },
    {
     "data": {
      "text/html": [
       "<h3>Run summary:</h3><br/><style>\n",
       "    table.wandb td:nth-child(1) { padding: 0 10px; text-align: right }\n",
       "    </style><table class=\"wandb\">\n",
       "<tr><td>loss</td><td>0.08981</td></tr><tr><td>accuracy</td><td>0.99769</td></tr><tr><td>val_loss</td><td>0.07334</td></tr><tr><td>val_accuracy</td><td>0.99769</td></tr><tr><td>_runtime</td><td>289</td></tr><tr><td>_timestamp</td><td>1624445054</td></tr><tr><td>_step</td><td>51</td></tr></table>"
      ],
      "text/plain": [
       "<IPython.core.display.HTML object>"
      ]
     },
     "metadata": {},
     "output_type": "display_data"
    },
    {
     "data": {
      "text/html": [
       "<h3>Run history:</h3><br/><style>\n",
       "    table.wandb td:nth-child(1) { padding: 0 10px; text-align: right }\n",
       "    </style><table class=\"wandb\">\n",
       "<tr><td>loss</td><td>█▇▇▇▇▇▇▇▆▆▆▆▅▅▅▅▄▅▅▅▄▃▃▃▃▂▂▂▂▂▂▂▂▂▁▂▁▁▁▁</td></tr><tr><td>accuracy</td><td>▁▁▁▁▂▂▂▂▂▃▂▃▄▄▄▄▅▄▃▄▅▆▆▆▇▇▇▇▇▇▇█▇██▇████</td></tr><tr><td>val_loss</td><td>████▇▇▇▇▆▆▆▆▅▅▅▅▄▅▅▅▄▃▃▃▃▂▂▂▂▂▂▂▂▂▁▂▂▁▁▁</td></tr><tr><td>val_accuracy</td><td>▁▁▁▁▂▂▂▃▃▃▂▃▄▄▅▅▅▅▄▄▆▆▇▇▇▇▇▇▇▇▇▇▇██▇████</td></tr><tr><td>_runtime</td><td>▁▁▁▁▂▂▂▂▂▃▃▃▃▃▄▄▄▄▄▄▅▅▅▅▅▆▆▆▆▆▇▇▇▇▇▇████</td></tr><tr><td>_timestamp</td><td>▁▁▁▁▂▂▂▂▂▃▃▃▃▃▄▄▄▄▄▄▅▅▅▅▅▆▆▆▆▆▇▇▇▇▇▇████</td></tr><tr><td>_step</td><td>▁▁▁▁▂▂▂▂▂▃▃▃▃▃▃▄▄▄▄▄▅▅▅▅▅▅▆▆▆▆▆▆▇▇▇▇▇███</td></tr></table><br/>"
      ],
      "text/plain": [
       "<IPython.core.display.HTML object>"
      ]
     },
     "metadata": {},
     "output_type": "display_data"
    },
    {
     "data": {
      "text/html": [
       "Synced 6 W&B file(s), 3 media file(s), 0 artifact file(s) and 0 other file(s)"
      ],
      "text/plain": [
       "<IPython.core.display.HTML object>"
      ]
     },
     "metadata": {},
     "output_type": "display_data"
    },
    {
     "data": {
      "text/html": [
       "\n",
       "                    <br/>Synced <strong style=\"color:#cdcd00\">deep-darkness-21</strong>: <a href=\"https://wandb.ai/jorgvt/test-pth/runs/1kmuvotj\" target=\"_blank\">https://wandb.ai/jorgvt/test-pth/runs/1kmuvotj</a><br/>\n",
       "                "
      ],
      "text/plain": [
       "<IPython.core.display.HTML object>"
      ]
     },
     "metadata": {},
     "output_type": "display_data"
    },
    {
     "data": {
      "image/png": "[encoded data removed]",
      "text/plain": [
       "<Figure size 1440x432 with 1 Axes>"
      ]
     },
     "metadata": {
      "needs_background": "light"
     },
     "output_type": "display_data"
    },
    {
     "data": {
      "image/png": "[encoded data removed]",
      "text/plain": [
       "<Figure size 576x576 with 2 Axes>"
      ]
     },
     "metadata": {
      "needs_background": "light"
     },
     "output_type": "display_data"
    }
   ],
   "source": [
    "with wandb.init(project='test-pth', entity='jorgvt', config = config):\n",
    "    configuration = wandb.config\n",
    "\n",
    "    ## Load the data ##\n",
    "    path = \"../Data/PSG1.edf\"\n",
    "    test = EDFData_PTH(path, channels=config['channels'])\n",
    "    testloader = torch.utils.data.DataLoader(test, batch_size = configuration.batch_size, drop_last=True)\n",
    "    sampling_rate = int(test.sampling_rate)\n",
    "    ## Define the model ##\n",
    "    model = TinySleepNet(sampling_rate, configuration.channels, classes=len(test.id_to_class_dict))\n",
    "    model.to(device)\n",
    "    optimizer = torch.optim.Adam(model.parameters())\n",
    "    loss_fn = nn.CrossEntropyLoss()\n",
    "\n",
    "    ## Define the metrics ##\n",
    "    metrics = {\n",
    "    'accuracy':accuracy_fn\n",
    "    }\n",
    "\n",
    "    ## Train the model ##\n",
    "    h = train(model, optimizer, loss_fn, testloader, testloader, configuration.epochs, metrics)\n",
    "\n",
    "    ## Get the labels and predictions for the whole dataset\n",
    "    labels, preds = get_labels_and_preds(model, testloader)\n",
    "    \n",
    "    plt.figure(figsize=(20,6))\n",
    "    # plot_labels_bundle_pth(model, test, testloader)\n",
    "    utils.plot_labels(preds, labels, label_mapper=test.id_to_class_dict)\n",
    "    wandb.log({\"Labels_Preds_Plot\":wandb.Image(plt)})\n",
    "    plt.figure(figsize=(8,8))\n",
    "    # plot_cm_bundle_pth(model, test, testloader)\n",
    "    plot_cm(labels, preds, test)\n",
    "    wandb.log({\"Confusion_Matrix\":wandb.Image(plt)})"
   ]
  }
 ],
 "metadata": {
  "interpreter": {
   "hash": "19dfd1d083436ef0c94dc83e82858078ce2d17debee98da79a4ad2d0556f4e62"
  },
  "kernelspec": {
   "display_name": "Python 3.8.5 64-bit ('ssd': conda)",
   "name": "python3"
  },
  "language_info": {
   "codemirror_mode": {
    "name": "ipython",
    "version": 3
   },
   "file_extension": ".py",
   "mimetype": "text/x-python",
   "name": "python",
   "nbconvert_exporter": "python",
   "pygments_lexer": "ipython3",
   "version": "3.8.5"
  }
 },
 "nbformat": 4,
 "nbformat_minor": 2
}