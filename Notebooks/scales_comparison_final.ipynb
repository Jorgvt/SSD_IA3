{
 "cells": [
  {
   "cell_type": "code",
   "execution_count": 1,
   "source": [
    "import os\r\n",
    "from glob import glob\r\n",
    "import re \r\n",
    "import math\r\n",
    "from pathlib import Path \r\n",
    "import warnings\r\n",
    "warnings.filterwarnings(\"ignore\", category=RuntimeWarning) \r\n",
    "\r\n",
    "\r\n",
    "import numpy as np\r\n",
    "import matplotlib.pyplot as plt\r\n",
    "import torch\r\n",
    "import torch.nn as nn\r\n",
    "import torch.nn.functional as F\r\n",
    "import mne\r\n",
    "mne.set_log_level(verbose=False)\r\n",
    "import wandb\r\n",
    "\r\n",
    "from Datasets import *\r\n",
    "\r\n",
    "from utils_folder.callbacks import *\r\n",
    "from utils_folder.training_pth import *\r\n",
    "from utils_folder.plotting import *\r\n",
    "from utils_folder.utils import get_labels_and_preds"
   ],
   "outputs": [],
   "metadata": {}
  },
  {
   "cell_type": "code",
   "execution_count": 2,
   "source": [
    "def get_order(file_path):\r\n",
    "    \"\"\"\r\n",
    "    Used to order the results from glob, so that the patients are\r\n",
    "    properly concatenated.\r\n",
    "    \"\"\"\r\n",
    "    match = file_pattern.match(Path(file_path).name)\r\n",
    "    if not match:\r\n",
    "        return math.inf\r\n",
    "    return int(match.groups()[0])"
   ],
   "outputs": [],
   "metadata": {}
  },
  {
   "cell_type": "code",
   "execution_count": null,
   "source": [
    "## Define the regex to sort the files and obtain the paths list\r\n",
    "file_pattern = re.compile(r'.*?(\\d+).*?')\r\n",
    "sorted_files = sorted(glob(\"/media/usbdisk/data/ProyectoPSG/data/*.edf\"), key=get_order)\r\n",
    "### Remove the 10th patient\r\n",
    "sorted_files_no_10 = [a for a in sorted_files if re.findall(r'\\d+', a)[0]!='10']\r\n",
    "\r\n",
    "## Load the data\r\n",
    "datasets = [EDFData_PTH(path_glob, channels=config.channels, binary=config.binary) for path_glob in sorted_files_no_10]"
   ],
   "outputs": [],
   "metadata": {}
  }
 ],
 "metadata": {
  "orig_nbformat": 4,
  "language_info": {
   "name": "python",
   "version": "3.8.5",
   "mimetype": "text/x-python",
   "codemirror_mode": {
    "name": "ipython",
    "version": 3
   },
   "pygments_lexer": "ipython3",
   "nbconvert_exporter": "python",
   "file_extension": ".py"
  },
  "kernelspec": {
   "name": "python3",
   "display_name": "Python 3.8.5 64-bit ('Master': conda)"
  },
  "interpreter": {
   "hash": "57d46a1f3f975f92cc34d815bf69a7d3644582cc16f1cedc66cb95f17202c91e"
  }
 },
 "nbformat": 4,
 "nbformat_minor": 2
}