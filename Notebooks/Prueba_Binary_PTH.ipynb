{
 "cells": [
  {
   "cell_type": "code",
   "execution_count": 1,
   "metadata": {},
   "outputs": [],
   "source": [
    "import os\n",
    "from glob import glob\n",
    "import warnings\n",
    "warnings.filterwarnings(\"ignore\", category=RuntimeWarning) \n",
    "\n",
    "import numpy as np\n",
    "import matplotlib.pyplot as plt\n",
    "from sklearn.metrics import confusion_matrix\n",
    "import torch\n",
    "import torch.nn as nn\n",
    "import torch.nn.functional as F\n",
    "import mne\n",
    "mne.set_log_level(verbose=False)\n",
    "import wandb\n",
    "\n",
    "from Datasets import *\n",
    "import utils"
   ]
  },
  {
   "cell_type": "code",
   "execution_count": 2,
   "metadata": {},
   "outputs": [
    {
     "name": "stderr",
     "output_type": "stream",
     "text": [
      "\u001b[34m\u001b[1mwandb\u001b[0m: Currently logged in as: \u001b[33mjorgvt\u001b[0m (use `wandb login --relogin` to force relogin)\n"
     ]
    },
    {
     "data": {
      "text/plain": [
       "True"
      ]
     },
     "execution_count": 2,
     "metadata": {},
     "output_type": "execute_result"
    }
   ],
   "source": [
    "wandb.login()"
   ]
  },
  {
   "cell_type": "code",
   "execution_count": 3,
   "metadata": {},
   "outputs": [],
   "source": [
    "config = {\n",
    "    'epochs':50,\n",
    "    'classes':5,\n",
    "    'batch_size':32,\n",
    "    'learning_rate':0.001,\n",
    "    'channels':['C3','C4','O1','O2','LOC','ROC','CHIN1'],\n",
    "    'patients_train':1,\n",
    "    'patients_test':2,\n",
    "    'binary':True,\n",
    "    'metadata': \"Awake-Sleep test\"\n",
    "}"
   ]
  },
  {
   "cell_type": "code",
   "execution_count": 4,
   "metadata": {},
   "outputs": [
    {
     "data": {
      "text/plain": [
       "device(type='cuda', index=2)"
      ]
     },
     "execution_count": 4,
     "metadata": {},
     "output_type": "execute_result"
    }
   ],
   "source": [
    "device = torch.device(\"cuda:2\" if torch.cuda.is_available() else \"cpu\")\n",
    "device"
   ]
  },
  {
   "cell_type": "code",
   "execution_count": 5,
   "metadata": {},
   "outputs": [],
   "source": [
    "path = \"../Data/PSG1.edf\"\n",
    "test = EDFData_PTH(path, channels=config['channels'], binary=True)\n",
    "testloader = torch.utils.data.DataLoader(test, batch_size = config['batch_size'], drop_last=True)"
   ]
  },
  {
   "cell_type": "code",
   "execution_count": 6,
   "metadata": {},
   "outputs": [
    {
     "data": {
      "text/plain": [
       "array([0, 1])"
      ]
     },
     "execution_count": 6,
     "metadata": {},
     "output_type": "execute_result"
    }
   ],
   "source": [
    "labels = []\n",
    "for X, Y in test:\n",
    "    labels.append(Y.item())\n",
    "np.unique(labels)"
   ]
  },
  {
   "cell_type": "code",
   "execution_count": 7,
   "metadata": {},
   "outputs": [
    {
     "data": {
      "text/plain": [
       "512"
      ]
     },
     "execution_count": 7,
     "metadata": {},
     "output_type": "execute_result"
    }
   ],
   "source": [
    "sampling_rate = int(test.sampling_rate)\n",
    "sampling_rate"
   ]
  },
  {
   "cell_type": "code",
   "execution_count": 8,
   "metadata": {},
   "outputs": [],
   "source": [
    "class TinySleepNet(nn.Module):\n",
    "    def __init__(self, sampling_rate, channels, classes):\n",
    "        super(TinySleepNet, self).__init__()\n",
    "        self.sampling_rate = sampling_rate\n",
    "        self.channels = channels\n",
    "        self.classes = classes\n",
    "\n",
    "        self.feature_extraction = nn.Sequential(*[\n",
    "            nn.Conv1d(in_channels=len(channels), out_channels=128, kernel_size=sampling_rate//2, stride=sampling_rate//4),\n",
    "            nn.ReLU(),\n",
    "            nn.MaxPool1d(kernel_size=8, stride=8),\n",
    "            nn.Conv1d(in_channels=128, out_channels=128, kernel_size=8, stride=1, padding=3),\n",
    "            nn.ReLU(),\n",
    "            nn.Conv1d(in_channels=128, out_channels=128, kernel_size=8, stride=1, padding=3),\n",
    "            nn.ReLU(),\n",
    "            nn.Conv1d(in_channels=128, out_channels=128, kernel_size=8, stride=1, padding=3),\n",
    "            nn.ReLU(),\n",
    "            nn.MaxPool1d(kernel_size=4, stride=4)\n",
    "        ])\n",
    "\n",
    "        self.lstm = nn.LSTM(input_size=128, hidden_size=128, batch_first=True)\n",
    "        \n",
    "        self.classifier = nn.Linear(128*2, classes)\n",
    "\n",
    "    def forward(self, X):\n",
    "        X = self.feature_extraction(X)\n",
    "        # X, _ = self.lstm(X.permute(0,2,1))\n",
    "        # X = X[:,-1,:]\n",
    "        X = X.view(X.shape[0],-1)\n",
    "        X = self.classifier(X)\n",
    "        return X"
   ]
  },
  {
   "cell_type": "code",
   "execution_count": 9,
   "metadata": {},
   "outputs": [
    {
     "data": {
      "text/plain": [
       "TinySleepNet(\n",
       "  (feature_extraction): Sequential(\n",
       "    (0): Conv1d(7, 128, kernel_size=(256,), stride=(128,))\n",
       "    (1): ReLU()\n",
       "    (2): MaxPool1d(kernel_size=8, stride=8, padding=0, dilation=1, ceil_mode=False)\n",
       "    (3): Conv1d(128, 128, kernel_size=(8,), stride=(1,), padding=(3,))\n",
       "    (4): ReLU()\n",
       "    (5): Conv1d(128, 128, kernel_size=(8,), stride=(1,), padding=(3,))\n",
       "    (6): ReLU()\n",
       "    (7): Conv1d(128, 128, kernel_size=(8,), stride=(1,), padding=(3,))\n",
       "    (8): ReLU()\n",
       "    (9): MaxPool1d(kernel_size=4, stride=4, padding=0, dilation=1, ceil_mode=False)\n",
       "  )\n",
       "  (lstm): LSTM(128, 128, batch_first=True)\n",
       "  (classifier): Linear(in_features=256, out_features=2, bias=True)\n",
       ")"
      ]
     },
     "execution_count": 9,
     "metadata": {},
     "output_type": "execute_result"
    }
   ],
   "source": [
    "model = TinySleepNet(sampling_rate, config['channels'], classes=len(test.id_to_class_dict))\n",
    "model.to(device)\n",
    "optimizer = torch.optim.Adam(model.parameters())\n",
    "loss_fn = nn.CrossEntropyLoss()\n",
    "model"
   ]
  },
  {
   "cell_type": "code",
   "execution_count": 10,
   "metadata": {},
   "outputs": [
    {
     "data": {
      "text/plain": [
       "torch.Size([32, 2])"
      ]
     },
     "execution_count": 10,
     "metadata": {},
     "output_type": "execute_result"
    }
   ],
   "source": [
    "for X, Y in testloader:\n",
    "    X = X.to(device).float()\n",
    "    with torch.no_grad():\n",
    "        pap = model(X)\n",
    "    break\n",
    "pap.shape"
   ]
  },
  {
   "cell_type": "code",
   "execution_count": 11,
   "metadata": {},
   "outputs": [],
   "source": [
    "def train_step(model, optimizer, loss_fn, history, X, Y, metrics=None):\n",
    "    \"\"\"\n",
    "    Trains the model over a batch.\n",
    "\n",
    "    Parameters\n",
    "    ----------\n",
    "    model: nn.Module\n",
    "        Torch model.\n",
    "    optimizer:\n",
    "        Torch optimizer.\n",
    "    loss_fn:\n",
    "        Torch loss function.\n",
    "    X: torch.Tensor\n",
    "    Y: torch.Tensor\n",
    "    metrics: dict{str:functions}\n",
    "        Dict of functions (metrics) we want to calculate and their name.\n",
    "    \n",
    "    Returns\n",
    "    -------\n",
    "    history: dict{str:float}\n",
    "        Dictionary of metrics.\n",
    "    \"\"\"\n",
    "    optimizer.zero_grad()\n",
    "    pred = model(X)\n",
    "    loss = loss_fn(pred, Y)\n",
    "    loss.backward()\n",
    "\n",
    "    history['loss'] = loss.item()\n",
    "    if metrics:\n",
    "        with torch.no_grad():\n",
    "            for name, metric_fn in metrics.items():\n",
    "                history[name] = metric_fn(pred, Y)\n",
    "\n",
    "    optimizer.step()\n",
    "    return history"
   ]
  },
  {
   "cell_type": "code",
   "execution_count": 12,
   "metadata": {},
   "outputs": [],
   "source": [
    "def val_step(model, optimizer, loss_fn, history, X, Y, metrics=None):\n",
    "    \"\"\"\n",
    "    Calculates the validation metrics over a batch.\n",
    "\n",
    "    Parameters\n",
    "    ----------\n",
    "    model: nn.Module\n",
    "        Torch model.\n",
    "    optimizer:\n",
    "        Torch optimizer.\n",
    "    loss_fn:\n",
    "        Torch loss function.\n",
    "    X: torch.Tensor\n",
    "    Y: torch.Tensor\n",
    "    metrics: dict{str:functions}\n",
    "        Dict of functions (metrics) we want to calculate and their name.\n",
    "    \n",
    "    Returns\n",
    "    -------\n",
    "    history: dict{str:float}\n",
    "        Dictionary of metrics.\n",
    "    \"\"\"\n",
    "    with torch.no_grad():\n",
    "        pred = model(X)\n",
    "        loss = loss_fn(pred, Y)\n",
    "\n",
    "        history['val_loss'] = loss.item()\n",
    "        if metrics:\n",
    "            for name, metric_fn in metrics.items():\n",
    "                history['val_'+name] = metric_fn(pred, Y)\n",
    "\n",
    "    return history"
   ]
  },
  {
   "cell_type": "code",
   "execution_count": 13,
   "metadata": {},
   "outputs": [],
   "source": [
    "class History():\n",
    "    \"\"\"\n",
    "    Class designed to track the metrics during the training of a NN.\n",
    "    \"\"\"\n",
    "    \n",
    "    def __init__(self):\n",
    "        self.history = {}\n",
    "\n",
    "    def update(self, history):\n",
    "        \"\"\"\n",
    "        Adds new values to the history.\n",
    "\n",
    "        Parameters\n",
    "        ----------\n",
    "        history: dict{str:float}\n",
    "\n",
    "        Returns\n",
    "        -------\n",
    "        None\n",
    "        \"\"\"\n",
    "        for metric_name, metric_value in history.items():\n",
    "            if metric_name not in self.history.keys():\n",
    "                self.history[metric_name] = [metric_value]\n",
    "            else:\n",
    "                self.history[metric_name].append(metric_value)\n",
    "\n",
    "    def return_lasts(self):\n",
    "        return {name:value[-1] for name, value in self.history.items()}\n",
    "        \n",
    "    \n",
    "    def plot_history(self, figsize=(16,6)):\n",
    "        \"\"\"\n",
    "        Plots the history values.\n",
    "\n",
    "        Parameters\n",
    "        ----------\n",
    "        history: History object\n",
    "\n",
    "        Returns\n",
    "        -------\n",
    "        None\n",
    "        \"\"\"\n",
    "        ## First retrieve metrics names ## \n",
    "        metrics_names = [a for a in self.history.keys() if a[:3]!='val']\n",
    "        \n",
    "        rows = 1\n",
    "        cols = len(metrics_names)\n",
    "\n",
    "        plt.figure(figsize=figsize)\n",
    "        for i,a in enumerate(metrics_names,1):\n",
    "            plt.subplot(rows,cols,i)\n",
    "            plt.title(a)\n",
    "            plt.plot(self.history[a], label=\"Train\")\n",
    "            plt.plot(self.history[\"val_\"+a], label=\"Validation\")\n",
    "            plt.legend()\n",
    "\n",
    "        plt.show()"
   ]
  },
  {
   "cell_type": "code",
   "execution_count": 14,
   "metadata": {},
   "outputs": [],
   "source": [
    "def accuracy_fn(Y_pred, Y_true):\n",
    "    \"\"\"\n",
    "    Calculates the accuracy of our model given its predictions and labels.\n",
    "\n",
    "    Parameters\n",
    "    ----------\n",
    "    Y_pred: torch.Tensor\n",
    "        Raw output from the nn (logits).\n",
    "    Y_true: torch.Tensor\n",
    "        Objective labels.\n",
    "    \n",
    "    Returns\n",
    "    -------\n",
    "    accuracy: float\n",
    "    \"\"\"\n",
    "    Y_pred = torch.softmax(Y_pred, dim=-1)\n",
    "    Y_pred = Y_pred.argmax(dim=-1)\n",
    "    accuracy = torch.where(Y_pred==Y_true, 1, 0).sum() / len(Y_true)\n",
    "\n",
    "    return accuracy.item()"
   ]
  },
  {
   "cell_type": "code",
   "execution_count": 15,
   "metadata": {},
   "outputs": [],
   "source": [
    "def train_fn(model, optimizer, loss_fn, trainloader, testloader, epochs, metrics, history=History, verbose=True):\n",
    "    ## Tell wandb to watch the model\n",
    "    wandb.watch(model, loss_fn, log=\"all\", log_freq=10)\n",
    "\n",
    "    history_epoch = history()\n",
    "\n",
    "    for epoch in range(epochs):\n",
    "        history_batch = history()\n",
    "        for batch_i, (X, Y) in enumerate(trainloader, 1):\n",
    "            X, Y = X.to(device).float(), torch.squeeze(Y).long().to(device)\n",
    "            history_train = train_step(model, optimizer, loss_fn, {}, X, Y, metrics)\n",
    "            history_batch.update(history_train)\n",
    "            \n",
    "        for batch_i, (X, Y) in enumerate(testloader, 1):\n",
    "            X, Y = X.to(device).float(), torch.squeeze(Y).long().to(device)\n",
    "            history_val = val_step(model, optimizer, loss_fn, {}, X, Y, metrics)\n",
    "            history_batch.update(history_val)\n",
    "            \n",
    "        history_epoch.update({name:np.mean(values) for name,values in history_batch.history.items()})\n",
    "        if verbose:\n",
    "            print(f\"Epoch {epoch+1} -> [Train] (Loss) {history_epoch.history['loss'][-1]:.4f} (Acc) {history_epoch.history['accuracy'][-1]:.4f} | [Val] (Loss) {history_epoch.history['val_loss'][-1]:.4f} (Acc) {history_epoch.history['val_accuracy'][-1]:.4f}\")\n",
    "        \n",
    "        ## Log the metrics to WandB\n",
    "        wandb.log(history_epoch.return_lasts())\n",
    "\n",
    "    return history_epoch"
   ]
  },
  {
   "cell_type": "code",
   "execution_count": 16,
   "metadata": {},
   "outputs": [],
   "source": [
    "def get_labels_and_preds(model, dataloader):\n",
    "    \"\"\"\n",
    "    Gets the true and predicted labels for a given dataloader.\n",
    "    \"\"\"\n",
    "    labels = []\n",
    "    preds = []\n",
    "    ## Get every prediction and label\n",
    "    for X, Y in dataloader:\n",
    "        X = X.to(device).float()\n",
    "        with torch.no_grad():\n",
    "            pred = model(X)\n",
    "            pred = pred.softmax(-1).argmax(-1)\n",
    "            preds.extend(pred.cpu().numpy())\n",
    "            labels.extend(Y.numpy())\n",
    "    \n",
    "    return labels, preds"
   ]
  },
  {
   "cell_type": "code",
   "execution_count": 17,
   "metadata": {},
   "outputs": [],
   "source": [
    "def plot_labels_bundle_pth(model, dataset, dataloader):\n",
    "    \"\"\"\n",
    "    Plots the true labels and the predicted labels versus time.\n",
    "    \"\"\"\n",
    "    preds = []\n",
    "    labels = []\n",
    "    ## Get every prediction and label\n",
    "    for X, Y in dataloader:\n",
    "        X = X.to(device).float()\n",
    "        with torch.no_grad():\n",
    "            pred = model(X)\n",
    "            pred = pred.softmax(-1).argmax(-1)\n",
    "            preds.extend(pred.cpu().numpy())\n",
    "            labels.extend(Y.numpy())\n",
    "    \n",
    "    ## Plot the figure\n",
    "    plt.figure(figsize=(20,6))\n",
    "    utils.plot_labels(labels, preds, dataset.id_to_class_dict)"
   ]
  },
  {
   "cell_type": "code",
   "execution_count": 18,
   "metadata": {},
   "outputs": [],
   "source": [
    "def plot_cm_bundle_pth(model, dataset, dataloader, cmap='magma'):\n",
    "    \"\"\"\n",
    "    Plots the confusion matrix for a model trained with a dataset and dataloader.\n",
    "    \"\"\"\n",
    "    preds = []\n",
    "    labels = []\n",
    "    ## Get every prediction and label\n",
    "    for X, Y in dataloader:\n",
    "        X = X.to(device).float()\n",
    "        with torch.no_grad():\n",
    "            pred = model(X)\n",
    "            pred = pred.softmax(-1).argmax(-1)\n",
    "            preds.extend(pred.cpu().numpy())\n",
    "            labels.extend(Y.numpy())\n",
    "    \n",
    "    ## Plot confusion matrix\n",
    "    plt.figure(figsize=(8,8))\n",
    "    utils.plot_heatmaps_raw(confusion_matrix(labels, preds), precision=0, cmap=cmap)\n",
    "    plt.colorbar()\n",
    "    plt.xticks(range(len(dataset.id_to_class_dict)), dataset.id_to_class_dict.values(), rotation=90)\n",
    "    plt.yticks(range(len(dataset.id_to_class_dict)), dataset.id_to_class_dict.values(), rotation=0)\n",
    "    plt.xlabel(\"Predicted Label\")\n",
    "    plt.ylabel(\"True Label\")"
   ]
  },
  {
   "cell_type": "code",
   "execution_count": 19,
   "metadata": {},
   "outputs": [],
   "source": [
    "def plot_cm(labels, preds, dataset, cmap='magma'):\n",
    "    \"\"\"\n",
    "    Plots the confusion matrix for a model trained with a dataset and dataloader.\n",
    "    \"\"\"\n",
    "    # plt.figure(figsize=(8,8))\n",
    "    utils.plot_heatmaps_raw(confusion_matrix(labels, preds), precision=0, cmap=cmap)\n",
    "    plt.colorbar()\n",
    "    plt.xticks(range(len(dataset.id_to_class_dict)), dataset.id_to_class_dict.values(), rotation=90)\n",
    "    plt.yticks(range(len(dataset.id_to_class_dict)), dataset.id_to_class_dict.values(), rotation=0)\n",
    "    plt.xlabel(\"Predicted Label\")\n",
    "    plt.ylabel(\"True Label\")"
   ]
  },
  {
   "cell_type": "code",
   "execution_count": 20,
   "metadata": {},
   "outputs": [
    {
     "name": "stderr",
     "output_type": "stream",
     "text": [
      "\u001b[34m\u001b[1mwandb\u001b[0m: wandb version 0.10.33 is available!  To upgrade, please run:\n",
      "\u001b[34m\u001b[1mwandb\u001b[0m:  $ pip install wandb --upgrade\n"
     ]
    },
    {
     "data": {
      "text/html": [
       "\n",
       "                Tracking run with wandb version 0.10.32<br/>\n",
       "                Syncing run <strong style=\"color:#cdcd00\">royal-serenity-42</strong> to <a href=\"https://wandb.ai\" target=\"_blank\">Weights & Biases</a> <a href=\"https://docs.wandb.com/integrations/jupyter.html\" target=\"_blank\">(Documentation)</a>.<br/>\n",
       "                Project page: <a href=\"https://wandb.ai/jorgvt/test-pth\" target=\"_blank\">https://wandb.ai/jorgvt/test-pth</a><br/>\n",
       "                Run page: <a href=\"https://wandb.ai/jorgvt/test-pth/runs/28n5lnka\" target=\"_blank\">https://wandb.ai/jorgvt/test-pth/runs/28n5lnka</a><br/>\n",
       "                Run data is saved locally in <code>/home/jorgevi/SSD_IA3/Notebooks/wandb/run-20210704_163154-28n5lnka</code><br/><br/>\n",
       "            "
      ],
      "text/plain": [
       "<IPython.core.display.HTML object>"
      ]
     },
     "metadata": {},
     "output_type": "display_data"
    },
    {
     "name": "stdout",
     "output_type": "stream",
     "text": [
      "Epoch 1 -> [Train] (Loss) 0.7183 (Acc) 0.7569 | [Val] (Loss) 0.6162 (Acc) 0.9784\n"
     ]
    },
    {
     "data": {
      "text/html": [
       "<br/>Waiting for W&B process to finish, PID 16780<br/>Program ended successfully."
      ],
      "text/plain": [
       "<IPython.core.display.HTML object>"
      ]
     },
     "metadata": {},
     "output_type": "display_data"
    },
    {
     "data": {
      "application/vnd.jupyter.widget-view+json": {
       "model_id": "23fa4ea38f5f4b7b99347a626986d314",
       "version_major": 2,
       "version_minor": 0
      },
      "text/plain": [
       "VBox(children=(Label(value=' 0.10MB of 0.10MB uploaded (0.00MB deduped)\\r'), FloatProgress(value=1.0, max=1.0)…"
      ]
     },
     "metadata": {},
     "output_type": "display_data"
    },
    {
     "data": {
      "text/html": [
       "Find user logs for this run at: <code>/home/jorgevi/SSD_IA3/Notebooks/wandb/run-20210704_163154-28n5lnka/logs/debug.log</code>"
      ],
      "text/plain": [
       "<IPython.core.display.HTML object>"
      ]
     },
     "metadata": {},
     "output_type": "display_data"
    },
    {
     "data": {
      "text/html": [
       "Find internal logs for this run at: <code>/home/jorgevi/SSD_IA3/Notebooks/wandb/run-20210704_163154-28n5lnka/logs/debug-internal.log</code>"
      ],
      "text/plain": [
       "<IPython.core.display.HTML object>"
      ]
     },
     "metadata": {},
     "output_type": "display_data"
    },
    {
     "data": {
      "text/html": [
       "<h3>Run summary:</h3><br/><style>\n",
       "    table.wandb td:nth-child(1) { padding: 0 10px; text-align: right }\n",
       "    </style><table class=\"wandb\">\n",
       "<tr><td>loss</td><td>0.71835</td></tr><tr><td>accuracy</td><td>0.75694</td></tr><tr><td>val_loss</td><td>0.61621</td></tr><tr><td>val_accuracy</td><td>0.97837</td></tr><tr><td>_runtime</td><td>37</td></tr><tr><td>_timestamp</td><td>1625409151</td></tr><tr><td>_step</td><td>4</td></tr></table>"
      ],
      "text/plain": [
       "<IPython.core.display.HTML object>"
      ]
     },
     "metadata": {},
     "output_type": "display_data"
    },
    {
     "data": {
      "text/html": [
       "<h3>Run history:</h3><br/><style>\n",
       "    table.wandb td:nth-child(1) { padding: 0 10px; text-align: right }\n",
       "    </style><table class=\"wandb\">\n",
       "<tr><td>loss</td><td>▁</td></tr><tr><td>accuracy</td><td>▁</td></tr><tr><td>val_loss</td><td>▁</td></tr><tr><td>val_accuracy</td><td>▁</td></tr><tr><td>_runtime</td><td>▁▇▇▇█</td></tr><tr><td>_timestamp</td><td>▁▇▇▇█</td></tr><tr><td>_step</td><td>▁▃▅▆█</td></tr></table><br/>"
      ],
      "text/plain": [
       "<IPython.core.display.HTML object>"
      ]
     },
     "metadata": {},
     "output_type": "display_data"
    },
    {
     "data": {
      "text/html": [
       "Synced 6 W&B file(s), 4 media file(s), 0 artifact file(s) and 0 other file(s)"
      ],
      "text/plain": [
       "<IPython.core.display.HTML object>"
      ]
     },
     "metadata": {},
     "output_type": "display_data"
    },
    {
     "data": {
      "text/html": [
       "\n",
       "                    <br/>Synced <strong style=\"color:#cdcd00\">royal-serenity-42</strong>: <a href=\"https://wandb.ai/jorgvt/test-pth/runs/28n5lnka\" target=\"_blank\">https://wandb.ai/jorgvt/test-pth/runs/28n5lnka</a><br/>\n",
       "                "
      ],
      "text/plain": [
       "<IPython.core.display.HTML object>"
      ]
     },
     "metadata": {},
     "output_type": "display_data"
    },
    {
     "data": {
      "image/png": "[encoded data removed]",
      "text/plain": [
       "<Figure size 1440x432 with 1 Axes>"
      ]
     },
     "metadata": {
      "needs_background": "light"
     },
     "output_type": "display_data"
    },
    {
     "data": {
      "image/png": "[encoded data removed]",
      "text/plain": [
       "<Figure size 576x576 with 2 Axes>"
      ]
     },
     "metadata": {
      "needs_background": "light"
     },
     "output_type": "display_data"
    },
    {
     "data": {
      "image/png": "[encoded data removed]",
      "text/plain": [
       "<Figure size 1440x432 with 1 Axes>"
      ]
     },
     "metadata": {
      "needs_background": "light"
     },
     "output_type": "display_data"
    },
    {
     "data": {
      "image/png": "[encoded data removed]",
      "text/plain": [
       "<Figure size 576x576 with 2 Axes>"
      ]
     },
     "metadata": {
      "needs_background": "light"
     },
     "output_type": "display_data"
    }
   ],
   "source": [
    "with wandb.init(project='test-pth', entity='jorgvt', config = config):\n",
    "    configuration = wandb.config\n",
    "\n",
    "    ## Load the data ##\n",
    "    path_train = \"../Data/PSG1.edf\"\n",
    "    path_test = \"../Data/PSG2.edf\"\n",
    "    train = EDFData_PTH(path_train, channels=configuration.channels, binary=configuration.binary)\n",
    "    trainloader = torch.utils.data.DataLoader(train, batch_size = configuration.batch_size, drop_last=True)\n",
    "    test = EDFData_PTH(path_test, channels=configuration.channels, binary=configuration.binary)\n",
    "    testloader = torch.utils.data.DataLoader(test, batch_size = configuration.batch_size, drop_last=True)\n",
    "    sampling_rate = int(test.sampling_rate)\n",
    "\n",
    "    ## Define the model ##\n",
    "    model = TinySleepNet(sampling_rate, configuration.channels, classes=2)\n",
    "    model.to(device)\n",
    "    optimizer = torch.optim.Adam(model.parameters())\n",
    "    loss_fn = nn.CrossEntropyLoss()\n",
    "\n",
    "    ## Define the metrics ##\n",
    "    metrics = {\n",
    "    'accuracy':accuracy_fn\n",
    "    }\n",
    "\n",
    "    ## Train the model ##\n",
    "    h = train_fn(model, optimizer, loss_fn, trainloader, testloader, configuration.epochs, metrics)\n",
    "\n",
    "    ## Get the labels and predictions for the whole datasets\n",
    "    labels_train, preds_train = get_labels_and_preds(model, trainloader)\n",
    "    labels_test, preds_test = get_labels_and_preds(model, testloader)\n",
    "    \n",
    "    ## Create and log figures\n",
    "    ### Train\n",
    "    plt.figure(figsize=(20,6))\n",
    "    utils.plot_labels(preds_train, labels_train, label_mapper=train.id_to_class_dict)\n",
    "    wandb.log({\"Labels_Preds_Plot_Train\":wandb.Image(plt)})\n",
    "    plt.figure(figsize=(8,8))\n",
    "    plot_cm(labels_train, preds_train, train)\n",
    "    wandb.log({\"Confusion_Matrix_Train\":wandb.Image(plt)})\n",
    "    ### Test\n",
    "    plt.figure(figsize=(20,6))\n",
    "    utils.plot_labels(preds_test, labels_test, label_mapper=train.id_to_class_dict)\n",
    "    wandb.log({\"Labels_Preds_Plot_Test\":wandb.Image(plt)})\n",
    "    plt.figure(figsize=(8,8))\n",
    "    plot_cm(labels_test, preds_test, test)\n",
    "    wandb.log({\"Confusion_Matrix_Test\":wandb.Image(plt)})"
   ]
  },
  {
   "cell_type": "code",
   "execution_count": null,
   "metadata": {},
   "outputs": [],
   "source": []
  }
 ],
 "metadata": {
  "interpreter": {
   "hash": "19dfd1d083436ef0c94dc83e82858078ce2d17debee98da79a4ad2d0556f4e62"
  },
  "kernelspec": {
   "display_name": "Python 3.8.5 64-bit ('ssd': conda)",
   "name": "python3"
  },
  "language_info": {
   "codemirror_mode": {
    "name": "ipython",
    "version": 3
   },
   "file_extension": ".py",
   "mimetype": "text/x-python",
   "name": "python",
   "nbconvert_exporter": "python",
   "pygments_lexer": "ipython3",
   "version": "3.8.5"
  }
 },
 "nbformat": 4,
 "nbformat_minor": 2
}