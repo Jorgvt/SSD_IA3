{
 "cells": [
  {
   "cell_type": "code",
   "execution_count": 112,
   "id": "df2614e4",
   "metadata": {},
   "outputs": [],
   "source": [
    "from numpy import save\n",
    "import mne\n",
    "import numpy as np\n",
    "import matplotlib.pyplot as plt\n",
    "import pandas as pd\n",
    "from sklearn.preprocessing import StandardScaler\n",
    "\n",
    "def datos(file):\n",
    "    data = mne.io.read_raw_edf(f'{file}.edf')\n",
    "    raw_data = data.get_data()\n",
    "    events, events_id = mne.events_from_annotations(data)\n",
    "    tmax = 30. - 1. / data.info['sfreq']  # tmax in included\n",
    "\n",
    "    epochs_train = mne.Epochs(raw=data, events=events,\n",
    "                              event_id=events_id, tmin=0., tmax=tmax, baseline=None, event_repeated='merge')\n",
    "    patatuela = epochs_train.load_data()\n",
    "    id_to_class_dict = {value:key for key, value in patatuela.event_id.items()}\n",
    "\n",
    "    objective_stages = ['Sleep stage N1','Sleep stage N2','Sleep stage N3','Sleep stage R','Sleep stage W']\n",
    "    epochs_to_df = [a for a in patatuela]\n",
    "    epochs_to_df = []\n",
    "    label_to_df = []\n",
    "    for epoch, label in zip(patatuela, patatuela.events[:,-1]):\n",
    "        # print(label)\n",
    "        label = id_to_class_dict[label]\n",
    "        if label in objective_stages:\n",
    "            # print(\"True\")\n",
    "            epochs_to_df.append(epoch)\n",
    "            label_to_df.append(label)\n",
    "    dict_to_df = {\"Epoch\":epochs_to_df,\"Label\":label_to_df}\n",
    "    df1=pd.DataFrame(dict_to_df)\n",
    "    valores=df1.Epoch.values\n",
    "    channels = data.ch_names\n",
    "    diccionarios=[dict(zip(channels, sublist)) for sublist in valores]\n",
    "    c3=[d['C3'] for d in diccionarios]\n",
    "    c4=[d['C4'] for d in diccionarios]\n",
    "    o1=[d['O1'] for d in diccionarios]\n",
    "    o2=[d['O2'] for d in diccionarios]\n",
    "    loc=[d['LOC'] for d in diccionarios]\n",
    "    roc=[d['ROC'] for d in diccionarios]\n",
    "    chin=[d['CHIN1'] for d in diccionarios]\n",
    "#     sc=StandardScaler()\n",
    "#     c3_sc=(c3-np.mean(c3))/np.std(c3)\n",
    "#     c4_sc=(c4-np.mean(c4))/np.std(c4)\n",
    "#     o1_sc=(o1-np.mean(o1))/np.std(o1)\n",
    "#     o2_sc=(o2-np.mean(o2))/np.std(o2)\n",
    "#     loc_sc=(loc-np.mean(loc))/np.std(loc)\n",
    "#     roc_sc=(roc-np.mean(roc))/np.std(roc)\n",
    "#     chin_sc=(chin-np.mean(chin))/np.std(chin)\n",
    "    matriz=np.array([c3,c4,o1,o2,loc,roc,chin])\n",
    "    \n",
    "    matriz=np.transpose(matriz,axes=(1,2,0))\n",
    "\n",
    "    name=file\n",
    "    save(f'datos_{name}.npy', matriz)\n",
    "    df1.Label.to_csv(f'Etiquetas_{name}.csv',index=None)\n",
    "\n",
    "    return diccionarios,valores,channels, df1.Label"
   ]
  },
  {
   "cell_type": "code",
   "execution_count": 2,
   "id": "a3fc4feb",
   "metadata": {},
   "outputs": [],
   "source": [
    "X_psg1=np.load('datos_PSG1.npy')\n",
    "X_psg2=np.load('datos_PSG2.npy')\n",
    "X_psg3=np.load('datos_PSG3.npy')\n",
    "X_psg4=np.load('datos_PSG4.npy')\n",
    "X_psg5=np.load('datos_PSG5.npy')\n",
    "X_psg6=np.load('datos_PSG6.npy')\n",
    "X_psg7=np.load('datos_PSG7.npy')\n",
    "X_psg8=np.load('datos_PSG8.npy')\n",
    "X_psg9=np.load('datos_PSG9.npy')\n",
    "X_psg11=np.load('datos_PSG11.npy')\n",
    "X_psg12=np.load('datos_PSG12.npy')\n",
    "X_psg13=np.load('datos_PSG13.npy')\n",
    "X_psg14=np.load('datos_PSG14.npy')\n",
    "\n",
    "y_psg1=pd.read_csv('Etiquetas_PSG1.csv')\n",
    "y_psg2=pd.read_csv('Etiquetas_PSG2.csv')\n",
    "y_psg3=pd.read_csv('Etiquetas_PSG3.csv')\n",
    "y_psg4=pd.read_csv('Etiquetas_PSG4.csv')\n",
    "y_psg5=pd.read_csv('Etiquetas_PSG5.csv')\n",
    "y_psg6=pd.read_csv('Etiquetas_PSG6.csv')\n",
    "y_psg7=pd.read_csv('Etiquetas_PSG7.csv')\n",
    "y_psg8=pd.read_csv('Etiquetas_PSG8.csv')\n",
    "y_psg9=pd.read_csv('Etiquetas_PSG9.csv')\n",
    "y_psg11=pd.read_csv('Etiquetas_PSG11.csv')\n",
    "y_psg12=pd.read_csv('Etiquetas_PSG12.csv')\n",
    "y_psg13=pd.read_csv('Etiquetas_PSG13.csv')\n",
    "y_psg14=pd.read_csv('Etiquetas_PSG14.csv')"
   ]
  },
  {
   "cell_type": "code",
   "execution_count": 3,
   "id": "6521df0c",
   "metadata": {},
   "outputs": [],
   "source": [
    "from matplotlib.ticker import MaxNLocator\n",
    "from IPython.display import SVG, display, clear_output\n",
    "import matplotlib.pyplot as plt\n",
    "\n",
    "def grafica_entrenamiento(tr_acc, val_acc, tr_loss, val_loss, best_i,\n",
    "                          figsize=(10,4)):\n",
    "    plt.figure(figsize=figsize)\n",
    "    ax = plt.subplot(1,2,1)\n",
    "    plt.plot(1+np.arange(len(tr_acc)),  100*np.array(tr_acc))\n",
    "    plt.plot(1+np.arange(len(val_acc)), 100*np.array(val_acc))\n",
    "    plt.plot(1+best_i, 100*val_acc[best_i], 'or')\n",
    "    plt.title('tasa de acierto del modelo (%)', fontsize=18)\n",
    "    plt.ylabel('tasa de acierto (%)', fontsize=18)\n",
    "    plt.xlabel('época', fontsize=18)\n",
    "    plt.legend(['entrenamiento', 'validación'], loc='upper left')\n",
    "    ax.xaxis.set_major_locator(MaxNLocator(integer=True))\n",
    "\n",
    "    plt.subplot(1,2,2)\n",
    "    plt.plot(1+np.arange(len(tr_acc)), np.array(tr_loss))\n",
    "    plt.plot(1+np.arange(len(val_acc)), np.array(val_loss))\n",
    "    plt.plot(1+best_i, val_loss[best_i], 'or')\n",
    "    plt.title('loss del modelo', fontsize=18)\n",
    "    plt.ylabel('loss', fontsize=18)\n",
    "    plt.xlabel('época', fontsize=18)\n",
    "    plt.legend(['entrenamiento', 'validación'], loc='upper left')\n",
    "    ax.xaxis.set_major_locator(MaxNLocator(integer=True))\n",
    "    plt.show()"
   ]
  },
  {
   "cell_type": "code",
   "execution_count": 4,
   "id": "08349639",
   "metadata": {},
   "outputs": [],
   "source": [
    "import tensorflow\n",
    "\n",
    "X_juntados=tensorflow.concat([X_psg1,X_psg2,X_psg3,X_psg4,X_psg5,X_psg6,X_psg7,X_psg8,X_psg9,X_psg11,X_psg12,X_psg13,X_psg14],axis=0).numpy()\n",
    "# y_juntados=tensorflow.concat([y_psg2,y_psg2],axis=0).numpy()"
   ]
  },
  {
   "cell_type": "code",
   "execution_count": 5,
   "id": "d66cac60",
   "metadata": {},
   "outputs": [
    {
     "data": {
      "text/plain": [
       "(10401, 15360, 7)"
      ]
     },
     "execution_count": 5,
     "metadata": {},
     "output_type": "execute_result"
    }
   ],
   "source": [
    "X_juntados.shape"
   ]
  },
  {
   "cell_type": "code",
   "execution_count": 6,
   "id": "475649cd",
   "metadata": {},
   "outputs": [],
   "source": [
    "y_todos=np.concatenate([y_psg1,y_psg2,y_psg3,y_psg4,y_psg5,y_psg6,y_psg7,y_psg8,y_psg9,y_psg11,y_psg12,y_psg13,y_psg14])"
   ]
  },
  {
   "cell_type": "code",
   "execution_count": 9,
   "id": "c6e1da4a",
   "metadata": {},
   "outputs": [
    {
     "data": {
      "text/plain": [
       "{'Sleep stage N1': 772,\n",
       " 'Sleep stage N2': 4479,\n",
       " 'Sleep stage N3': 2486,\n",
       " 'Sleep stage R': 931,\n",
       " 'Sleep stage W': 1733}"
      ]
     },
     "execution_count": 9,
     "metadata": {},
     "output_type": "execute_result"
    }
   ],
   "source": [
    "from collections import Counter\n",
    "\n",
    "li,tri=np.unique(y_todos,return_counts=True)\n",
    "dict(zip(li,tri))"
   ]
  },
  {
   "cell_type": "code",
   "execution_count": 10,
   "id": "cbebd6ae",
   "metadata": {},
   "outputs": [],
   "source": [
    "X2=np.transpose(X_juntados,axes=(2,1,0))"
   ]
  },
  {
   "cell_type": "code",
   "execution_count": 11,
   "id": "af004c4a",
   "metadata": {},
   "outputs": [],
   "source": [
    "X2_sc=np.array([(x-np.mean(x))/(np.std(x)) for x in X2])"
   ]
  },
  {
   "cell_type": "code",
   "execution_count": 12,
   "id": "9f0446f8",
   "metadata": {},
   "outputs": [],
   "source": [
    "from sklearn.preprocessing import Normalizer\n",
    "\n",
    "norm=Normalizer()\n",
    "\n",
    "X2_sc=np.transpose(np.array([(norm.fit_transform(x)) for x in X2]),axes=(2,1,0))"
   ]
  },
  {
   "cell_type": "code",
   "execution_count": 13,
   "id": "d5c51706",
   "metadata": {},
   "outputs": [
    {
     "name": "stderr",
     "output_type": "stream",
     "text": [
      "/home/pabloro/anaconda3/envs/tensorflow/lib/python3.8/site-packages/sklearn/utils/validation.py:63: DataConversionWarning: A column-vector y was passed when a 1d array was expected. Please change the shape of y to (n_samples, ), for example using ravel().\n",
      "  return f(*args, **kwargs)\n"
     ]
    }
   ],
   "source": [
    "from sklearn.preprocessing import LabelEncoder\n",
    "\n",
    "le=LabelEncoder()\n",
    "y_todos_bin=le.fit_transform(y_todos)"
   ]
  },
  {
   "cell_type": "code",
   "execution_count": 14,
   "id": "de5d9dc5",
   "metadata": {},
   "outputs": [
    {
     "data": {
      "text/plain": [
       "{0: 772, 1: 4479, 2: 2486, 3: 931, 4: 1733}"
      ]
     },
     "execution_count": 14,
     "metadata": {},
     "output_type": "execute_result"
    }
   ],
   "source": [
    "from collections import Counter\n",
    "\n",
    "unique, counts = np.unique(y_todos_bin, return_counts=True)\n",
    "dict(zip(unique, counts))"
   ]
  },
  {
   "cell_type": "code",
   "execution_count": 24,
   "id": "674cda2a",
   "metadata": {},
   "outputs": [],
   "source": [
    "y_todos_bin2=pd.DataFrame(y_todos_bin)[0]"
   ]
  },
  {
   "cell_type": "code",
   "execution_count": 25,
   "id": "bedc371a",
   "metadata": {},
   "outputs": [],
   "source": [
    "from sklearn.model_selection import train_test_split\n",
    "\n",
    "X_train,X_test,y_train,y_test=train_test_split(X2_sc,y_todos_bin2,train_size=0.65,shuffle=True)"
   ]
  },
  {
   "cell_type": "code",
   "execution_count": 54,
   "id": "3322712e",
   "metadata": {},
   "outputs": [],
   "source": [
    "import pickle\n",
    "\n",
    "opciones = {\"inputs_train_definitivo\": X_train,\"inputs_test_definitivo\": X_test,'output_train_definitivo':y_train,'output_test_definitivo':y_test}\n",
    "with open(\"inputs_definitivo.pkl\", \"wb\") as f:\n",
    "    pickle.dump(opciones, f)"
   ]
  },
  {
   "cell_type": "code",
   "execution_count": 27,
   "id": "9307886d",
   "metadata": {},
   "outputs": [
    {
     "name": "stdout",
     "output_type": "stream",
     "text": [
      "Model: \"model\"\n",
      "_________________________________________________________________\n",
      "Layer (type)                 Output Shape              Param #   \n",
      "=================================================================\n",
      "input_1 (InputLayer)         [(None, 15360, 7)]        0         \n",
      "_________________________________________________________________\n",
      "conv1d (Conv1D)              (None, 120, 74)           132682    \n",
      "_________________________________________________________________\n",
      "max_pooling1d (MaxPooling1D) (None, 15, 74)            0         \n",
      "_________________________________________________________________\n",
      "dropout (Dropout)            (None, 15, 74)            0         \n",
      "_________________________________________________________________\n",
      "conv1d_1 (Conv1D)            (None, 15, 74)            43882     \n",
      "_________________________________________________________________\n",
      "conv1d_2 (Conv1D)            (None, 15, 74)            43882     \n",
      "_________________________________________________________________\n",
      "conv1d_3 (Conv1D)            (None, 15, 74)            43882     \n",
      "_________________________________________________________________\n",
      "max_pooling1d_1 (MaxPooling1 (None, 3, 74)             0         \n",
      "_________________________________________________________________\n",
      "dropout_1 (Dropout)          (None, 3, 74)             0         \n",
      "_________________________________________________________________\n",
      "lstm (LSTM)                  (None, 74)                44104     \n",
      "_________________________________________________________________\n",
      "dense (Dense)                (None, 5)                 375       \n",
      "=================================================================\n",
      "Total params: 308,807\n",
      "Trainable params: 308,807\n",
      "Non-trainable params: 0\n",
      "_________________________________________________________________\n"
     ]
    }
   ],
   "source": [
    "from tensorflow.keras.regularizers import L1\n",
    "import seaborn as sns\n",
    "from sklearn.metrics import confusion_matrix\n",
    "from sklearn.model_selection import train_test_split\n",
    "from tensorflow.keras.layers import AveragePooling1D,BatchNormalization, UpSampling1D,Input,Dense,LSTM,MaxPooling1D, Dropout,Conv1D, concatenate\n",
    "from tensorflow.keras.callbacks import ModelCheckpoint, EarlyStopping\n",
    "from tensorflow.keras.models import Model\n",
    "from tensorflow.keras.models import load_model\n",
    "import seaborn as sns\n",
    "import tensorflow\n",
    "import matplotlib.pyplot as plt\n",
    "from sklearn.metrics import roc_curve,auc\n",
    "import os\n",
    "os.environ[\"CUDA_VISIBLE_DEVICES\"]=\"1\"\n",
    "\n",
    "input1=Input(shape=(15360,7))\n",
    "conv1=Conv1D(74, kernel_size=256, padding='same', strides=128, activation=\"relu\")(input1)\n",
    "max1=MaxPooling1D(8)(conv1)\n",
    "drop1=Dropout(0.5)(max1)\n",
    "conv2=Conv1D(74, kernel_size=8, padding='same', strides=1, activation=\"relu\")(drop1)\n",
    "conv3=Conv1D(74, kernel_size=8, padding='same', strides=1, activation=\"relu\")(conv2)\n",
    "conv4=Conv1D(74, kernel_size=8, padding='same', strides=1, activation=\"relu\")(conv3)\n",
    "max2=MaxPooling1D(4)(conv4)\n",
    "drop2=Dropout(0.5)(max2)\n",
    "lstm1=LSTM(74)(drop2)\n",
    "dense1=Dense(5,'softmax')(lstm1)\n",
    "model=Model(input1,dense1)\n",
    "model.compile(optimizer='adam',metrics=['accuracy'],loss='sparse_categorical_crossentropy')\n",
    "model.summary()"
   ]
  },
  {
   "cell_type": "code",
   "execution_count": 28,
   "id": "ea4e0aca",
   "metadata": {},
   "outputs": [
    {
     "data": {
      "image/png": "[encoded data removed]",
      "text/plain": [
       "<Figure size 720x288 with 2 Axes>"
      ]
     },
     "metadata": {
      "needs_background": "light"
     },
     "output_type": "display_data"
    }
   ],
   "source": [
    "filepath='definitiva.h5'\n",
    "checkpoint   = [EarlyStopping(monitor='val_loss', patience=30, mode='min', min_delta=0.0001),\n",
    "                ModelCheckpoint(filepath, monitor='val_loss', save_best_only=True, mode='min')]\n",
    "\n",
    "acum_tr_acc = []\n",
    "acum_val_acc = []\n",
    "best_val_acc = -1000\n",
    "acum_tr_loss  = []\n",
    "acum_val_loss = []\n",
    "\n",
    "epochs=50\n",
    "batch_size=64\n",
    "\n",
    "\n",
    "for e in range(epochs):\n",
    "    history = model.fit(X_train, y_train,\n",
    "                        batch_size=batch_size,\n",
    "                        epochs=1,\n",
    "                        callbacks=checkpoint,\n",
    "                        verbose=1,\n",
    "                        validation_data=(X_test, y_test))\n",
    "\n",
    "    if history.history['val_accuracy'][-1] > best_val_acc:\n",
    "        print(\"Validation accuracy improved from\",\n",
    "              best_val_acc, 'to', history.history['val_accuracy'])\n",
    "        print(\"saving weights\")\n",
    "        best_val_acc = history.history['val_accuracy'][-1]\n",
    "\n",
    "    acum_tr_acc.append(history.history['accuracy'][0])\n",
    "    acum_val_acc.append(history.history['val_accuracy'][0])\n",
    "    acum_tr_loss.append(history.history['loss'][0])\n",
    "    acum_val_loss.append(history.history['val_loss'][0])\n",
    "\n",
    "    if len(acum_tr_acc) > 1:\n",
    "        clear_output()\n",
    "        best_i = np.argmax(acum_val_acc)\n",
    "        grafica_entrenamiento(acum_tr_acc, acum_val_acc, acum_tr_loss, acum_val_loss, best_i)"
   ]
  },
  {
   "cell_type": "code",
   "execution_count": 30,
   "id": "633d6b3f",
   "metadata": {},
   "outputs": [],
   "source": [
    "y_pred=np.argmax(model.predict(X_test),axis=1)"
   ]
  },
  {
   "cell_type": "code",
   "execution_count": 34,
   "id": "8588e3a4",
   "metadata": {},
   "outputs": [
    {
     "name": "stdout",
     "output_type": "stream",
     "text": [
      "                precision    recall  f1-score   support\n",
      "\n",
      "Sleep stage N1       0.47      0.39      0.43       285\n",
      "Sleep stage N2       0.67      0.77      0.72      1548\n",
      "Sleep stage N3       0.64      0.67      0.65       864\n",
      " Sleep stage R       0.65      0.59      0.61       326\n",
      " Sleep stage W       0.71      0.50      0.58       618\n",
      "\n",
      "      accuracy                           0.65      3641\n",
      "     macro avg       0.63      0.58      0.60      3641\n",
      "  weighted avg       0.65      0.65      0.65      3641\n",
      "\n"
     ]
    }
   ],
   "source": [
    "from sklearn.metrics import classification_report\n",
    "\n",
    "print(classification_report(y_test,y_pred,target_names=lista2))"
   ]
  },
  {
   "cell_type": "code",
   "execution_count": 69,
   "id": "d704e0b3",
   "metadata": {},
   "outputs": [
    {
     "data": {
      "image/png": "[encoded data removed]",
      "text/plain": [
       "<Figure size 576x576 with 2 Axes>"
      ]
     },
     "metadata": {
      "needs_background": "light"
     },
     "output_type": "display_data"
    }
   ],
   "source": [
    "y_pred=np.argmax(model.predict(X_test),axis=1)\n",
    "\n",
    "fig, ax = plt.subplots(figsize=(8,8))\n",
    "\n",
    "cm=confusion_matrix(y_test,y_pred)\n",
    "lista2=['Sleep stage N1','Sleep stage N2','Sleep stage N3','Sleep stage R','Sleep stage W']\n",
    "sns.heatmap(pd.DataFrame(cm,index=['Sleep stage N1','Sleep stage N2','Sleep stage N3','Sleep stage R','Sleep stage W'],columns=['Sleep stage N1','Sleep stage N2','Sleep stage N3','Sleep stage R','Sleep stage W']),annot=True,fmt='d',cmap='Blues', ax=ax)\n",
    "\n",
    "params = dict(rotation=55, ha='center', rotation_mode='anchor')\n",
    "plt.setp(ax.get_yticklabels(), **params)\n",
    "plt.setp(ax.get_xticklabels(), **params)\n",
    "ax.tick_params(size=7)\n",
    "ax.set_xticklabels(lista2,fontsize=12)\n",
    "ax.set_yticklabels(lista2,fontsize=12);"
   ]
  },
  {
   "cell_type": "code",
   "execution_count": 36,
   "id": "07eb3038",
   "metadata": {},
   "outputs": [],
   "source": [
    "train_preds=pd.DataFrame(data={'Real':y_train,'Prediccion':np.argmax(model.predict(X_train),axis=1),'set':'train'})\n",
    "test_preds=pd.DataFrame(data={'Real':y_test,'Prediccion':y_pred,'set':'test'})\n",
    "todos_preds=pd.concat([train_preds,test_preds],axis=0)"
   ]
  },
  {
   "cell_type": "code",
   "execution_count": 57,
   "id": "afd28e83",
   "metadata": {},
   "outputs": [
    {
     "name": "stdout",
     "output_type": "stream",
     "text": [
      "La mayoría de los errores vienen entre N2 y N3, del total de fallos la red se equivoca en un 39.64 %\n"
     ]
    }
   ],
   "source": [
    "erroneos1_2=todos_preds[(todos_preds.Real==1)&(todos_preds.Prediccion==2)]\n",
    "erroneos2_1=todos_preds[(todos_preds.Real==2)&(todos_preds.Prediccion==1)]\n",
    "print('La mayoría de los errores vienen entre N2 y N3, del total de fallos la red se equivoca en un %.2f'%(len(erroneos1_2+erroneos2_1)*100/len(todos_preds[todos_preds.Real!=todos_preds.Prediccion])),'%')"
   ]
  },
  {
   "cell_type": "code",
   "execution_count": 47,
   "id": "7f7f9d6c",
   "metadata": {},
   "outputs": [
    {
     "name": "stdout",
     "output_type": "stream",
     "text": [
      "Total de errores= 25.76 %\n"
     ]
    }
   ],
   "source": [
    "print('Total de errores= %.2f'%(len(todos_preds[todos_preds.Real!=todos_preds.Prediccion])*100/len(todos_preds)),'%')"
   ]
  },
  {
   "cell_type": "code",
   "execution_count": 50,
   "id": "8c04f845",
   "metadata": {},
   "outputs": [
    {
     "name": "stdout",
     "output_type": "stream",
     "text": [
      "Total de errores del conjunto de train= 13.60 %\n"
     ]
    }
   ],
   "source": [
    "print('Total de errores del conjunto de train= %.2f'%(len(todos_preds[(todos_preds.Real!=todos_preds.Prediccion)&(todos_preds.set=='train')])*100/len(todos_preds)),'%')"
   ]
  },
  {
   "cell_type": "code",
   "execution_count": 51,
   "id": "a741d1c6",
   "metadata": {},
   "outputs": [
    {
     "name": "stdout",
     "output_type": "stream",
     "text": [
      "Total de errores del conjunto de train= 12.15 %\n"
     ]
    }
   ],
   "source": [
    "print('Total de errores del conjunto de train= %.2f'%(len(todos_preds[(todos_preds.Real!=todos_preds.Prediccion)&(todos_preds.set=='test')])*100/len(todos_preds)),'%')"
   ]
  },
  {
   "cell_type": "code",
   "execution_count": 58,
   "id": "6d33a20a",
   "metadata": {},
   "outputs": [],
   "source": [
    "errores=todos_preds[todos_preds.Real!=todos_preds.Prediccion].sort_index()"
   ]
  },
  {
   "cell_type": "code",
   "execution_count": 62,
   "id": "de049fd8",
   "metadata": {},
   "outputs": [],
   "source": [
    "errores.Real=le.inverse_transform(errores.Real)\n",
    "errores.Prediccion=le.inverse_transform(errores.Prediccion)"
   ]
  },
  {
   "cell_type": "code",
   "execution_count": 119,
   "id": "11a1c7da",
   "metadata": {},
   "outputs": [
    {
     "data": {
      "text/plain": [
       "((2679, 3), (10401, 3), (7722, 3))"
      ]
     },
     "execution_count": 119,
     "metadata": {},
     "output_type": "execute_result"
    }
   ],
   "source": [
    "errores.shape,todos_preds.shape,todos_preds.loc[~todos_preds.index.isin(errores.index)].shape"
   ]
  },
  {
   "cell_type": "code",
   "execution_count": 120,
   "id": "fc1305c7",
   "metadata": {},
   "outputs": [],
   "source": [
    "correctas=todos_preds.loc[~todos_preds.index.isin(errores.index)]"
   ]
  },
  {
   "cell_type": "code",
   "execution_count": 88,
   "id": "87b2e8dd",
   "metadata": {},
   "outputs": [
    {
     "data": {
      "text/plain": [
       "0        4\n",
       "1        4\n",
       "2        4\n",
       "3        4\n",
       "4        4\n",
       "        ..\n",
       "10396    1\n",
       "10397    1\n",
       "10398    1\n",
       "10399    1\n",
       "10400    1\n",
       "Name: Real, Length: 10401, dtype: int64"
      ]
     },
     "execution_count": 88,
     "metadata": {},
     "output_type": "execute_result"
    }
   ],
   "source": [
    "todos_preds.Real.sort_index()"
   ]
  },
  {
   "cell_type": "code",
   "execution_count": 122,
   "id": "9348e894",
   "metadata": {},
   "outputs": [],
   "source": [
    "correctas=correctas.sort_index()"
   ]
  },
  {
   "cell_type": "code",
   "execution_count": 75,
   "id": "c6b984af",
   "metadata": {},
   "outputs": [],
   "source": [
    "np.savetxt(\"indices.txt\", errores.index.values)"
   ]
  },
  {
   "cell_type": "code",
   "execution_count": 123,
   "id": "d94515d0",
   "metadata": {},
   "outputs": [],
   "source": [
    "np.savetxt('etiquetas_correctas.txt',correctas.index.values)"
   ]
  },
  {
   "cell_type": "code",
   "execution_count": 124,
   "id": "fd0c5bc0",
   "metadata": {},
   "outputs": [],
   "source": [
    "indices_erroneos=np.loadtxt('indices.txt').astype('int')"
   ]
  },
  {
   "cell_type": "code",
   "execution_count": 125,
   "id": "64f1dcc0",
   "metadata": {},
   "outputs": [],
   "source": [
    "indices_correctos=np.loadtxt('etiquetas_correctas.txt').astype('int')"
   ]
  },
  {
   "cell_type": "code",
   "execution_count": 126,
   "id": "ec4044e1",
   "metadata": {},
   "outputs": [
    {
     "data": {
      "text/html": [
       "<div>\n",
       "<style scoped>\n",
       "    .dataframe tbody tr th:only-of-type {\n",
       "        vertical-align: middle;\n",
       "    }\n",
       "\n",
       "    .dataframe tbody tr th {\n",
       "        vertical-align: top;\n",
       "    }\n",
       "\n",
       "    .dataframe thead th {\n",
       "        text-align: right;\n",
       "    }\n",
       "</style>\n",
       "<table border=\"1\" class=\"dataframe\">\n",
       "  <thead>\n",
       "    <tr style=\"text-align: right;\">\n",
       "      <th></th>\n",
       "      <th>Label</th>\n",
       "    </tr>\n",
       "  </thead>\n",
       "  <tbody>\n",
       "    <tr>\n",
       "      <th>0</th>\n",
       "      <td>Sleep stage W</td>\n",
       "    </tr>\n",
       "    <tr>\n",
       "      <th>1</th>\n",
       "      <td>Sleep stage W</td>\n",
       "    </tr>\n",
       "    <tr>\n",
       "      <th>2</th>\n",
       "      <td>Sleep stage W</td>\n",
       "    </tr>\n",
       "    <tr>\n",
       "      <th>3</th>\n",
       "      <td>Sleep stage W</td>\n",
       "    </tr>\n",
       "    <tr>\n",
       "      <th>4</th>\n",
       "      <td>Sleep stage W</td>\n",
       "    </tr>\n",
       "    <tr>\n",
       "      <th>...</th>\n",
       "      <td>...</td>\n",
       "    </tr>\n",
       "    <tr>\n",
       "      <th>877</th>\n",
       "      <td>Sleep stage W</td>\n",
       "    </tr>\n",
       "    <tr>\n",
       "      <th>878</th>\n",
       "      <td>Sleep stage W</td>\n",
       "    </tr>\n",
       "    <tr>\n",
       "      <th>879</th>\n",
       "      <td>Sleep stage W</td>\n",
       "    </tr>\n",
       "    <tr>\n",
       "      <th>880</th>\n",
       "      <td>Sleep stage W</td>\n",
       "    </tr>\n",
       "    <tr>\n",
       "      <th>881</th>\n",
       "      <td>Sleep stage W</td>\n",
       "    </tr>\n",
       "  </tbody>\n",
       "</table>\n",
       "<p>882 rows × 1 columns</p>\n",
       "</div>"
      ],
      "text/plain": [
       "             Label\n",
       "0    Sleep stage W\n",
       "1    Sleep stage W\n",
       "2    Sleep stage W\n",
       "3    Sleep stage W\n",
       "4    Sleep stage W\n",
       "..             ...\n",
       "877  Sleep stage W\n",
       "878  Sleep stage W\n",
       "879  Sleep stage W\n",
       "880  Sleep stage W\n",
       "881  Sleep stage W\n",
       "\n",
       "[882 rows x 1 columns]"
      ]
     },
     "execution_count": 126,
     "metadata": {},
     "output_type": "execute_result"
    }
   ],
   "source": [
    "y_psg1"
   ]
  },
  {
   "cell_type": "code",
   "execution_count": 129,
   "id": "7b6f6229",
   "metadata": {},
   "outputs": [
    {
     "data": {
      "text/plain": [
       "array([  0,   1,   2,   3,   4,   5,   6,   7,   8,   9,  10,  11,  12,\n",
       "        13,  14,  15,  16,  17,  18,  19,  20,  21,  22,  23,  24,  25,\n",
       "        26,  27,  28,  29,  30,  31,  32,  33,  34,  35,  36,  37,  38,\n",
       "        39,  40,  41,  42,  43,  44,  45,  46,  47,  48,  49,  52,  53,\n",
       "        54,  55,  56,  57,  62,  67,  68,  69,  70,  71,  72,  73,  74,\n",
       "        75,  76,  77,  78,  79,  80,  81,  82,  83,  84,  85,  86,  87,\n",
       "        88,  89,  90,  91,  92,  93,  94,  95,  96,  97,  99, 100, 101,\n",
       "       102, 103, 104, 105, 106, 107, 108, 109, 110, 111, 112, 113, 114,\n",
       "       115, 116, 117, 118, 119, 120, 121, 124, 125, 126, 129, 130, 132,\n",
       "       133, 134, 135, 136, 137, 138, 139, 140, 141, 142, 143, 144, 145,\n",
       "       146, 148, 149, 150, 151, 152, 153, 154, 155, 156, 157, 158, 159,\n",
       "       160, 161, 162, 163, 164, 166, 167, 168, 169, 170, 171, 172, 173,\n",
       "       174, 175, 176, 177, 178, 179, 180, 181, 182, 183, 184, 185, 186,\n",
       "       187, 188, 189, 190, 193, 194, 196, 200, 201, 203, 204, 205, 207,\n",
       "       208, 209, 210, 211, 212, 213, 214, 215, 217, 218, 219, 221, 222,\n",
       "       223, 224, 225, 226, 227, 228, 230, 231, 232, 233, 234, 235, 237,\n",
       "       238, 239, 240, 241, 243, 244, 245, 246, 247, 248, 249, 250, 251,\n",
       "       252, 253, 254, 255, 256, 257, 258, 259, 260, 261, 262, 263, 264,\n",
       "       265, 266, 267, 268, 269, 270, 271, 277, 284, 285, 286, 287, 288,\n",
       "       289, 291, 292, 293, 294, 295, 296, 297, 298, 299, 300, 301, 302,\n",
       "       303, 304, 305, 307, 308, 309, 310, 312, 313, 314, 315, 316, 317,\n",
       "       318, 319, 320, 321, 322, 323, 324, 325, 326, 327, 328, 329, 330,\n",
       "       331, 332, 333, 334, 335, 336, 337, 338, 339, 340, 341, 342, 343,\n",
       "       344, 345, 346, 347, 348, 349, 350, 351, 352, 353, 354, 355, 356,\n",
       "       357, 358, 359, 360, 361, 362, 363, 364, 365, 366, 367, 368, 369,\n",
       "       370, 371, 372, 373, 374, 375, 376, 377, 378, 379, 380, 381, 382,\n",
       "       383, 384, 385, 386, 387, 388, 389, 390, 391, 392, 393, 394, 395,\n",
       "       398, 399, 400, 402, 405, 407, 408, 409, 412, 413, 414, 415, 416,\n",
       "       417, 418, 419, 420, 421, 422, 423, 424, 425, 426, 427, 428, 429,\n",
       "       430, 431, 432, 434, 435, 436, 438, 439, 440, 441, 442, 443, 444,\n",
       "       445, 446, 448, 449, 450, 451, 452, 454, 455, 456, 457, 458, 459,\n",
       "       460, 461, 462, 463, 464, 465, 466, 467, 468, 471, 473, 477, 481,\n",
       "       485, 486, 489, 490, 491, 492, 493, 494, 495, 496, 497, 499, 500,\n",
       "       501, 502, 503, 504, 505, 506, 507, 508, 509, 510, 511, 512, 513,\n",
       "       514, 515, 516, 517, 518, 519, 520, 521, 523, 524, 525, 526, 527,\n",
       "       528, 529, 530, 531, 532, 533, 535, 538, 539, 540, 541, 542, 543,\n",
       "       544, 545, 546, 547, 548, 549, 550, 551, 552, 553, 554, 555, 556,\n",
       "       557, 558, 559, 560, 561, 567, 568, 569, 570, 571, 573, 574, 575,\n",
       "       576, 577, 578, 579, 580, 581, 582, 583, 584, 585, 586, 587, 588,\n",
       "       589, 590, 591, 592, 593, 594, 595, 596, 597, 598, 599, 600, 601,\n",
       "       602, 604, 605, 607, 609, 610, 611, 612, 613, 614, 616, 617, 618,\n",
       "       619, 620, 621, 624, 625, 626, 627, 628, 629, 631, 632, 633, 634,\n",
       "       635, 636, 637, 638, 639, 641, 642, 643, 644, 645, 646, 647, 648,\n",
       "       649, 650, 651, 652, 653, 654, 655, 657, 658, 659, 660, 661, 662,\n",
       "       663, 664, 665, 666, 668, 669, 670, 671, 672, 673, 674, 675, 676,\n",
       "       677, 678, 679, 680, 682, 683, 684, 685, 686, 687, 688, 689, 690,\n",
       "       691, 692, 693, 694, 695, 696, 697, 698, 699, 700, 701, 702, 703,\n",
       "       705, 706, 707, 708, 709, 710, 711, 712, 713, 715, 716, 717, 718,\n",
       "       719, 724, 725, 726, 727, 734, 735, 736, 738, 739, 741, 742, 743,\n",
       "       744, 745, 746, 747, 748, 749, 752, 753, 754, 755, 756, 757, 758,\n",
       "       759, 760, 761, 764, 766, 767, 768, 769, 772, 773, 774, 775, 776,\n",
       "       777, 779, 781, 783, 784, 785, 786, 789, 791, 792, 793, 794, 795,\n",
       "       796, 797, 798, 799, 800, 801, 802, 803, 804, 805, 806, 807, 808,\n",
       "       809, 812, 814, 815, 816, 817, 818, 819, 820, 821, 822, 823, 825,\n",
       "       827, 828, 829, 830, 833, 834, 836, 841, 842, 843, 844, 845, 846,\n",
       "       847, 848, 849, 850, 852, 853, 854, 855, 856, 861, 862, 863, 864,\n",
       "       865, 866, 867, 868, 869, 870, 871, 872, 873, 874, 875, 876, 877,\n",
       "       878, 879, 880, 881])"
      ]
     },
     "execution_count": 129,
     "metadata": {},
     "output_type": "execute_result"
    }
   ],
   "source": [
    "indices_correctos[indices_correctos<882]"
   ]
  },
  {
   "cell_type": "code",
   "execution_count": null,
   "id": "c96a5147",
   "metadata": {},
   "outputs": [],
   "source": []
  },
  {
   "cell_type": "code",
   "execution_count": null,
   "id": "0b209d35",
   "metadata": {},
   "outputs": [],
   "source": []
  },
  {
   "cell_type": "code",
   "execution_count": null,
   "id": "e2695caa",
   "metadata": {},
   "outputs": [],
   "source": []
  },
  {
   "cell_type": "code",
   "execution_count": 2,
   "id": "003b1bc4",
   "metadata": {},
   "outputs": [
    {
     "name": "stdout",
     "output_type": "stream",
     "text": [
      "Extracting EDF parameters from /home/pabloro/master/PSG1.edf...\n",
      "EDF file detected\n",
      "Setting channel info structure...\n",
      "Creating raw.info structure...\n"
     ]
    },
    {
     "name": "stderr",
     "output_type": "stream",
     "text": [
      "<ipython-input-2-03c1ff62ff66>:1: RuntimeWarning: Omitted 3 annotation(s) that were outside data range.\n",
      "  data = mne.io.read_raw_edf('PSG1.edf')\n",
      "<ipython-input-2-03c1ff62ff66>:1: RuntimeWarning: Limited 1 annotation(s) that were expanding outside the data range.\n",
      "  data = mne.io.read_raw_edf('PSG1.edf')\n"
     ]
    },
    {
     "name": "stdout",
     "output_type": "stream",
     "text": [
      "Used Annotations descriptions: ['EEG arousal', 'Hypopnea', 'Impedance at 10 kOhm', 'Lights Off', 'Limb Movement', 'Montage:PR, Ref', 'Obstructive Apnea', 'Oximeter Event', 'Oxygen Desaturation', 'Pulse Rate Event', 'Recording Analyzer - Auto-Staging', 'Recording Analyzer - Data Trends', 'Recording Analyzer - ECG', 'Recording Analyzer - Sleep Events', 'Sleep stage N1', 'Sleep stage N2', 'Sleep stage N3', 'Sleep stage R', 'Sleep stage W', 'Snoring', 'Start Recording', 'Started Analyzer - Sleep Events', 'Video Recording ON']\n",
      "Not setting metadata\n",
      "Multiple event values for single event times found. Creating new event value to reflect simultaneous events.\n",
      "Not setting metadata\n",
      "3031 matching events found\n",
      "No baseline correction applied\n",
      "0 projection items activated\n"
     ]
    }
   ],
   "source": [
    "data = mne.io.read_raw_edf('PSG1.edf')\n",
    "raw_data = data.get_data()\n",
    "events, events_id = mne.events_from_annotations(data)\n",
    "tmax = 30. - 1. / data.info['sfreq']  # tmax in included\n",
    "\n",
    "epochs_train = mne.Epochs(raw=data, events=events,\n",
    "                          event_id=events_id, tmin=0., tmax=tmax, baseline=None, event_repeated='merge')"
   ]
  },
  {
   "cell_type": "code",
   "execution_count": 12,
   "id": "47cfc51d",
   "metadata": {},
   "outputs": [
    {
     "name": "stdout",
     "output_type": "stream",
     "text": [
      "Loading data for 3030 events and 15360 original time points ...\n"
     ]
    },
    {
     "data": {
      "text/html": [
       "\n",
       "<table class=\"table table-hover\">\n",
       "    <tr>\n",
       "        <th>Number of events</th>\n",
       "        <td>3030</td>\n",
       "    </tr>\n",
       "    <tr>\n",
       "        <th>Events</th>\n",
       "        <td>EEG arousal: 19<br>Hypopnea: 23<br>Impedance at 10 kOhm: 1<br>Lights Off: 1<br>Limb Movement: 102<br>Limb Movement/Snoring: 1<br>Montage:PR, Ref/Start Recording: 1<br>Obstructive Apnea: 79<br>Oximeter Event: 1<br>Oximeter Event/Pulse Rate Event: 1<br>Oxygen Desaturation: 47<br>Recording Analyzer - Auto-Staging/Recording Analyzer - Data Trends/Recording Analyzer - ECG/Recording Analyzer - Sleep Events: 1<br>Sleep stage N1: 25<br>Sleep stage N2: 317<br>Sleep stage N3: 193<br>Sleep stage R: 101<br>Sleep stage W: 246<br>Snoring: 1869<br>Started Analyzer - Sleep Events: 1<br>Video Recording ON: 1<br></td>\n",
       "    </tr>\n",
       "    <tr>\n",
       "        <th>Time range</th>\n",
       "        <td>0.000 – 29.998 sec</td>\n",
       "    </tr>\n",
       "    <tr>\n",
       "        <th>Baseline</th>\n",
       "        <td>off</td>\n",
       "    </tr>\n",
       "</table>\n"
      ],
      "text/plain": [
       "<Epochs |  3030 events (all good), 0 - 29.998 sec, baseline off, ~17.34 GB, data loaded,\n",
       " 'EEG arousal': 19\n",
       " 'Hypopnea': 23\n",
       " 'Impedance at 10 kOhm': 1\n",
       " 'Lights Off': 1\n",
       " 'Limb Movement': 102\n",
       " 'Limb Movement/Snoring': 1\n",
       " 'Montage:PR, Ref/Start Recording': 1\n",
       " 'Obstructive Apnea': 79\n",
       " 'Oximeter Event': 1\n",
       " 'Oximeter Event/Pulse Rate Event': 1\n",
       " 'Oxygen Desaturation': 47\n",
       " 'Recording Analyzer - Auto-Staging/Recording Analyzer - Data Trends/Recording Analyzer - ECG/Recording Analyzer - Sleep Events': 1\n",
       " 'Sleep stage N1': 25\n",
       " 'Sleep stage N2': 317\n",
       " 'Sleep stage N3': 193\n",
       " 'Sleep stage R': 101\n",
       " 'Sleep stage W': 246\n",
       " 'Snoring': 1869\n",
       " 'Started Analyzer - Sleep Events': 1\n",
       " 'Video Recording ON': 1>"
      ]
     },
     "execution_count": 12,
     "metadata": {},
     "output_type": "execute_result"
    }
   ],
   "source": [
    "epochs_train.load_data()"
   ]
  },
  {
   "cell_type": "code",
   "execution_count": 13,
   "id": "a7e46279",
   "metadata": {},
   "outputs": [
    {
     "data": {
      "text/plain": [
       "array([   0,    3,    4, ..., 3034, 3035, 3036])"
      ]
     },
     "execution_count": 13,
     "metadata": {},
     "output_type": "execute_result"
    }
   ],
   "source": [
    "epochs_train.selection"
   ]
  },
  {
   "cell_type": "code",
   "execution_count": 16,
   "id": "08655e76",
   "metadata": {},
   "outputs": [
    {
     "name": "stdout",
     "output_type": "stream",
     "text": [
      "Loading data for 3031 events and 15360 original time points ...\n",
      "1 bad epochs dropped\n",
      "Loading data for 16 events and 15360 original time points ...\n"
     ]
    },
    {
     "name": "stderr",
     "output_type": "stream",
     "text": [
      "<ipython-input-16-9449ba811c1b>:1: RuntimeWarning: More events than default colors available. You should pass a list of unique colors.\n",
      "  epochs_train.plot(block=True, events=events);\n"
     ]
    },
    {
     "name": "stdout",
     "output_type": "stream",
     "text": [
      "Loading data for 20 events and 15360 original time points ...\n"
     ]
    },
    {
     "data": {
      "image/png": "[encoded data removed]",
      "text/plain": [
       "<MNEBrowseFigure size 432x288 with 4 Axes>"
      ]
     },
     "metadata": {
      "needs_background": "light"
     },
     "output_type": "display_data"
    }
   ],
   "source": [
    "epochs_train.plot(block=True, events=events);"
   ]
  },
  {
   "cell_type": "code",
   "execution_count": 19,
   "id": "21ebc06e",
   "metadata": {},
   "outputs": [
    {
     "name": "stderr",
     "output_type": "stream",
     "text": [
      "<ipython-input-19-ba9c6abcfa9e>:1: RuntimeWarning: More events than default colors available. You should pass a list of unique colors.\n",
      "  mne.viz.plot_events(events, sfreq=data.info['sfreq']);\n"
     ]
    },
    {
     "data": {
      "image/png": "[encoded data removed]",
      "text/plain": [
       "<Figure size 432x288 with 1 Axes>"
      ]
     },
     "metadata": {
      "needs_background": "light"
     },
     "output_type": "display_data"
    }
   ],
   "source": [
    "mne.viz.plot_events(events, sfreq=data.info['sfreq']);"
   ]
  },
  {
   "cell_type": "code",
   "execution_count": 2,
   "id": "0b8fd0fd",
   "metadata": {},
   "outputs": [
    {
     "name": "stdout",
     "output_type": "stream",
     "text": [
      "Extracting EDF parameters from /home/pabloro/master/PSG1.edf...\n",
      "EDF file detected\n",
      "Setting channel info structure...\n",
      "Creating raw.info structure...\n"
     ]
    },
    {
     "name": "stderr",
     "output_type": "stream",
     "text": [
      "<ipython-input-1-fd63210202f8>:9: RuntimeWarning: Omitted 3 annotation(s) that were outside data range.\n",
      "  data = mne.io.read_raw_edf(f'{file}.edf')\n",
      "<ipython-input-1-fd63210202f8>:9: RuntimeWarning: Limited 1 annotation(s) that were expanding outside the data range.\n",
      "  data = mne.io.read_raw_edf(f'{file}.edf')\n"
     ]
    },
    {
     "name": "stdout",
     "output_type": "stream",
     "text": [
      "Used Annotations descriptions: ['EEG arousal', 'Hypopnea', 'Impedance at 10 kOhm', 'Lights Off', 'Limb Movement', 'Montage:PR, Ref', 'Obstructive Apnea', 'Oximeter Event', 'Oxygen Desaturation', 'Pulse Rate Event', 'Recording Analyzer - Auto-Staging', 'Recording Analyzer - Data Trends', 'Recording Analyzer - ECG', 'Recording Analyzer - Sleep Events', 'Sleep stage N1', 'Sleep stage N2', 'Sleep stage N3', 'Sleep stage R', 'Sleep stage W', 'Snoring', 'Start Recording', 'Started Analyzer - Sleep Events', 'Video Recording ON']\n",
      "Not setting metadata\n",
      "Multiple event values for single event times found. Creating new event value to reflect simultaneous events.\n",
      "Not setting metadata\n",
      "3031 matching events found\n",
      "No baseline correction applied\n",
      "0 projection items activated\n",
      "Loading data for 3031 events and 15360 original time points ...\n",
      "1 bad epochs dropped\n"
     ]
    }
   ],
   "source": [
    "X_psg1,y_psg1=datos('PSG1')"
   ]
  },
  {
   "cell_type": "code",
   "execution_count": 5,
   "id": "04a11d42",
   "metadata": {},
   "outputs": [
    {
     "data": {
      "text/plain": [
       "Sleep stage N2    317\n",
       "Sleep stage W     246\n",
       "Sleep stage N3    193\n",
       "Sleep stage R     101\n",
       "Sleep stage N1     25\n",
       "Name: Label, dtype: int64"
      ]
     },
     "execution_count": 5,
     "metadata": {},
     "output_type": "execute_result"
    }
   ],
   "source": [
    "y_psg1.value_counts()"
   ]
  },
  {
   "cell_type": "code",
   "execution_count": null,
   "id": "41e6aef8",
   "metadata": {},
   "outputs": [],
   "source": []
  },
  {
   "cell_type": "code",
   "execution_count": 1,
   "id": "18ba8092",
   "metadata": {},
   "outputs": [],
   "source": [
    "import pickle\n",
    "\n",
    "with open(\"inputs_definitivo.pkl\", \"rb\") as f:\n",
    "    opciones = pickle.load(f)\n",
    "    \n",
    "X_train= opciones[\"inputs_train_definitivo\"]\n",
    "X_test= opciones[\"inputs_test_definitivo\"]\n",
    "y_train=opciones['output_train_definitivo']\n",
    "y_test=opciones['output_test_definitivo']"
   ]
  },
  {
   "cell_type": "code",
   "execution_count": 2,
   "id": "99033f43",
   "metadata": {},
   "outputs": [],
   "source": [
    "from tensorflow.keras.models import load_model\n",
    "\n",
    "model=load_model('definitiva.h5')"
   ]
  },
  {
   "cell_type": "code",
   "execution_count": 46,
   "id": "a8407a16",
   "metadata": {},
   "outputs": [],
   "source": [
    "import pandas as pd\n",
    "import numpy as np\n",
    "\n",
    "train_preds=pd.DataFrame(data={'Real':y_train,'Prediccion':np.argmax(model.predict(X_train),axis=1),'set':'train'})\n",
    "test_preds=pd.DataFrame(data={'Real':y_test,'Prediccion':np.argmax(model.predict(X_test),axis=1),'set':'test'})\n",
    "todos_preds=pd.concat([train_preds,test_preds],axis=0)"
   ]
  },
  {
   "cell_type": "code",
   "execution_count": 47,
   "id": "fe387c19",
   "metadata": {},
   "outputs": [],
   "source": [
    "errores=todos_preds[todos_preds.Real!=todos_preds.Prediccion].sort_index()"
   ]
  },
  {
   "cell_type": "code",
   "execution_count": 48,
   "id": "fe5ac3b1",
   "metadata": {},
   "outputs": [],
   "source": [
    "errores['Real']=np.where(errores.Real==0,'Sleep stage N1',np.where(errores.Real==1,'Sleep stage N2',np.where(errores.Real==2,'Sleep stage N3',np.where(errores.Real==3,'Sleep stage R','Sleep stage W'))))\n",
    "errores['Prediccion']=np.where(errores.Prediccion==0,'Sleep stage N1',np.where(errores.Prediccion==1,'Sleep stage N2',np.where(errores.Prediccion==2,'Sleep stage N3',np.where(errores.Prediccion==3,'Sleep stage R','Sleep stage W'))))"
   ]
  },
  {
   "cell_type": "code",
   "execution_count": 54,
   "id": "412d0135",
   "metadata": {},
   "outputs": [],
   "source": [
    "indices_erroneos=errores.index.values"
   ]
  },
  {
   "cell_type": "code",
   "execution_count": 113,
   "id": "1f72b447",
   "metadata": {},
   "outputs": [
    {
     "name": "stdout",
     "output_type": "stream",
     "text": [
      "Extracting EDF parameters from /home/pabloro/master/PSG1.edf...\n",
      "EDF file detected\n",
      "Setting channel info structure...\n",
      "Creating raw.info structure...\n"
     ]
    },
    {
     "name": "stderr",
     "output_type": "stream",
     "text": [
      "<ipython-input-112-b48beb632d79>:9: RuntimeWarning: Omitted 3 annotation(s) that were outside data range.\n",
      "  data = mne.io.read_raw_edf(f'{file}.edf')\n",
      "<ipython-input-112-b48beb632d79>:9: RuntimeWarning: Limited 1 annotation(s) that were expanding outside the data range.\n",
      "  data = mne.io.read_raw_edf(f'{file}.edf')\n"
     ]
    },
    {
     "name": "stdout",
     "output_type": "stream",
     "text": [
      "Used Annotations descriptions: ['EEG arousal', 'Hypopnea', 'Impedance at 10 kOhm', 'Lights Off', 'Limb Movement', 'Montage:PR, Ref', 'Obstructive Apnea', 'Oximeter Event', 'Oxygen Desaturation', 'Pulse Rate Event', 'Recording Analyzer - Auto-Staging', 'Recording Analyzer - Data Trends', 'Recording Analyzer - ECG', 'Recording Analyzer - Sleep Events', 'Sleep stage N1', 'Sleep stage N2', 'Sleep stage N3', 'Sleep stage R', 'Sleep stage W', 'Snoring', 'Start Recording', 'Started Analyzer - Sleep Events', 'Video Recording ON']\n",
      "Not setting metadata\n",
      "Multiple event values for single event times found. Creating new event value to reflect simultaneous events.\n",
      "Not setting metadata\n",
      "3031 matching events found\n",
      "No baseline correction applied\n",
      "0 projection items activated\n",
      "Loading data for 3031 events and 15360 original time points ...\n",
      "1 bad epochs dropped\n"
     ]
    }
   ],
   "source": [
    "diccionarios,valores,channels,lab=datos('PSG1')"
   ]
  },
  {
   "cell_type": "code",
   "execution_count": 116,
   "id": "b32f35a7",
   "metadata": {},
   "outputs": [
    {
     "data": {
      "text/plain": [
       "(882,)"
      ]
     },
     "execution_count": 116,
     "metadata": {},
     "output_type": "execute_result"
    }
   ],
   "source": [
    "np.shape(diccionarios)"
   ]
  },
  {
   "cell_type": "code",
   "execution_count": 108,
   "id": "33081567",
   "metadata": {},
   "outputs": [
    {
     "name": "stdout",
     "output_type": "stream",
     "text": [
      "(50, 15360)\n",
      "(50, 15360)\n",
      "(50, 15360)\n",
      "(50, 15360)\n",
      "(50, 15360)\n",
      "(50, 15360)\n",
      "(50, 15360)\n",
      "(50, 15360)\n",
      "(50, 15360)\n",
      "(50, 15360)\n",
      "(50, 15360)\n",
      "(50, 15360)\n",
      "(50, 15360)\n",
      "(50, 15360)\n",
      "(50, 15360)\n",
      "(50, 15360)\n",
      "(50, 15360)\n",
      "(50, 15360)\n",
      "(50, 15360)\n",
      "(50, 15360)\n",
      "(50, 15360)\n",
      "(50, 15360)\n",
      "(50, 15360)\n",
      "(50, 15360)\n",
      "(50, 15360)\n",
      "(50, 15360)\n",
      "(50, 15360)\n",
      "(50, 15360)\n",
      "(50, 15360)\n",
      "(50, 15360)\n",
      "(50, 15360)\n",
      "(50, 15360)\n",
      "(50, 15360)\n",
      "(50, 15360)\n",
      "(50, 15360)\n",
      "(50, 15360)\n",
      "(50, 15360)\n",
      "(50, 15360)\n",
      "(50, 15360)\n",
      "(50, 15360)\n",
      "(50, 15360)\n",
      "(50, 15360)\n",
      "(50, 15360)\n",
      "(50, 15360)\n",
      "(50, 15360)\n",
      "(50, 15360)\n",
      "(50, 15360)\n",
      "(50, 15360)\n",
      "(50, 15360)\n",
      "(50, 15360)\n",
      "(50, 15360)\n",
      "(50, 15360)\n",
      "(50, 15360)\n",
      "(50, 15360)\n",
      "(50, 15360)\n",
      "(50, 15360)\n",
      "(50, 15360)\n",
      "(50, 15360)\n",
      "(50, 15360)\n",
      "(50, 15360)\n",
      "(50, 15360)\n",
      "(50, 15360)\n",
      "(50, 15360)\n",
      "(50, 15360)\n",
      "(50, 15360)\n",
      "(50, 15360)\n",
      "(50, 15360)\n",
      "(50, 15360)\n",
      "(50, 15360)\n",
      "(50, 15360)\n",
      "(50, 15360)\n",
      "(50, 15360)\n",
      "(50, 15360)\n",
      "(50, 15360)\n",
      "(50, 15360)\n",
      "(50, 15360)\n",
      "(50, 15360)\n",
      "(50, 15360)\n",
      "(50, 15360)\n",
      "(50, 15360)\n",
      "(50, 15360)\n",
      "(50, 15360)\n",
      "(50, 15360)\n",
      "(50, 15360)\n",
      "(50, 15360)\n",
      "(50, 15360)\n",
      "(50, 15360)\n",
      "(50, 15360)\n",
      "(50, 15360)\n",
      "(50, 15360)\n",
      "(50, 15360)\n",
      "(50, 15360)\n",
      "(50, 15360)\n",
      "(50, 15360)\n",
      "(50, 15360)\n",
      "(50, 15360)\n",
      "(50, 15360)\n",
      "(50, 15360)\n",
      "(50, 15360)\n",
      "(50, 15360)\n",
      "(50, 15360)\n",
      "(50, 15360)\n",
      "(50, 15360)\n",
      "(50, 15360)\n",
      "(50, 15360)\n",
      "(50, 15360)\n",
      "(50, 15360)\n",
      "(50, 15360)\n",
      "(50, 15360)\n",
      "(50, 15360)\n",
      "(50, 15360)\n",
      "(50, 15360)\n",
      "(50, 15360)\n",
      "(50, 15360)\n",
      "(50, 15360)\n",
      "(50, 15360)\n",
      "(50, 15360)\n",
      "(50, 15360)\n",
      "(50, 15360)\n",
      "(50, 15360)\n",
      "(50, 15360)\n",
      "(50, 15360)\n",
      "(50, 15360)\n",
      "(50, 15360)\n",
      "(50, 15360)\n",
      "(50, 15360)\n",
      "(50, 15360)\n",
      "(50, 15360)\n",
      "(50, 15360)\n",
      "(50, 15360)\n",
      "(50, 15360)\n",
      "(50, 15360)\n",
      "(50, 15360)\n",
      "(50, 15360)\n",
      "(50, 15360)\n",
      "(50, 15360)\n",
      "(50, 15360)\n",
      "(50, 15360)\n",
      "(50, 15360)\n",
      "(50, 15360)\n",
      "(50, 15360)\n",
      "(50, 15360)\n",
      "(50, 15360)\n",
      "(50, 15360)\n",
      "(50, 15360)\n",
      "(50, 15360)\n",
      "(50, 15360)\n",
      "(50, 15360)\n",
      "(50, 15360)\n",
      "(50, 15360)\n",
      "(50, 15360)\n",
      "(50, 15360)\n",
      "(50, 15360)\n",
      "(50, 15360)\n",
      "(50, 15360)\n",
      "(50, 15360)\n",
      "(50, 15360)\n",
      "(50, 15360)\n",
      "(50, 15360)\n",
      "(50, 15360)\n",
      "(50, 15360)\n",
      "(50, 15360)\n",
      "(50, 15360)\n",
      "(50, 15360)\n",
      "(50, 15360)\n",
      "(50, 15360)\n",
      "(50, 15360)\n",
      "(50, 15360)\n",
      "(50, 15360)\n",
      "(50, 15360)\n",
      "(50, 15360)\n",
      "(50, 15360)\n",
      "(50, 15360)\n",
      "(50, 15360)\n",
      "(50, 15360)\n",
      "(50, 15360)\n",
      "(50, 15360)\n",
      "(50, 15360)\n",
      "(50, 15360)\n",
      "(50, 15360)\n",
      "(50, 15360)\n",
      "(50, 15360)\n",
      "(50, 15360)\n",
      "(50, 15360)\n",
      "(50, 15360)\n",
      "(50, 15360)\n",
      "(50, 15360)\n",
      "(50, 15360)\n",
      "(50, 15360)\n",
      "(50, 15360)\n",
      "(50, 15360)\n",
      "(50, 15360)\n",
      "(50, 15360)\n",
      "(50, 15360)\n",
      "(50, 15360)\n",
      "(50, 15360)\n",
      "(50, 15360)\n",
      "(50, 15360)\n",
      "(50, 15360)\n",
      "(50, 15360)\n",
      "(50, 15360)\n",
      "(50, 15360)\n",
      "(50, 15360)\n",
      "(50, 15360)\n",
      "(50, 15360)\n",
      "(50, 15360)\n",
      "(50, 15360)\n",
      "(50, 15360)\n",
      "(50, 15360)\n",
      "(50, 15360)\n",
      "(50, 15360)\n",
      "(50, 15360)\n",
      "(50, 15360)\n",
      "(50, 15360)\n",
      "(50, 15360)\n",
      "(50, 15360)\n",
      "(50, 15360)\n",
      "(50, 15360)\n",
      "(50, 15360)\n",
      "(50, 15360)\n",
      "(50, 15360)\n",
      "(50, 15360)\n",
      "(50, 15360)\n",
      "(50, 15360)\n",
      "(50, 15360)\n",
      "(50, 15360)\n",
      "(50, 15360)\n",
      "(50, 15360)\n",
      "(50, 15360)\n",
      "(50, 15360)\n",
      "(50, 15360)\n",
      "(50, 15360)\n",
      "(50, 15360)\n",
      "(50, 15360)\n",
      "(50, 15360)\n",
      "(50, 15360)\n",
      "(50, 15360)\n",
      "(50, 15360)\n",
      "(50, 15360)\n",
      "(50, 15360)\n",
      "(50, 15360)\n",
      "(50, 15360)\n",
      "(50, 15360)\n",
      "(50, 15360)\n",
      "(50, 15360)\n",
      "(50, 15360)\n",
      "(50, 15360)\n",
      "(50, 15360)\n",
      "(50, 15360)\n",
      "(50, 15360)\n",
      "(50, 15360)\n",
      "(50, 15360)\n",
      "(50, 15360)\n",
      "(50, 15360)\n",
      "(50, 15360)\n",
      "(50, 15360)\n",
      "(50, 15360)\n",
      "(50, 15360)\n",
      "(50, 15360)\n",
      "(50, 15360)\n",
      "(50, 15360)\n",
      "(50, 15360)\n",
      "(50, 15360)\n",
      "(50, 15360)\n",
      "(50, 15360)\n",
      "(50, 15360)\n",
      "(50, 15360)\n",
      "(50, 15360)\n",
      "(50, 15360)\n",
      "(50, 15360)\n",
      "(50, 15360)\n",
      "(50, 15360)\n",
      "(50, 15360)\n",
      "(50, 15360)\n",
      "(50, 15360)\n",
      "(50, 15360)\n",
      "(50, 15360)\n",
      "(50, 15360)\n",
      "(50, 15360)\n",
      "(50, 15360)\n",
      "(50, 15360)\n",
      "(50, 15360)\n",
      "(50, 15360)\n",
      "(50, 15360)\n",
      "(50, 15360)\n",
      "(50, 15360)\n",
      "(50, 15360)\n",
      "(50, 15360)\n",
      "(50, 15360)\n",
      "(50, 15360)\n",
      "(50, 15360)\n",
      "(50, 15360)\n",
      "(50, 15360)\n",
      "(50, 15360)\n",
      "(50, 15360)\n",
      "(50, 15360)\n",
      "(50, 15360)\n",
      "(50, 15360)\n",
      "(50, 15360)\n",
      "(50, 15360)\n",
      "(50, 15360)\n",
      "(50, 15360)\n",
      "(50, 15360)\n",
      "(50, 15360)\n",
      "(50, 15360)\n",
      "(50, 15360)\n",
      "(50, 15360)\n",
      "(50, 15360)\n",
      "(50, 15360)\n",
      "(50, 15360)\n",
      "(50, 15360)\n",
      "(50, 15360)\n",
      "(50, 15360)\n",
      "(50, 15360)\n",
      "(50, 15360)\n",
      "(50, 15360)\n",
      "(50, 15360)\n",
      "(50, 15360)\n",
      "(50, 15360)\n",
      "(50, 15360)\n",
      "(50, 15360)\n",
      "(50, 15360)\n",
      "(50, 15360)\n",
      "(50, 15360)\n",
      "(50, 15360)\n",
      "(50, 15360)\n",
      "(50, 15360)\n",
      "(50, 15360)\n",
      "(50, 15360)\n",
      "(50, 15360)\n",
      "(50, 15360)\n",
      "(50, 15360)\n",
      "(50, 15360)\n",
      "(50, 15360)\n",
      "(50, 15360)\n",
      "(50, 15360)\n",
      "(50, 15360)\n",
      "(50, 15360)\n",
      "(50, 15360)\n",
      "(50, 15360)\n",
      "(50, 15360)\n",
      "(50, 15360)\n",
      "(50, 15360)\n",
      "(50, 15360)\n",
      "(50, 15360)\n",
      "(50, 15360)\n",
      "(50, 15360)\n",
      "(50, 15360)\n",
      "(50, 15360)\n",
      "(50, 15360)\n",
      "(50, 15360)\n",
      "(50, 15360)\n",
      "(50, 15360)\n",
      "(50, 15360)\n",
      "(50, 15360)\n",
      "(50, 15360)\n",
      "(50, 15360)\n",
      "(50, 15360)\n",
      "(50, 15360)\n",
      "(50, 15360)\n",
      "(50, 15360)\n",
      "(50, 15360)\n",
      "(50, 15360)\n",
      "(50, 15360)\n",
      "(50, 15360)\n",
      "(50, 15360)\n",
      "(50, 15360)\n",
      "(50, 15360)\n",
      "(50, 15360)\n",
      "(50, 15360)\n",
      "(50, 15360)\n",
      "(50, 15360)\n",
      "(50, 15360)\n",
      "(50, 15360)\n",
      "(50, 15360)\n",
      "(50, 15360)\n",
      "(50, 15360)\n",
      "(50, 15360)\n",
      "(50, 15360)\n",
      "(50, 15360)\n",
      "(50, 15360)\n",
      "(50, 15360)\n",
      "(50, 15360)\n",
      "(50, 15360)\n",
      "(50, 15360)\n",
      "(50, 15360)\n",
      "(50, 15360)\n",
      "(50, 15360)\n",
      "(50, 15360)\n",
      "(50, 15360)\n",
      "(50, 15360)\n",
      "(50, 15360)\n",
      "(50, 15360)\n",
      "(50, 15360)\n",
      "(50, 15360)\n",
      "(50, 15360)\n",
      "(50, 15360)\n",
      "(50, 15360)\n",
      "(50, 15360)\n",
      "(50, 15360)\n",
      "(50, 15360)\n",
      "(50, 15360)\n",
      "(50, 15360)\n",
      "(50, 15360)\n",
      "(50, 15360)\n",
      "(50, 15360)\n",
      "(50, 15360)\n",
      "(50, 15360)\n",
      "(50, 15360)\n",
      "(50, 15360)\n",
      "(50, 15360)\n",
      "(50, 15360)\n",
      "(50, 15360)\n",
      "(50, 15360)\n",
      "(50, 15360)\n",
      "(50, 15360)\n",
      "(50, 15360)\n",
      "(50, 15360)\n",
      "(50, 15360)\n",
      "(50, 15360)\n",
      "(50, 15360)\n",
      "(50, 15360)\n",
      "(50, 15360)\n",
      "(50, 15360)\n",
      "(50, 15360)\n",
      "(50, 15360)\n",
      "(50, 15360)\n",
      "(50, 15360)\n",
      "(50, 15360)\n",
      "(50, 15360)\n",
      "(50, 15360)\n",
      "(50, 15360)\n",
      "(50, 15360)\n",
      "(50, 15360)\n",
      "(50, 15360)\n",
      "(50, 15360)\n",
      "(50, 15360)\n",
      "(50, 15360)\n",
      "(50, 15360)\n",
      "(50, 15360)\n",
      "(50, 15360)\n",
      "(50, 15360)\n",
      "(50, 15360)\n",
      "(50, 15360)\n",
      "(50, 15360)\n",
      "(50, 15360)\n",
      "(50, 15360)\n",
      "(50, 15360)\n",
      "(50, 15360)\n",
      "(50, 15360)\n",
      "(50, 15360)\n",
      "(50, 15360)\n",
      "(50, 15360)\n",
      "(50, 15360)\n",
      "(50, 15360)\n",
      "(50, 15360)\n",
      "(50, 15360)\n",
      "(50, 15360)\n",
      "(50, 15360)\n",
      "(50, 15360)\n",
      "(50, 15360)\n",
      "(50, 15360)\n",
      "(50, 15360)\n",
      "(50, 15360)\n",
      "(50, 15360)\n",
      "(50, 15360)\n",
      "(50, 15360)\n",
      "(50, 15360)\n",
      "(50, 15360)\n",
      "(50, 15360)\n",
      "(50, 15360)\n",
      "(50, 15360)\n",
      "(50, 15360)\n",
      "(50, 15360)\n",
      "(50, 15360)\n",
      "(50, 15360)\n",
      "(50, 15360)\n",
      "(50, 15360)\n",
      "(50, 15360)\n",
      "(50, 15360)\n",
      "(50, 15360)\n",
      "(50, 15360)\n",
      "(50, 15360)\n",
      "(50, 15360)\n",
      "(50, 15360)\n",
      "(50, 15360)\n",
      "(50, 15360)\n",
      "(50, 15360)\n",
      "(50, 15360)\n",
      "(50, 15360)\n",
      "(50, 15360)\n",
      "(50, 15360)\n",
      "(50, 15360)\n",
      "(50, 15360)\n",
      "(50, 15360)\n",
      "(50, 15360)\n",
      "(50, 15360)\n",
      "(50, 15360)\n",
      "(50, 15360)\n",
      "(50, 15360)\n",
      "(50, 15360)\n",
      "(50, 15360)\n",
      "(50, 15360)\n",
      "(50, 15360)\n",
      "(50, 15360)\n",
      "(50, 15360)\n",
      "(50, 15360)\n",
      "(50, 15360)\n",
      "(50, 15360)\n",
      "(50, 15360)\n",
      "(50, 15360)\n",
      "(50, 15360)\n",
      "(50, 15360)\n",
      "(50, 15360)\n",
      "(50, 15360)\n",
      "(50, 15360)\n",
      "(50, 15360)\n",
      "(50, 15360)\n",
      "(50, 15360)\n",
      "(50, 15360)\n",
      "(50, 15360)\n",
      "(50, 15360)\n",
      "(50, 15360)\n",
      "(50, 15360)\n",
      "(50, 15360)\n",
      "(50, 15360)\n",
      "(50, 15360)\n",
      "(50, 15360)\n",
      "(50, 15360)\n",
      "(50, 15360)\n",
      "(50, 15360)\n",
      "(50, 15360)\n",
      "(50, 15360)\n",
      "(50, 15360)\n",
      "(50, 15360)\n",
      "(50, 15360)\n",
      "(50, 15360)\n",
      "(50, 15360)\n",
      "(50, 15360)\n",
      "(50, 15360)\n",
      "(50, 15360)\n",
      "(50, 15360)\n",
      "(50, 15360)\n",
      "(50, 15360)\n",
      "(50, 15360)\n",
      "(50, 15360)\n",
      "(50, 15360)\n",
      "(50, 15360)\n",
      "(50, 15360)\n",
      "(50, 15360)\n",
      "(50, 15360)\n",
      "(50, 15360)\n",
      "(50, 15360)\n",
      "(50, 15360)\n",
      "(50, 15360)\n",
      "(50, 15360)\n",
      "(50, 15360)\n",
      "(50, 15360)\n",
      "(50, 15360)\n",
      "(50, 15360)\n",
      "(50, 15360)\n",
      "(50, 15360)\n",
      "(50, 15360)\n",
      "(50, 15360)\n",
      "(50, 15360)\n",
      "(50, 15360)\n",
      "(50, 15360)\n",
      "(50, 15360)\n",
      "(50, 15360)\n",
      "(50, 15360)\n",
      "(50, 15360)\n",
      "(50, 15360)\n",
      "(50, 15360)\n",
      "(50, 15360)\n",
      "(50, 15360)\n",
      "(50, 15360)\n",
      "(50, 15360)\n",
      "(50, 15360)\n",
      "(50, 15360)\n",
      "(50, 15360)\n",
      "(50, 15360)\n",
      "(50, 15360)\n",
      "(50, 15360)\n",
      "(50, 15360)\n",
      "(50, 15360)\n",
      "(50, 15360)\n",
      "(50, 15360)\n",
      "(50, 15360)\n",
      "(50, 15360)\n",
      "(50, 15360)\n",
      "(50, 15360)\n",
      "(50, 15360)\n",
      "(50, 15360)\n",
      "(50, 15360)\n",
      "(50, 15360)\n",
      "(50, 15360)\n",
      "(50, 15360)\n",
      "(50, 15360)\n",
      "(50, 15360)\n",
      "(50, 15360)\n",
      "(50, 15360)\n",
      "(50, 15360)\n",
      "(50, 15360)\n",
      "(50, 15360)\n",
      "(50, 15360)\n",
      "(50, 15360)\n",
      "(50, 15360)\n",
      "(50, 15360)\n",
      "(50, 15360)\n",
      "(50, 15360)\n",
      "(50, 15360)\n",
      "(50, 15360)\n",
      "(50, 15360)\n",
      "(50, 15360)\n",
      "(50, 15360)\n",
      "(50, 15360)\n",
      "(50, 15360)\n",
      "(50, 15360)\n",
      "(50, 15360)\n",
      "(50, 15360)\n",
      "(50, 15360)\n",
      "(50, 15360)\n",
      "(50, 15360)\n",
      "(50, 15360)\n",
      "(50, 15360)\n",
      "(50, 15360)\n",
      "(50, 15360)\n",
      "(50, 15360)\n",
      "(50, 15360)\n",
      "(50, 15360)\n",
      "(50, 15360)\n",
      "(50, 15360)\n",
      "(50, 15360)\n",
      "(50, 15360)\n",
      "(50, 15360)\n",
      "(50, 15360)\n",
      "(50, 15360)\n",
      "(50, 15360)\n",
      "(50, 15360)\n",
      "(50, 15360)\n",
      "(50, 15360)\n",
      "(50, 15360)\n",
      "(50, 15360)\n",
      "(50, 15360)\n",
      "(50, 15360)\n",
      "(50, 15360)\n",
      "(50, 15360)\n",
      "(50, 15360)\n",
      "(50, 15360)\n",
      "(50, 15360)\n",
      "(50, 15360)\n",
      "(50, 15360)\n",
      "(50, 15360)\n",
      "(50, 15360)\n",
      "(50, 15360)\n",
      "(50, 15360)\n",
      "(50, 15360)\n",
      "(50, 15360)\n",
      "(50, 15360)\n",
      "(50, 15360)\n",
      "(50, 15360)\n",
      "(50, 15360)\n",
      "(50, 15360)\n",
      "(50, 15360)\n",
      "(50, 15360)\n",
      "(50, 15360)\n",
      "(50, 15360)\n",
      "(50, 15360)\n",
      "(50, 15360)\n",
      "(50, 15360)\n",
      "(50, 15360)\n",
      "(50, 15360)\n",
      "(50, 15360)\n",
      "(50, 15360)\n",
      "(50, 15360)\n",
      "(50, 15360)\n",
      "(50, 15360)\n",
      "(50, 15360)\n",
      "(50, 15360)\n",
      "(50, 15360)\n",
      "(50, 15360)\n",
      "(50, 15360)\n",
      "(50, 15360)\n",
      "(50, 15360)\n",
      "(50, 15360)\n",
      "(50, 15360)\n",
      "(50, 15360)\n",
      "(50, 15360)\n",
      "(50, 15360)\n",
      "(50, 15360)\n",
      "(50, 15360)\n",
      "(50, 15360)\n",
      "(50, 15360)\n",
      "(50, 15360)\n",
      "(50, 15360)\n",
      "(50, 15360)\n",
      "(50, 15360)\n",
      "(50, 15360)\n",
      "(50, 15360)\n",
      "(50, 15360)\n",
      "(50, 15360)\n",
      "(50, 15360)\n",
      "(50, 15360)\n",
      "(50, 15360)\n",
      "(50, 15360)\n",
      "(50, 15360)\n",
      "(50, 15360)\n",
      "(50, 15360)\n",
      "(50, 15360)\n",
      "(50, 15360)\n",
      "(50, 15360)\n",
      "(50, 15360)\n",
      "(50, 15360)\n",
      "(50, 15360)\n",
      "(50, 15360)\n",
      "(50, 15360)\n",
      "(50, 15360)\n",
      "(50, 15360)\n",
      "(50, 15360)\n",
      "(50, 15360)\n",
      "(50, 15360)\n",
      "(50, 15360)\n",
      "(50, 15360)\n",
      "(50, 15360)\n",
      "(50, 15360)\n",
      "(50, 15360)\n",
      "(50, 15360)\n",
      "(50, 15360)\n",
      "(50, 15360)\n",
      "(50, 15360)\n",
      "(50, 15360)\n",
      "(50, 15360)\n",
      "(50, 15360)\n",
      "(50, 15360)\n",
      "(50, 15360)\n",
      "(50, 15360)\n",
      "(50, 15360)\n",
      "(50, 15360)\n",
      "(50, 15360)\n",
      "(50, 15360)\n",
      "(50, 15360)\n",
      "(50, 15360)\n",
      "(50, 15360)\n",
      "(50, 15360)\n",
      "(50, 15360)\n",
      "(50, 15360)\n",
      "(50, 15360)\n",
      "(50, 15360)\n",
      "(50, 15360)\n",
      "(50, 15360)\n",
      "(50, 15360)\n",
      "(50, 15360)\n",
      "(50, 15360)\n",
      "(50, 15360)\n",
      "(50, 15360)\n",
      "(50, 15360)\n",
      "(50, 15360)\n",
      "(50, 15360)\n",
      "(50, 15360)\n",
      "(50, 15360)\n",
      "(50, 15360)\n",
      "(50, 15360)\n",
      "(50, 15360)\n",
      "(50, 15360)\n",
      "(50, 15360)\n",
      "(50, 15360)\n",
      "(50, 15360)\n",
      "(50, 15360)\n",
      "(50, 15360)\n",
      "(50, 15360)\n",
      "(50, 15360)\n",
      "(50, 15360)\n",
      "(50, 15360)\n",
      "(50, 15360)\n",
      "(50, 15360)\n",
      "(50, 15360)\n",
      "(50, 15360)\n",
      "(50, 15360)\n",
      "(50, 15360)\n",
      "(50, 15360)\n",
      "(50, 15360)\n",
      "(50, 15360)\n",
      "(50, 15360)\n",
      "(50, 15360)\n",
      "(50, 15360)\n",
      "(50, 15360)\n",
      "(50, 15360)\n",
      "(50, 15360)\n",
      "(50, 15360)\n",
      "(50, 15360)\n",
      "(50, 15360)\n",
      "(50, 15360)\n",
      "(50, 15360)\n",
      "(50, 15360)\n",
      "(50, 15360)\n",
      "(50, 15360)\n",
      "(50, 15360)\n",
      "(50, 15360)\n",
      "(50, 15360)\n",
      "(50, 15360)\n",
      "(50, 15360)\n",
      "(50, 15360)\n",
      "(50, 15360)\n",
      "(50, 15360)\n",
      "(50, 15360)\n",
      "(50, 15360)\n",
      "(50, 15360)\n",
      "(50, 15360)\n",
      "(50, 15360)\n",
      "(50, 15360)\n",
      "(50, 15360)\n",
      "(50, 15360)\n",
      "(50, 15360)\n",
      "(50, 15360)\n",
      "(50, 15360)\n",
      "(50, 15360)\n",
      "(50, 15360)\n",
      "(50, 15360)\n",
      "(50, 15360)\n",
      "(50, 15360)\n",
      "(50, 15360)\n",
      "(50, 15360)\n",
      "(50, 15360)\n",
      "(50, 15360)\n",
      "(50, 15360)\n",
      "(50, 15360)\n",
      "(50, 15360)\n",
      "(50, 15360)\n",
      "(50, 15360)\n",
      "(50, 15360)\n",
      "(50, 15360)\n",
      "(50, 15360)\n",
      "(50, 15360)\n",
      "(50, 15360)\n",
      "(50, 15360)\n",
      "(50, 15360)\n",
      "(50, 15360)\n",
      "(50, 15360)\n",
      "(50, 15360)\n",
      "(50, 15360)\n",
      "(50, 15360)\n",
      "(50, 15360)\n",
      "(50, 15360)\n",
      "(50, 15360)\n",
      "(50, 15360)\n",
      "(50, 15360)\n",
      "(50, 15360)\n",
      "(50, 15360)\n",
      "(50, 15360)\n",
      "(50, 15360)\n",
      "(50, 15360)\n",
      "(50, 15360)\n",
      "(50, 15360)\n",
      "(50, 15360)\n",
      "(50, 15360)\n",
      "(50, 15360)\n",
      "(50, 15360)\n",
      "(50, 15360)\n",
      "(50, 15360)\n",
      "(50, 15360)\n",
      "(50, 15360)\n",
      "(50, 15360)\n",
      "(50, 15360)\n",
      "(50, 15360)\n",
      "(50, 15360)\n",
      "(50, 15360)\n",
      "(50, 15360)\n",
      "(50, 15360)\n",
      "(50, 15360)\n",
      "(50, 15360)\n",
      "(50, 15360)\n",
      "(50, 15360)\n",
      "(50, 15360)\n",
      "(50, 15360)\n",
      "(50, 15360)\n",
      "(50, 15360)\n",
      "(50, 15360)\n",
      "(50, 15360)\n",
      "(50, 15360)\n",
      "(50, 15360)\n",
      "(50, 15360)\n",
      "(50, 15360)\n"
     ]
    }
   ],
   "source": [
    "for v in valores:\n",
    "    print(v.shape)"
   ]
  },
  {
   "cell_type": "code",
   "execution_count": 55,
   "id": "98c128a8",
   "metadata": {},
   "outputs": [
    {
     "data": {
      "text/plain": [
       "(216,)"
      ]
     },
     "execution_count": 55,
     "metadata": {},
     "output_type": "execute_result"
    }
   ],
   "source": [
    "ind=indices_erroneos[indices_erroneos<882]\n",
    "ind.shape"
   ]
  },
  {
   "cell_type": "code",
   "execution_count": 117,
   "id": "f0cff5cc",
   "metadata": {},
   "outputs": [
    {
     "data": {
      "text/plain": [
       "(5, 76800)"
      ]
     },
     "execution_count": 117,
     "metadata": {},
     "output_type": "execute_result"
    }
   ],
   "source": [
    "np.shape(np.random.rand(5, 256*300)*200)"
   ]
  },
  {
   "cell_type": "code",
   "execution_count": 87,
   "id": "456eb355",
   "metadata": {},
   "outputs": [
    {
     "data": {
      "text/plain": [
       "(216, 50, 15360)"
      ]
     },
     "execution_count": 87,
     "metadata": {},
     "output_type": "execute_result"
    }
   ],
   "source": [
    "np.shape([valores[i] for i in ind])"
   ]
  },
  {
   "cell_type": "code",
   "execution_count": 90,
   "id": "53fcefc8",
   "metadata": {},
   "outputs": [],
   "source": [
    "erroneos_paciente1=[valores[i] for i in ind]"
   ]
  },
  {
   "cell_type": "code",
   "execution_count": 96,
   "id": "b737767b",
   "metadata": {},
   "outputs": [
    {
     "data": {
      "text/plain": [
       "216"
      ]
     },
     "execution_count": 96,
     "metadata": {},
     "output_type": "execute_result"
    }
   ],
   "source": [
    "np.shape(erroneos_paciente1)[0]"
   ]
  },
  {
   "cell_type": "code",
   "execution_count": 61,
   "id": "7e796391",
   "metadata": {},
   "outputs": [],
   "source": [
    "erroneos_etiquetas_paciente1=lab[ind]"
   ]
  },
  {
   "cell_type": "code",
   "execution_count": 120,
   "id": "0166b20d",
   "metadata": {},
   "outputs": [
    {
     "data": {
      "text/plain": [
       "array(['Sleep stage N1', 'Sleep stage N1', 'Sleep stage N1',\n",
       "       'Sleep stage N1', 'Sleep stage N1', 'Sleep stage N2',\n",
       "       'Sleep stage N2', 'Sleep stage N2', 'Sleep stage N2',\n",
       "       'Sleep stage N2', 'Sleep stage N2', 'Sleep stage N2',\n",
       "       'Sleep stage W', 'Sleep stage N1', 'Sleep stage N1',\n",
       "       'Sleep stage N1', 'Sleep stage N1', 'Sleep stage N1',\n",
       "       'Sleep stage N1', 'Sleep stage N1', 'Sleep stage W',\n",
       "       'Sleep stage N1', 'Sleep stage N1', 'Sleep stage N1',\n",
       "       'Sleep stage N2', 'Sleep stage N2', 'Sleep stage N2',\n",
       "       'Sleep stage N2', 'Sleep stage N3', 'Sleep stage W',\n",
       "       'Sleep stage W', 'Sleep stage W', 'Sleep stage W', 'Sleep stage W',\n",
       "       'Sleep stage W', 'Sleep stage W', 'Sleep stage W', 'Sleep stage W',\n",
       "       'Sleep stage W', 'Sleep stage N2', 'Sleep stage N2',\n",
       "       'Sleep stage N2', 'Sleep stage N2', 'Sleep stage N2',\n",
       "       'Sleep stage N2', 'Sleep stage N2', 'Sleep stage N2',\n",
       "       'Sleep stage N2', 'Sleep stage N2', 'Sleep stage N2',\n",
       "       'Sleep stage N3', 'Sleep stage N3', 'Sleep stage N3',\n",
       "       'Sleep stage N3', 'Sleep stage N3', 'Sleep stage N3',\n",
       "       'Sleep stage N3', 'Sleep stage N3', 'Sleep stage N3',\n",
       "       'Sleep stage N3', 'Sleep stage W', 'Sleep stage N2',\n",
       "       'Sleep stage N2', 'Sleep stage R', 'Sleep stage R',\n",
       "       'Sleep stage R', 'Sleep stage R', 'Sleep stage R', 'Sleep stage W',\n",
       "       'Sleep stage N2', 'Sleep stage N2', 'Sleep stage N2',\n",
       "       'Sleep stage N2', 'Sleep stage N3', 'Sleep stage N3',\n",
       "       'Sleep stage N3', 'Sleep stage N3', 'Sleep stage N3',\n",
       "       'Sleep stage N3', 'Sleep stage N3', 'Sleep stage W',\n",
       "       'Sleep stage W', 'Sleep stage N2', 'Sleep stage N2',\n",
       "       'Sleep stage N2', 'Sleep stage N2', 'Sleep stage N2',\n",
       "       'Sleep stage N2', 'Sleep stage N2', 'Sleep stage N3',\n",
       "       'Sleep stage N3', 'Sleep stage N3', 'Sleep stage N3',\n",
       "       'Sleep stage N3', 'Sleep stage N3', 'Sleep stage N3',\n",
       "       'Sleep stage N3', 'Sleep stage N3', 'Sleep stage N2',\n",
       "       'Sleep stage N2', 'Sleep stage N2', 'Sleep stage N2',\n",
       "       'Sleep stage N2', 'Sleep stage R', 'Sleep stage R',\n",
       "       'Sleep stage R', 'Sleep stage R', 'Sleep stage R', 'Sleep stage R',\n",
       "       'Sleep stage R', 'Sleep stage N2', 'Sleep stage N2',\n",
       "       'Sleep stage W', 'Sleep stage W', 'Sleep stage N2',\n",
       "       'Sleep stage N2', 'Sleep stage N3', 'Sleep stage N3',\n",
       "       'Sleep stage N3', 'Sleep stage N3', 'Sleep stage N3',\n",
       "       'Sleep stage W', 'Sleep stage W', 'Sleep stage W', 'Sleep stage W',\n",
       "       'Sleep stage W', 'Sleep stage W', 'Sleep stage N2',\n",
       "       'Sleep stage W', 'Sleep stage N2', 'Sleep stage N2',\n",
       "       'Sleep stage R', 'Sleep stage R', 'Sleep stage R', 'Sleep stage R',\n",
       "       'Sleep stage R', 'Sleep stage R', 'Sleep stage R', 'Sleep stage R',\n",
       "       'Sleep stage N2', 'Sleep stage N2', 'Sleep stage N2',\n",
       "       'Sleep stage N2', 'Sleep stage N2', 'Sleep stage N2',\n",
       "       'Sleep stage N2', 'Sleep stage N2', 'Sleep stage N2',\n",
       "       'Sleep stage N2', 'Sleep stage N2', 'Sleep stage N2',\n",
       "       'Sleep stage N2', 'Sleep stage N2', 'Sleep stage N2',\n",
       "       'Sleep stage N2', 'Sleep stage N2', 'Sleep stage N2',\n",
       "       'Sleep stage N2', 'Sleep stage N2', 'Sleep stage N2',\n",
       "       'Sleep stage N2', 'Sleep stage N1', 'Sleep stage N1',\n",
       "       'Sleep stage N1', 'Sleep stage N1', 'Sleep stage N1',\n",
       "       'Sleep stage N1', 'Sleep stage N1', 'Sleep stage N1',\n",
       "       'Sleep stage N1', 'Sleep stage N2', 'Sleep stage N2',\n",
       "       'Sleep stage N2', 'Sleep stage N2', 'Sleep stage N2',\n",
       "       'Sleep stage N1', 'Sleep stage N2', 'Sleep stage N2',\n",
       "       'Sleep stage N2', 'Sleep stage N2', 'Sleep stage N2',\n",
       "       'Sleep stage N2', 'Sleep stage N2', 'Sleep stage N2',\n",
       "       'Sleep stage N2', 'Sleep stage N2', 'Sleep stage N2',\n",
       "       'Sleep stage N2', 'Sleep stage N3', 'Sleep stage N3',\n",
       "       'Sleep stage N3', 'Sleep stage N2', 'Sleep stage N2',\n",
       "       'Sleep stage N2', 'Sleep stage N2', 'Sleep stage W',\n",
       "       'Sleep stage W', 'Sleep stage R', 'Sleep stage R', 'Sleep stage R',\n",
       "       'Sleep stage R', 'Sleep stage R', 'Sleep stage R', 'Sleep stage R',\n",
       "       'Sleep stage R', 'Sleep stage R', 'Sleep stage W',\n",
       "       'Sleep stage N2', 'Sleep stage N2', 'Sleep stage N2',\n",
       "       'Sleep stage N2', 'Sleep stage N2', 'Sleep stage W',\n",
       "       'Sleep stage W', 'Sleep stage W', 'Sleep stage W'], dtype=object)"
      ]
     },
     "execution_count": 120,
     "metadata": {},
     "output_type": "execute_result"
    }
   ],
   "source": [
    "erroneos_etiquetas_paciente1.values"
   ]
  },
  {
   "cell_type": "code",
   "execution_count": 126,
   "id": "5b3084c8",
   "metadata": {},
   "outputs": [],
   "source": [
    "annotations=[[i, 0, d] for i,d in zip(range(0,15390,30),erroneos_etiquetas_paciente1.values)]"
   ]
  },
  {
   "cell_type": "code",
   "execution_count": 127,
   "id": "5cc48613",
   "metadata": {},
   "outputs": [
    {
     "data": {
      "text/plain": [
       "True"
      ]
     },
     "execution_count": 127,
     "metadata": {},
     "output_type": "execute_result"
    }
   ],
   "source": [
    "from pyedflib import highlevel\n",
    "\n",
    "signals = np.reshape(erroneos_paciente1,newshape=((np.shape(erroneos_paciente1)[1],np.shape(erroneos_paciente1)[2]*np.shape(erroneos_paciente1)[0]))) # 5 minutes of random signal\n",
    "channel_names = channels\n",
    "\n",
    "signal_headers = highlevel.make_signal_headers(channel_names,sample_rate=256)\n",
    "header = highlevel.make_header(patientname='patient_x', gender='Female')\n",
    "header['annotations'] = annotations\n",
    "highlevel.write_edf('red1.edf', signals, signal_headers, header)"
   ]
  },
  {
   "cell_type": "code",
   "execution_count": 88,
   "id": "deb4db5c",
   "metadata": {},
   "outputs": [
    {
     "data": {
      "text/plain": [
       "(5, 76800)"
      ]
     },
     "execution_count": 88,
     "metadata": {},
     "output_type": "execute_result"
    }
   ],
   "source": [
    "signals.shape"
   ]
  },
  {
   "cell_type": "code",
   "execution_count": 69,
   "id": "0969eabf",
   "metadata": {},
   "outputs": [
    {
     "data": {
      "text/plain": [
       "[{'label': 'ch1',\n",
       "  'dimension': 'uV',\n",
       "  'sample_rate': 256,\n",
       "  'physical_min': -200.0,\n",
       "  'physical_max': 200.0,\n",
       "  'digital_min': -32768,\n",
       "  'digital_max': 32767,\n",
       "  'transducer': '',\n",
       "  'prefilter': ''},\n",
       " {'label': 'ch2',\n",
       "  'dimension': 'uV',\n",
       "  'sample_rate': 256,\n",
       "  'physical_min': -200.0,\n",
       "  'physical_max': 200.0,\n",
       "  'digital_min': -32768,\n",
       "  'digital_max': 32767,\n",
       "  'transducer': '',\n",
       "  'prefilter': ''},\n",
       " {'label': 'ch3',\n",
       "  'dimension': 'uV',\n",
       "  'sample_rate': 256,\n",
       "  'physical_min': -200.0,\n",
       "  'physical_max': 200.0,\n",
       "  'digital_min': -32768,\n",
       "  'digital_max': 32767,\n",
       "  'transducer': '',\n",
       "  'prefilter': ''},\n",
       " {'label': 'ch4',\n",
       "  'dimension': 'uV',\n",
       "  'sample_rate': 256,\n",
       "  'physical_min': -200.0,\n",
       "  'physical_max': 200.0,\n",
       "  'digital_min': -32768,\n",
       "  'digital_max': 32767,\n",
       "  'transducer': '',\n",
       "  'prefilter': ''},\n",
       " {'label': 'ch5',\n",
       "  'dimension': 'uV',\n",
       "  'sample_rate': 256,\n",
       "  'physical_min': -200.0,\n",
       "  'physical_max': 200.0,\n",
       "  'digital_min': -32768,\n",
       "  'digital_max': 32767,\n",
       "  'transducer': '',\n",
       "  'prefilter': ''}]"
      ]
     },
     "execution_count": 69,
     "metadata": {},
     "output_type": "execute_result"
    }
   ],
   "source": [
    "signal_headers"
   ]
  }
 ],
 "metadata": {
  "kernelspec": {
   "display_name": "Python 3",
   "language": "python",
   "name": "python3"
  },
  "language_info": {
   "codemirror_mode": {
    "name": "ipython",
    "version": 3
   },
   "file_extension": ".py",
   "mimetype": "text/x-python",
   "name": "python",
   "nbconvert_exporter": "python",
   "pygments_lexer": "ipython3",
   "version": "3.8.10"
  }
 },
 "nbformat": 4,
 "nbformat_minor": 5
}
