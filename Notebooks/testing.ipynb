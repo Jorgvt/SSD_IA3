{
 "cells": [
  {
   "cell_type": "code",
   "execution_count": 1,
   "source": [
    "import warnings\r\n",
    "warnings.filterwarnings(\"ignore\", category=RuntimeWarning) \r\n",
    "\r\n",
    "import numpy as np\r\n",
    "import matplotlib.pyplot as plt\r\n",
    "from tqdm.auto import tqdm\r\n",
    "import mne\r\n",
    "mne.set_log_level(verbose=False)\r\n",
    "\r\n",
    "from Datasets import *"
   ],
   "outputs": [],
   "metadata": {}
  },
  {
   "cell_type": "code",
   "execution_count": 2,
   "source": [
    "path = \"../Data/PSG1.edf\""
   ],
   "outputs": [],
   "metadata": {}
  },
  {
   "cell_type": "code",
   "execution_count": 3,
   "source": [
    "dataset = EDFData_PTH(path)"
   ],
   "outputs": [
    {
     "output_type": "stream",
     "name": "stderr",
     "text": [
      "e:\\Python\\TFM\\SSD_IA3\\Notebooks\\Datasets.py:21: RuntimeWarning: Omitted 3 annotation(s) that were outside data range.\n",
      "  data = mne.io.read_raw_edf(path)\n",
      "e:\\Python\\TFM\\SSD_IA3\\Notebooks\\Datasets.py:21: RuntimeWarning: Limited 1 annotation(s) that were expanding outside the data range.\n",
      "  data = mne.io.read_raw_edf(path)\n"
     ]
    }
   ],
   "metadata": {}
  },
  {
   "cell_type": "code",
   "execution_count": 4,
   "source": [
    "for a,b in dataset:\r\n",
    "    break"
   ],
   "outputs": [],
   "metadata": {}
  },
  {
   "cell_type": "code",
   "execution_count": 5,
   "source": [
    "plt.figure()\r\n",
    "plt.hist(a[0])\r\n",
    "plt.show()"
   ],
   "outputs": [
    {
     "output_type": "display_data",
     "data": {
      "text/plain": [
       "<Figure size 432x288 with 1 Axes>"
      ],
      "image/svg+xml": "<?xml version=\"1.0\" encoding=\"utf-8\" standalone=\"no\"?>\r\n<!DOCTYPE svg PUBLIC \"-//W3C//DTD SVG 1.1//EN\"\r\n  \"http://www.w3.org/Graphics/SVG/1.1/DTD/svg11.dtd\">\r\n<!-- Created with matplotlib (https://matplotlib.org/) -->\r\n<svg height=\"248.518125pt\" version=\"1.1\" viewBox=\"0 0 381.65 248.518125\" width=\"381.65pt\" xmlns=\"http://www.w3.org/2000/svg\" xmlns:xlink=\"http://www.w3.org/1999/xlink\">\r\n <defs>\r\n  <style type=\"text/css\">\r\n*{stroke-linecap:butt;stroke-linejoin:round;}\r\n  </style>\r\n </defs>\r\n <g id=\"figure_1\">\r\n  <g id=\"patch_1\">\r\n   <path d=\"M -0 248.518125 \r\nL 381.65 248.518125 \r\nL 381.65 0 \r\nL -0 0 \r\nz\r\n\" style=\"fill:none;\"/>\r\n  </g>\r\n  <g id=\"axes_1\">\r\n   <g id=\"patch_2\">\r\n    <path d=\"M 39.65 224.64 \r\nL 374.45 224.64 \r\nL 374.45 7.2 \r\nL 39.65 7.2 \r\nz\r\n\" style=\"fill:#ffffff;\"/>\r\n   </g>\r\n   <g id=\"patch_3\">\r\n    <path clip-path=\"url(#p16d86668b8)\" d=\"M 54.868182 224.64 \r\nL 85.304543 224.64 \r\nL 85.304543 224.451111 \r\nL 54.868182 224.451111 \r\nz\r\n\" style=\"fill:#1f77b4;\"/>\r\n   </g>\r\n   <g id=\"patch_4\">\r\n    <path clip-path=\"url(#p16d86668b8)\" d=\"M 85.304543 224.64 \r\nL 115.740917 224.64 \r\nL 115.740917 212.865896 \r\nL 85.304543 212.865896 \r\nz\r\n\" style=\"fill:#1f77b4;\"/>\r\n   </g>\r\n   <g id=\"patch_5\">\r\n    <path clip-path=\"url(#p16d86668b8)\" d=\"M 115.74091 224.64 \r\nL 146.177271 224.64 \r\nL 146.177271 156.576863 \r\nL 115.74091 156.576863 \r\nz\r\n\" style=\"fill:#1f77b4;\"/>\r\n   </g>\r\n   <g id=\"patch_6\">\r\n    <path clip-path=\"url(#p16d86668b8)\" d=\"M 146.177271 224.64 \r\nL 176.613632 224.64 \r\nL 176.613632 88.324837 \r\nL 146.177271 88.324837 \r\nz\r\n\" style=\"fill:#1f77b4;\"/>\r\n   </g>\r\n   <g id=\"patch_7\">\r\n    <path clip-path=\"url(#p16d86668b8)\" d=\"M 176.613639 224.64 \r\nL 207.05 224.64 \r\nL 207.05 19.25429 \r\nL 176.613639 19.25429 \r\nz\r\n\" style=\"fill:#1f77b4;\"/>\r\n   </g>\r\n   <g id=\"patch_8\">\r\n    <path clip-path=\"url(#p16d86668b8)\" d=\"M 207.050002 224.64 \r\nL 237.486363 224.64 \r\nL 237.486363 17.554286 \r\nL 207.050002 17.554286 \r\nz\r\n\" style=\"fill:#1f77b4;\"/>\r\n   </g>\r\n   <g id=\"patch_9\">\r\n    <path clip-path=\"url(#p16d86668b8)\" d=\"M 237.486368 224.64 \r\nL 267.922729 224.64 \r\nL 267.922729 38.080264 \r\nL 237.486368 38.080264 \r\nz\r\n\" style=\"fill:#1f77b4;\"/>\r\n   </g>\r\n   <g id=\"patch_10\">\r\n    <path clip-path=\"url(#p16d86668b8)\" d=\"M 267.922729 224.64 \r\nL 298.35909 224.64 \r\nL 298.35909 96.950785 \r\nL 267.922729 96.950785 \r\nz\r\n\" style=\"fill:#1f77b4;\"/>\r\n   </g>\r\n   <g id=\"patch_11\">\r\n    <path clip-path=\"url(#p16d86668b8)\" d=\"M 298.35909 224.64 \r\nL 328.795464 224.64 \r\nL 328.795464 204.428837 \r\nL 298.35909 204.428837 \r\nz\r\n\" style=\"fill:#1f77b4;\"/>\r\n   </g>\r\n   <g id=\"patch_12\">\r\n    <path clip-path=\"url(#p16d86668b8)\" d=\"M 328.795457 224.64 \r\nL 359.231818 224.64 \r\nL 359.231818 220.799249 \r\nL 328.795457 220.799249 \r\nz\r\n\" style=\"fill:#1f77b4;\"/>\r\n   </g>\r\n   <g id=\"matplotlib.axis_1\">\r\n    <g id=\"xtick_1\">\r\n     <g id=\"line2d_1\">\r\n      <defs>\r\n       <path d=\"M 0 0 \r\nL 0 3.5 \r\n\" id=\"m97a5865edb\" style=\"stroke:#000000;stroke-width:0.8;\"/>\r\n      </defs>\r\n      <g>\r\n       <use style=\"stroke:#000000;stroke-width:0.8;\" x=\"45.690396\" xlink:href=\"#m97a5865edb\" y=\"224.64\"/>\r\n      </g>\r\n     </g>\r\n     <g id=\"text_1\">\r\n      <!-- −3 -->\r\n      <defs>\r\n       <path d=\"M 10.59375 35.5 \r\nL 73.1875 35.5 \r\nL 73.1875 27.203125 \r\nL 10.59375 27.203125 \r\nz\r\n\" id=\"DejaVuSans-8722\"/>\r\n       <path d=\"M 40.578125 39.3125 \r\nQ 47.65625 37.796875 51.625 33 \r\nQ 55.609375 28.21875 55.609375 21.1875 \r\nQ 55.609375 10.40625 48.1875 4.484375 \r\nQ 40.765625 -1.421875 27.09375 -1.421875 \r\nQ 22.515625 -1.421875 17.65625 -0.515625 \r\nQ 12.796875 0.390625 7.625 2.203125 \r\nL 7.625 11.71875 \r\nQ 11.71875 9.328125 16.59375 8.109375 \r\nQ 21.484375 6.890625 26.8125 6.890625 \r\nQ 36.078125 6.890625 40.9375 10.546875 \r\nQ 45.796875 14.203125 45.796875 21.1875 \r\nQ 45.796875 27.640625 41.28125 31.265625 \r\nQ 36.765625 34.90625 28.71875 34.90625 \r\nL 20.21875 34.90625 \r\nL 20.21875 43.015625 \r\nL 29.109375 43.015625 \r\nQ 36.375 43.015625 40.234375 45.921875 \r\nQ 44.09375 48.828125 44.09375 54.296875 \r\nQ 44.09375 59.90625 40.109375 62.90625 \r\nQ 36.140625 65.921875 28.71875 65.921875 \r\nQ 24.65625 65.921875 20.015625 65.03125 \r\nQ 15.375 64.15625 9.8125 62.3125 \r\nL 9.8125 71.09375 \r\nQ 15.4375 72.65625 20.34375 73.4375 \r\nQ 25.25 74.21875 29.59375 74.21875 \r\nQ 40.828125 74.21875 47.359375 69.109375 \r\nQ 53.90625 64.015625 53.90625 55.328125 \r\nQ 53.90625 49.265625 50.4375 45.09375 \r\nQ 46.96875 40.921875 40.578125 39.3125 \r\nz\r\n\" id=\"DejaVuSans-51\"/>\r\n      </defs>\r\n      <g transform=\"translate(38.319302 239.238437)scale(0.1 -0.1)\">\r\n       <use xlink:href=\"#DejaVuSans-8722\"/>\r\n       <use x=\"83.789062\" xlink:href=\"#DejaVuSans-51\"/>\r\n      </g>\r\n     </g>\r\n    </g>\r\n    <g id=\"xtick_2\">\r\n     <g id=\"line2d_2\">\r\n      <g>\r\n       <use style=\"stroke:#000000;stroke-width:0.8;\" x=\"102.441051\" xlink:href=\"#m97a5865edb\" y=\"224.64\"/>\r\n      </g>\r\n     </g>\r\n     <g id=\"text_2\">\r\n      <!-- −2 -->\r\n      <defs>\r\n       <path d=\"M 19.1875 8.296875 \r\nL 53.609375 8.296875 \r\nL 53.609375 0 \r\nL 7.328125 0 \r\nL 7.328125 8.296875 \r\nQ 12.9375 14.109375 22.625 23.890625 \r\nQ 32.328125 33.6875 34.8125 36.53125 \r\nQ 39.546875 41.84375 41.421875 45.53125 \r\nQ 43.3125 49.21875 43.3125 52.78125 \r\nQ 43.3125 58.59375 39.234375 62.25 \r\nQ 35.15625 65.921875 28.609375 65.921875 \r\nQ 23.96875 65.921875 18.8125 64.3125 \r\nQ 13.671875 62.703125 7.8125 59.421875 \r\nL 7.8125 69.390625 \r\nQ 13.765625 71.78125 18.9375 73 \r\nQ 24.125 74.21875 28.421875 74.21875 \r\nQ 39.75 74.21875 46.484375 68.546875 \r\nQ 53.21875 62.890625 53.21875 53.421875 \r\nQ 53.21875 48.921875 51.53125 44.890625 \r\nQ 49.859375 40.875 45.40625 35.40625 \r\nQ 44.1875 33.984375 37.640625 27.21875 \r\nQ 31.109375 20.453125 19.1875 8.296875 \r\nz\r\n\" id=\"DejaVuSans-50\"/>\r\n      </defs>\r\n      <g transform=\"translate(95.069958 239.238437)scale(0.1 -0.1)\">\r\n       <use xlink:href=\"#DejaVuSans-8722\"/>\r\n       <use x=\"83.789062\" xlink:href=\"#DejaVuSans-50\"/>\r\n      </g>\r\n     </g>\r\n    </g>\r\n    <g id=\"xtick_3\">\r\n     <g id=\"line2d_3\">\r\n      <g>\r\n       <use style=\"stroke:#000000;stroke-width:0.8;\" x=\"159.191707\" xlink:href=\"#m97a5865edb\" y=\"224.64\"/>\r\n      </g>\r\n     </g>\r\n     <g id=\"text_3\">\r\n      <!-- −1 -->\r\n      <defs>\r\n       <path d=\"M 12.40625 8.296875 \r\nL 28.515625 8.296875 \r\nL 28.515625 63.921875 \r\nL 10.984375 60.40625 \r\nL 10.984375 69.390625 \r\nL 28.421875 72.90625 \r\nL 38.28125 72.90625 \r\nL 38.28125 8.296875 \r\nL 54.390625 8.296875 \r\nL 54.390625 0 \r\nL 12.40625 0 \r\nz\r\n\" id=\"DejaVuSans-49\"/>\r\n      </defs>\r\n      <g transform=\"translate(151.820613 239.238437)scale(0.1 -0.1)\">\r\n       <use xlink:href=\"#DejaVuSans-8722\"/>\r\n       <use x=\"83.789062\" xlink:href=\"#DejaVuSans-49\"/>\r\n      </g>\r\n     </g>\r\n    </g>\r\n    <g id=\"xtick_4\">\r\n     <g id=\"line2d_4\">\r\n      <g>\r\n       <use style=\"stroke:#000000;stroke-width:0.8;\" x=\"215.942362\" xlink:href=\"#m97a5865edb\" y=\"224.64\"/>\r\n      </g>\r\n     </g>\r\n     <g id=\"text_4\">\r\n      <!-- 0 -->\r\n      <defs>\r\n       <path d=\"M 31.78125 66.40625 \r\nQ 24.171875 66.40625 20.328125 58.90625 \r\nQ 16.5 51.421875 16.5 36.375 \r\nQ 16.5 21.390625 20.328125 13.890625 \r\nQ 24.171875 6.390625 31.78125 6.390625 \r\nQ 39.453125 6.390625 43.28125 13.890625 \r\nQ 47.125 21.390625 47.125 36.375 \r\nQ 47.125 51.421875 43.28125 58.90625 \r\nQ 39.453125 66.40625 31.78125 66.40625 \r\nz\r\nM 31.78125 74.21875 \r\nQ 44.046875 74.21875 50.515625 64.515625 \r\nQ 56.984375 54.828125 56.984375 36.375 \r\nQ 56.984375 17.96875 50.515625 8.265625 \r\nQ 44.046875 -1.421875 31.78125 -1.421875 \r\nQ 19.53125 -1.421875 13.0625 8.265625 \r\nQ 6.59375 17.96875 6.59375 36.375 \r\nQ 6.59375 54.828125 13.0625 64.515625 \r\nQ 19.53125 74.21875 31.78125 74.21875 \r\nz\r\n\" id=\"DejaVuSans-48\"/>\r\n      </defs>\r\n      <g transform=\"translate(212.761112 239.238437)scale(0.1 -0.1)\">\r\n       <use xlink:href=\"#DejaVuSans-48\"/>\r\n      </g>\r\n     </g>\r\n    </g>\r\n    <g id=\"xtick_5\">\r\n     <g id=\"line2d_5\">\r\n      <g>\r\n       <use style=\"stroke:#000000;stroke-width:0.8;\" x=\"272.693017\" xlink:href=\"#m97a5865edb\" y=\"224.64\"/>\r\n      </g>\r\n     </g>\r\n     <g id=\"text_5\">\r\n      <!-- 1 -->\r\n      <g transform=\"translate(269.511767 239.238437)scale(0.1 -0.1)\">\r\n       <use xlink:href=\"#DejaVuSans-49\"/>\r\n      </g>\r\n     </g>\r\n    </g>\r\n    <g id=\"xtick_6\">\r\n     <g id=\"line2d_6\">\r\n      <g>\r\n       <use style=\"stroke:#000000;stroke-width:0.8;\" x=\"329.443672\" xlink:href=\"#m97a5865edb\" y=\"224.64\"/>\r\n      </g>\r\n     </g>\r\n     <g id=\"text_6\">\r\n      <!-- 2 -->\r\n      <g transform=\"translate(326.262422 239.238437)scale(0.1 -0.1)\">\r\n       <use xlink:href=\"#DejaVuSans-50\"/>\r\n      </g>\r\n     </g>\r\n    </g>\r\n   </g>\r\n   <g id=\"matplotlib.axis_2\">\r\n    <g id=\"ytick_1\">\r\n     <g id=\"line2d_7\">\r\n      <defs>\r\n       <path d=\"M 0 0 \r\nL -3.5 0 \r\n\" id=\"m098ff1848c\" style=\"stroke:#000000;stroke-width:0.8;\"/>\r\n      </defs>\r\n      <g>\r\n       <use style=\"stroke:#000000;stroke-width:0.8;\" x=\"39.65\" xlink:href=\"#m098ff1848c\" y=\"224.64\"/>\r\n      </g>\r\n     </g>\r\n     <g id=\"text_7\">\r\n      <!-- 0 -->\r\n      <g transform=\"translate(26.2875 228.439219)scale(0.1 -0.1)\">\r\n       <use xlink:href=\"#DejaVuSans-48\"/>\r\n      </g>\r\n     </g>\r\n    </g>\r\n    <g id=\"ytick_2\">\r\n     <g id=\"line2d_8\">\r\n      <g>\r\n       <use style=\"stroke:#000000;stroke-width:0.8;\" x=\"39.65\" xlink:href=\"#m098ff1848c\" y=\"193.158438\"/>\r\n      </g>\r\n     </g>\r\n     <g id=\"text_8\">\r\n      <!-- 500 -->\r\n      <defs>\r\n       <path d=\"M 10.796875 72.90625 \r\nL 49.515625 72.90625 \r\nL 49.515625 64.59375 \r\nL 19.828125 64.59375 \r\nL 19.828125 46.734375 \r\nQ 21.96875 47.46875 24.109375 47.828125 \r\nQ 26.265625 48.1875 28.421875 48.1875 \r\nQ 40.625 48.1875 47.75 41.5 \r\nQ 54.890625 34.8125 54.890625 23.390625 \r\nQ 54.890625 11.625 47.5625 5.09375 \r\nQ 40.234375 -1.421875 26.90625 -1.421875 \r\nQ 22.3125 -1.421875 17.546875 -0.640625 \r\nQ 12.796875 0.140625 7.71875 1.703125 \r\nL 7.71875 11.625 \r\nQ 12.109375 9.234375 16.796875 8.0625 \r\nQ 21.484375 6.890625 26.703125 6.890625 \r\nQ 35.15625 6.890625 40.078125 11.328125 \r\nQ 45.015625 15.765625 45.015625 23.390625 \r\nQ 45.015625 31 40.078125 35.4375 \r\nQ 35.15625 39.890625 26.703125 39.890625 \r\nQ 22.75 39.890625 18.8125 39.015625 \r\nQ 14.890625 38.140625 10.796875 36.28125 \r\nz\r\n\" id=\"DejaVuSans-53\"/>\r\n      </defs>\r\n      <g transform=\"translate(13.5625 196.957657)scale(0.1 -0.1)\">\r\n       <use xlink:href=\"#DejaVuSans-53\"/>\r\n       <use x=\"63.623047\" xlink:href=\"#DejaVuSans-48\"/>\r\n       <use x=\"127.246094\" xlink:href=\"#DejaVuSans-48\"/>\r\n      </g>\r\n     </g>\r\n    </g>\r\n    <g id=\"ytick_3\">\r\n     <g id=\"line2d_9\">\r\n      <g>\r\n       <use style=\"stroke:#000000;stroke-width:0.8;\" x=\"39.65\" xlink:href=\"#m098ff1848c\" y=\"161.676876\"/>\r\n      </g>\r\n     </g>\r\n     <g id=\"text_9\">\r\n      <!-- 1000 -->\r\n      <g transform=\"translate(7.2 165.476095)scale(0.1 -0.1)\">\r\n       <use xlink:href=\"#DejaVuSans-49\"/>\r\n       <use x=\"63.623047\" xlink:href=\"#DejaVuSans-48\"/>\r\n       <use x=\"127.246094\" xlink:href=\"#DejaVuSans-48\"/>\r\n       <use x=\"190.869141\" xlink:href=\"#DejaVuSans-48\"/>\r\n      </g>\r\n     </g>\r\n    </g>\r\n    <g id=\"ytick_4\">\r\n     <g id=\"line2d_10\">\r\n      <g>\r\n       <use style=\"stroke:#000000;stroke-width:0.8;\" x=\"39.65\" xlink:href=\"#m098ff1848c\" y=\"130.195314\"/>\r\n      </g>\r\n     </g>\r\n     <g id=\"text_10\">\r\n      <!-- 1500 -->\r\n      <g transform=\"translate(7.2 133.994533)scale(0.1 -0.1)\">\r\n       <use xlink:href=\"#DejaVuSans-49\"/>\r\n       <use x=\"63.623047\" xlink:href=\"#DejaVuSans-53\"/>\r\n       <use x=\"127.246094\" xlink:href=\"#DejaVuSans-48\"/>\r\n       <use x=\"190.869141\" xlink:href=\"#DejaVuSans-48\"/>\r\n      </g>\r\n     </g>\r\n    </g>\r\n    <g id=\"ytick_5\">\r\n     <g id=\"line2d_11\">\r\n      <g>\r\n       <use style=\"stroke:#000000;stroke-width:0.8;\" x=\"39.65\" xlink:href=\"#m098ff1848c\" y=\"98.713752\"/>\r\n      </g>\r\n     </g>\r\n     <g id=\"text_11\">\r\n      <!-- 2000 -->\r\n      <g transform=\"translate(7.2 102.512971)scale(0.1 -0.1)\">\r\n       <use xlink:href=\"#DejaVuSans-50\"/>\r\n       <use x=\"63.623047\" xlink:href=\"#DejaVuSans-48\"/>\r\n       <use x=\"127.246094\" xlink:href=\"#DejaVuSans-48\"/>\r\n       <use x=\"190.869141\" xlink:href=\"#DejaVuSans-48\"/>\r\n      </g>\r\n     </g>\r\n    </g>\r\n    <g id=\"ytick_6\">\r\n     <g id=\"line2d_12\">\r\n      <g>\r\n       <use style=\"stroke:#000000;stroke-width:0.8;\" x=\"39.65\" xlink:href=\"#m098ff1848c\" y=\"67.23219\"/>\r\n      </g>\r\n     </g>\r\n     <g id=\"text_12\">\r\n      <!-- 2500 -->\r\n      <g transform=\"translate(7.2 71.031409)scale(0.1 -0.1)\">\r\n       <use xlink:href=\"#DejaVuSans-50\"/>\r\n       <use x=\"63.623047\" xlink:href=\"#DejaVuSans-53\"/>\r\n       <use x=\"127.246094\" xlink:href=\"#DejaVuSans-48\"/>\r\n       <use x=\"190.869141\" xlink:href=\"#DejaVuSans-48\"/>\r\n      </g>\r\n     </g>\r\n    </g>\r\n    <g id=\"ytick_7\">\r\n     <g id=\"line2d_13\">\r\n      <g>\r\n       <use style=\"stroke:#000000;stroke-width:0.8;\" x=\"39.65\" xlink:href=\"#m098ff1848c\" y=\"35.750629\"/>\r\n      </g>\r\n     </g>\r\n     <g id=\"text_13\">\r\n      <!-- 3000 -->\r\n      <g transform=\"translate(7.2 39.549847)scale(0.1 -0.1)\">\r\n       <use xlink:href=\"#DejaVuSans-51\"/>\r\n       <use x=\"63.623047\" xlink:href=\"#DejaVuSans-48\"/>\r\n       <use x=\"127.246094\" xlink:href=\"#DejaVuSans-48\"/>\r\n       <use x=\"190.869141\" xlink:href=\"#DejaVuSans-48\"/>\r\n      </g>\r\n     </g>\r\n    </g>\r\n   </g>\r\n   <g id=\"patch_13\">\r\n    <path d=\"M 39.65 224.64 \r\nL 39.65 7.2 \r\n\" style=\"fill:none;stroke:#000000;stroke-linecap:square;stroke-linejoin:miter;stroke-width:0.8;\"/>\r\n   </g>\r\n   <g id=\"patch_14\">\r\n    <path d=\"M 374.45 224.64 \r\nL 374.45 7.2 \r\n\" style=\"fill:none;stroke:#000000;stroke-linecap:square;stroke-linejoin:miter;stroke-width:0.8;\"/>\r\n   </g>\r\n   <g id=\"patch_15\">\r\n    <path d=\"M 39.65 224.64 \r\nL 374.45 224.64 \r\n\" style=\"fill:none;stroke:#000000;stroke-linecap:square;stroke-linejoin:miter;stroke-width:0.8;\"/>\r\n   </g>\r\n   <g id=\"patch_16\">\r\n    <path d=\"M 39.65 7.2 \r\nL 374.45 7.2 \r\n\" style=\"fill:none;stroke:#000000;stroke-linecap:square;stroke-linejoin:miter;stroke-width:0.8;\"/>\r\n   </g>\r\n  </g>\r\n </g>\r\n <defs>\r\n  <clipPath id=\"p16d86668b8\">\r\n   <rect height=\"217.44\" width=\"334.8\" x=\"39.65\" y=\"7.2\"/>\r\n  </clipPath>\r\n </defs>\r\n</svg>\r\n",
      "image/png": "[encoded data removed]"
     },
     "metadata": {
      "needs_background": "light"
     }
    }
   ],
   "metadata": {}
  },
  {
   "cell_type": "code",
   "execution_count": 6,
   "source": [
    "import glob"
   ],
   "outputs": [],
   "metadata": {}
  },
  {
   "cell_type": "code",
   "execution_count": 7,
   "source": [
    "datasets = [EDFData_PTH(path_glob, channels=[\"C3\"]) for path_glob in tqdm(glob.glob(\"../Data/*.edf\"))]"
   ],
   "outputs": [
    {
     "output_type": "stream",
     "name": "stderr",
     "text": [
      "e:\\Python\\TFM\\SSD_IA3\\Notebooks\\Datasets.py:21: RuntimeWarning: Omitted 3 annotation(s) that were outside data range.\n",
      "  data = mne.io.read_raw_edf(path)\n",
      "e:\\Python\\TFM\\SSD_IA3\\Notebooks\\Datasets.py:21: RuntimeWarning: Limited 1 annotation(s) that were expanding outside the data range.\n",
      "  data = mne.io.read_raw_edf(path)\n",
      "e:\\Python\\TFM\\SSD_IA3\\Notebooks\\Datasets.py:21: RuntimeWarning: Omitted 92 annotation(s) that were outside data range.\n",
      "  data = mne.io.read_raw_edf(path)\n",
      "e:\\Python\\TFM\\SSD_IA3\\Notebooks\\Datasets.py:21: RuntimeWarning: Limited 1 annotation(s) that were expanding outside the data range.\n",
      "  data = mne.io.read_raw_edf(path)\n",
      "e:\\Python\\TFM\\SSD_IA3\\Notebooks\\Datasets.py:21: RuntimeWarning: Omitted 120 annotation(s) that were outside data range.\n",
      "  data = mne.io.read_raw_edf(path)\n",
      "e:\\Python\\TFM\\SSD_IA3\\Notebooks\\Datasets.py:21: RuntimeWarning: Limited 1 annotation(s) that were expanding outside the data range.\n",
      "  data = mne.io.read_raw_edf(path)\n",
      "e:\\Python\\TFM\\SSD_IA3\\Notebooks\\Datasets.py:21: RuntimeWarning: Omitted 2 annotation(s) that were outside data range.\n",
      "  data = mne.io.read_raw_edf(path)\n",
      "e:\\Python\\TFM\\SSD_IA3\\Notebooks\\Datasets.py:21: RuntimeWarning: Limited 1 annotation(s) that were expanding outside the data range.\n",
      "  data = mne.io.read_raw_edf(path)\n",
      "e:\\Python\\TFM\\SSD_IA3\\Notebooks\\Datasets.py:21: RuntimeWarning: Omitted 104 annotation(s) that were outside data range.\n",
      "  data = mne.io.read_raw_edf(path)\n",
      "e:\\Python\\TFM\\SSD_IA3\\Notebooks\\Datasets.py:21: RuntimeWarning: Limited 2 annotation(s) that were expanding outside the data range.\n",
      "  data = mne.io.read_raw_edf(path)\n",
      "e:\\Python\\TFM\\SSD_IA3\\Notebooks\\Datasets.py:21: RuntimeWarning: Omitted 1 annotation(s) that were outside data range.\n",
      "  data = mne.io.read_raw_edf(path)\n",
      "e:\\Python\\TFM\\SSD_IA3\\Notebooks\\Datasets.py:21: RuntimeWarning: Limited 1 annotation(s) that were expanding outside the data range.\n",
      "  data = mne.io.read_raw_edf(path)\n",
      "e:\\Python\\TFM\\SSD_IA3\\Notebooks\\Datasets.py:21: RuntimeWarning: Limited 1 annotation(s) that were expanding outside the data range.\n",
      "  data = mne.io.read_raw_edf(path)\n",
      "e:\\Python\\TFM\\SSD_IA3\\Notebooks\\Datasets.py:21: RuntimeWarning: Omitted 6 annotation(s) that were outside data range.\n",
      "  data = mne.io.read_raw_edf(path)\n",
      "e:\\Python\\TFM\\SSD_IA3\\Notebooks\\Datasets.py:21: RuntimeWarning: Limited 1 annotation(s) that were expanding outside the data range.\n",
      "  data = mne.io.read_raw_edf(path)\n",
      "e:\\Python\\TFM\\SSD_IA3\\Notebooks\\Datasets.py:21: RuntimeWarning: Omitted 2 annotation(s) that were outside data range.\n",
      "  data = mne.io.read_raw_edf(path)\n",
      "e:\\Python\\TFM\\SSD_IA3\\Notebooks\\Datasets.py:21: RuntimeWarning: Limited 1 annotation(s) that were expanding outside the data range.\n",
      "  data = mne.io.read_raw_edf(path)\n",
      "e:\\Python\\TFM\\SSD_IA3\\Notebooks\\Datasets.py:21: RuntimeWarning: Omitted 39 annotation(s) that were outside data range.\n",
      "  data = mne.io.read_raw_edf(path)\n",
      "e:\\Python\\TFM\\SSD_IA3\\Notebooks\\Datasets.py:21: RuntimeWarning: Limited 1 annotation(s) that were expanding outside the data range.\n",
      "  data = mne.io.read_raw_edf(path)\n",
      "e:\\Python\\TFM\\SSD_IA3\\Notebooks\\Datasets.py:21: RuntimeWarning: Omitted 143 annotation(s) that were outside data range.\n",
      "  data = mne.io.read_raw_edf(path)\n",
      "e:\\Python\\TFM\\SSD_IA3\\Notebooks\\Datasets.py:21: RuntimeWarning: Limited 1 annotation(s) that were expanding outside the data range.\n",
      "  data = mne.io.read_raw_edf(path)\n",
      "e:\\Python\\TFM\\SSD_IA3\\Notebooks\\Datasets.py:21: RuntimeWarning: Omitted 234 annotation(s) that were outside data range.\n",
      "  data = mne.io.read_raw_edf(path)\n",
      "e:\\Python\\TFM\\SSD_IA3\\Notebooks\\Datasets.py:21: RuntimeWarning: Limited 3 annotation(s) that were expanding outside the data range.\n",
      "  data = mne.io.read_raw_edf(path)\n",
      "e:\\Python\\TFM\\SSD_IA3\\Notebooks\\Datasets.py:21: RuntimeWarning: Omitted 113 annotation(s) that were outside data range.\n",
      "  data = mne.io.read_raw_edf(path)\n",
      "e:\\Python\\TFM\\SSD_IA3\\Notebooks\\Datasets.py:21: RuntimeWarning: Limited 1 annotation(s) that were expanding outside the data range.\n",
      "  data = mne.io.read_raw_edf(path)\n",
      "e:\\Python\\TFM\\SSD_IA3\\Notebooks\\Datasets.py:21: RuntimeWarning: Omitted 4 annotation(s) that were outside data range.\n",
      "  data = mne.io.read_raw_edf(path)\n",
      "e:\\Python\\TFM\\SSD_IA3\\Notebooks\\Datasets.py:21: RuntimeWarning: Limited 1 annotation(s) that were expanding outside the data range.\n",
      "  data = mne.io.read_raw_edf(path)\n",
      "e:\\Python\\TFM\\SSD_IA3\\Notebooks\\Datasets.py:21: RuntimeWarning: Omitted 99 annotation(s) that were outside data range.\n",
      "  data = mne.io.read_raw_edf(path)\n",
      "e:\\Python\\TFM\\SSD_IA3\\Notebooks\\Datasets.py:21: RuntimeWarning: Limited 1 annotation(s) that were expanding outside the data range.\n",
      "  data = mne.io.read_raw_edf(path)\n"
     ]
    }
   ],
   "metadata": {}
  },
  {
   "cell_type": "code",
   "execution_count": 8,
   "source": [
    "dataset_concat = torch.utils.data.ConcatDataset(datasets)\r\n",
    "len(dataset_concat)"
   ],
   "outputs": [
    {
     "output_type": "execute_result",
     "data": {
      "text/plain": [
       "11282"
      ]
     },
     "metadata": {},
     "execution_count": 8
    }
   ],
   "metadata": {}
  },
  {
   "cell_type": "code",
   "execution_count": 9,
   "source": [
    "test_size = 0.3\r\n",
    "test_size = int(len(dataset_concat)*test_size)\r\n",
    "train_size = len(dataset_concat) - test_size\r\n",
    "train, test = torch.utils.data.random_split(dataset_concat, [train_size, test_size], generator=torch.Generator().manual_seed(42))\r\n",
    "len(train), len(test)"
   ],
   "outputs": [
    {
     "output_type": "execute_result",
     "data": {
      "text/plain": [
       "(7898, 3384)"
      ]
     },
     "metadata": {},
     "execution_count": 9
    }
   ],
   "metadata": {}
  },
  {
   "cell_type": "code",
   "execution_count": 11,
   "source": [
    "idx_train = np.loadtxt(\"../indices_train.txt\")\r\n",
    "idx_test = np.loadtxt(\"../indices_test.txt\")\r\n",
    "len(idx_train), len(idx_test)"
   ],
   "outputs": [
    {
     "output_type": "execute_result",
     "data": {
      "text/plain": [
       "(9776, 5265)"
      ]
     },
     "metadata": {},
     "execution_count": 11
    }
   ],
   "metadata": {}
  },
  {
   "cell_type": "code",
   "execution_count": 13,
   "source": [
    "a = torch.utils.data.Subset(dataset_concat, indices=idx_train[:len(train)])\r\n",
    "len(a)"
   ],
   "outputs": [
    {
     "output_type": "execute_result",
     "data": {
      "text/plain": [
       "7898"
      ]
     },
     "metadata": {},
     "execution_count": 13
    }
   ],
   "metadata": {}
  },
  {
   "cell_type": "code",
   "execution_count": 17,
   "source": [
    "sorted(glob.glob(\"../Data/*.edf\"), key=len)"
   ],
   "outputs": [
    {
     "output_type": "execute_result",
     "data": {
      "text/plain": [
       "['../Data\\\\PSG1.edf',\n",
       " '../Data\\\\PSG2.edf',\n",
       " '../Data\\\\PSG3.edf',\n",
       " '../Data\\\\PSG4.edf',\n",
       " '../Data\\\\PSG5.edf',\n",
       " '../Data\\\\PSG6.edf',\n",
       " '../Data\\\\PSG7.edf',\n",
       " '../Data\\\\PSG8.edf',\n",
       " '../Data\\\\PSG9.edf',\n",
       " '../Data\\\\PSG11.edf',\n",
       " '../Data\\\\PSG12.edf',\n",
       " '../Data\\\\PSG13.edf',\n",
       " '../Data\\\\PSG14.edf']"
      ]
     },
     "metadata": {},
     "execution_count": 17
    }
   ],
   "metadata": {}
  }
 ],
 "metadata": {
  "orig_nbformat": 4,
  "language_info": {
   "name": "python",
   "version": "3.8.5",
   "mimetype": "text/x-python",
   "codemirror_mode": {
    "name": "ipython",
    "version": 3
   },
   "pygments_lexer": "ipython3",
   "nbconvert_exporter": "python",
   "file_extension": ".py"
  },
  "kernelspec": {
   "name": "python3",
   "display_name": "Python 3.8.5 64-bit ('Master': conda)"
  },
  "interpreter": {
   "hash": "57d46a1f3f975f92cc34d815bf69a7d3644582cc16f1cedc66cb95f17202c91e"
  }
 },
 "nbformat": 4,
 "nbformat_minor": 2
}