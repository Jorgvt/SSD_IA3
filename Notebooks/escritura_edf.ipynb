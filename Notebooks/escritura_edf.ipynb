{
 "cells": [
  {
   "cell_type": "code",
   "execution_count": 42,
   "source": [
    "import numpy as np\r\n",
    "from tqdm.auto import tqdm\r\n",
    "from pyedflib import highlevel\r\n",
    "\r\n",
    "from Datasets import *"
   ],
   "outputs": [],
   "metadata": {}
  },
  {
   "cell_type": "markdown",
   "source": [
    "## Cargamos los datos con las clases que ya tenemos creadas"
   ],
   "metadata": {}
  },
  {
   "cell_type": "code",
   "execution_count": 2,
   "source": [
    "dataset = EDFData(\"../Data/PSG1.edf\", channels=['F4'])"
   ],
   "outputs": [
    {
     "output_type": "stream",
     "name": "stderr",
     "text": [
      "e:\\Python\\TFM\\SSD_IA3\\Notebooks\\Datasets.py:21: RuntimeWarning: Omitted 3 annotation(s) that were outside data range.\n",
      "  data = mne.io.read_raw_edf(path)\n",
      "e:\\Python\\TFM\\SSD_IA3\\Notebooks\\Datasets.py:21: RuntimeWarning: Limited 1 annotation(s) that were expanding outside the data range.\n",
      "  data = mne.io.read_raw_edf(path)\n"
     ]
    }
   ],
   "metadata": {}
  },
  {
   "cell_type": "code",
   "execution_count": 3,
   "source": [
    "data = dataset.epochs.get_data()"
   ],
   "outputs": [],
   "metadata": {}
  },
  {
   "cell_type": "code",
   "execution_count": 4,
   "source": [
    "data.shape"
   ],
   "outputs": [
    {
     "output_type": "execute_result",
     "data": {
      "text/plain": [
       "(882, 1, 15360)"
      ]
     },
     "metadata": {},
     "execution_count": 4
    }
   ],
   "metadata": {}
  },
  {
   "cell_type": "markdown",
   "source": [
    "## Como tenemos que obtener un array de forma `(canales, samples*epocas)`, lo más fácil es hacerlo a mano para asegurarnos de que no se nos lía nada al hacer `.reshape()`. Filtramos las épocas que exceden los límites físicos porque parece que se rompe un poco si los tocamos."
   ],
   "metadata": {}
  },
  {
   "cell_type": "code",
   "execution_count": 75,
   "source": [
    "temp = None\r\n",
    "skipped = 0\r\n",
    "for i, a in tqdm(enumerate(data)):\r\n",
    "    if (a*1e6 > 200).any() or (a*1e6 < -200).any():\r\n",
    "        skipped += 1\r\n",
    "        continue\r\n",
    "    if temp is None:\r\n",
    "        temp = a\r\n",
    "    else:\r\n",
    "        temp = np.concatenate([temp, a], -1)\r\n",
    "    # if i==2:\r\n",
    "    #     break\r\n",
    "print(skipped)\r\n",
    "a.shape, temp.shape"
   ],
   "outputs": [
    {
     "output_type": "stream",
     "name": "stderr",
     "text": [
      "882it [00:13, 66.49it/s]"
     ]
    },
    {
     "output_type": "stream",
     "name": "stdout",
     "text": [
      "66\n"
     ]
    },
    {
     "output_type": "stream",
     "name": "stderr",
     "text": [
      "\n"
     ]
    },
    {
     "output_type": "execute_result",
     "data": {
      "text/plain": [
       "((1, 15360), (1, 12533760))"
      ]
     },
     "metadata": {},
     "execution_count": 75
    }
   ],
   "metadata": {}
  },
  {
   "cell_type": "code",
   "execution_count": 80,
   "source": [
    "signals = temp*1e6\r\n",
    "signals = np.vstack([signals,signals])\r\n",
    "channel_names = ['F4', 'F4_2']\r\n",
    "\r\n",
    "signal_headers = highlevel.make_signal_headers(channel_names, sample_rate=512, physical_min=-200, physical_max=200)\r\n",
    "\r\n",
    "header = highlevel.make_header(patientname='patient_x', gender='Female')\r\n",
    "header['annotations'] = [[start*30, 30, 'Patata'] for start in range(data.shape[0]-skipped)]\r\n",
    "highlevel.write_edf('edf_file_nuestrosdatos.edf', signals=signals, signal_headers=signal_headers, header=header)"
   ],
   "outputs": [
    {
     "output_type": "execute_result",
     "data": {
      "text/plain": [
       "True"
      ]
     },
     "metadata": {},
     "execution_count": 80
    }
   ],
   "metadata": {}
  }
 ],
 "metadata": {
  "orig_nbformat": 4,
  "language_info": {
   "name": "python"
  }
 },
 "nbformat": 4,
 "nbformat_minor": 2
}