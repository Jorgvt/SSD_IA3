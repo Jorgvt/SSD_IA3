{
 "cells": [
  {
   "cell_type": "code",
   "execution_count": 1,
   "metadata": {},
   "outputs": [],
   "source": [
    "import os\n",
    "from glob import glob\n",
    "import warnings\n",
    "warnings.filterwarnings(\"ignore\", category=RuntimeWarning) \n",
    "\n",
    "import numpy as np\n",
    "import matplotlib.pyplot as plt\n",
    "import torch\n",
    "import torch.nn as nn\n",
    "import torch.nn.functional as F\n",
    "import mne\n",
    "mne.set_log_level(verbose=False)\n",
    "\n",
    "from Datasets import *"
   ]
  },
  {
   "cell_type": "code",
   "execution_count": 2,
   "metadata": {},
   "outputs": [],
   "source": [
    "BATCH_SIZE = 32\n",
    "channels = ['F4']"
   ]
  },
  {
   "cell_type": "code",
   "execution_count": 3,
   "metadata": {},
   "outputs": [
    {
     "data": {
      "text/plain": [
       "device(type='cuda', index=2)"
      ]
     },
     "execution_count": 3,
     "metadata": {},
     "output_type": "execute_result"
    }
   ],
   "source": [
    "device = torch.device(\"cuda:2\" if torch.cuda.is_available() else \"cpu\")\n",
    "device"
   ]
  },
  {
   "cell_type": "code",
   "execution_count": 4,
   "metadata": {},
   "outputs": [],
   "source": [
    "path = \"../Data/PSG1.edf\"\n",
    "test = EDFData_PTH(path, channels=channels)\n",
    "testloader = torch.utils.data.DataLoader(test, batch_size = BATCH_SIZE, drop_last=True)"
   ]
  },
  {
   "cell_type": "code",
   "execution_count": 5,
   "metadata": {},
   "outputs": [
    {
     "data": {
      "text/plain": [
       "512"
      ]
     },
     "execution_count": 5,
     "metadata": {},
     "output_type": "execute_result"
    }
   ],
   "source": [
    "sampling_rate = int(test.sampling_rate)\n",
    "sampling_rate"
   ]
  },
  {
   "cell_type": "code",
   "execution_count": 6,
   "metadata": {},
   "outputs": [],
   "source": [
    "class TinySleepNet(nn.Module):\n",
    "    def __init__(self, sampling_rate, channels, classes):\n",
    "        super(TinySleepNet, self).__init__()\n",
    "        self.sampling_rate = sampling_rate\n",
    "        self.channels = channels\n",
    "        self.classes = classes\n",
    "\n",
    "        self.feature_extraction = nn.Sequential(*[\n",
    "            nn.Conv1d(in_channels=len(channels), out_channels=128, kernel_size=sampling_rate//2, stride=sampling_rate//4),\n",
    "            nn.ReLU(),\n",
    "            # nn.MaxPool1d(kernel_size=8, stride=8),\n",
    "            # nn.Conv1d(in_channels=128, out_channels=128, kernel_size=8, stride=1, padding=3),\n",
    "            # nn.ReLU(),\n",
    "            # nn.Conv1d(in_channels=128, out_channels=128, kernel_size=8, stride=1, padding=3),\n",
    "            # nn.ReLU(),\n",
    "            # nn.Conv1d(in_channels=128, out_channels=128, kernel_size=8, stride=1, padding=3),\n",
    "            # nn.ReLU(),\n",
    "            # nn.MaxPool1d(kernel_size=4, stride=4)\n",
    "        ])\n",
    "\n",
    "        self.lstm = nn.LSTM(input_size=128, hidden_size=128, batch_first=True)\n",
    "        \n",
    "        self.classifier = nn.Linear(128, classes)\n",
    "\n",
    "    def forward(self, X):\n",
    "        X = self.feature_extraction(X)\n",
    "        X, _ = self.lstm(X.permute(0,2,1))\n",
    "        X = X[:,-1,:]\n",
    "        # X = self.classifier(X.reshape(X.shape[0],-1))\n",
    "        X = self.classifier(X)\n",
    "        return X"
   ]
  },
  {
   "cell_type": "code",
   "execution_count": 7,
   "metadata": {},
   "outputs": [
    {
     "data": {
      "text/plain": [
       "TinySleepNet(\n",
       "  (feature_extraction): Sequential(\n",
       "    (0): Conv1d(1, 128, kernel_size=(256,), stride=(128,))\n",
       "    (1): ReLU()\n",
       "  )\n",
       "  (lstm): LSTM(128, 128, batch_first=True)\n",
       "  (classifier): Linear(in_features=128, out_features=5, bias=True)\n",
       ")"
      ]
     },
     "execution_count": 7,
     "metadata": {},
     "output_type": "execute_result"
    }
   ],
   "source": [
    "model = TinySleepNet(sampling_rate, channels, classes=len(test.id_to_class_dict))\n",
    "model.to(device)\n",
    "optimizer = torch.optim.Adam(model.parameters())\n",
    "loss_fn = nn.CrossEntropyLoss()\n",
    "model"
   ]
  },
  {
   "cell_type": "code",
   "execution_count": 8,
   "metadata": {},
   "outputs": [
    {
     "data": {
      "text/plain": [
       "torch.Size([32, 5])"
      ]
     },
     "execution_count": 8,
     "metadata": {},
     "output_type": "execute_result"
    }
   ],
   "source": [
    "for X, Y in testloader:\n",
    "    X = X.to(device).float()\n",
    "    with torch.no_grad():\n",
    "        pap = model(X)\n",
    "    break\n",
    "pap.shape"
   ]
  },
  {
   "cell_type": "code",
   "execution_count": 9,
   "metadata": {},
   "outputs": [],
   "source": [
    "def train_step(model, optimizer, loss_fn, history, X, Y, metrics=None):\n",
    "    \"\"\"\n",
    "    Trains the model over a batch.\n",
    "\n",
    "    Parameters\n",
    "    ----------\n",
    "    model: nn.Module\n",
    "        Torch model.\n",
    "    optimizer:\n",
    "        Torch optimizer.\n",
    "    loss_fn:\n",
    "        Torch loss function.\n",
    "    X: torch.Tensor\n",
    "    Y: torch.Tensor\n",
    "    metrics: dict{str:functions}\n",
    "        Dict of functions (metrics) we want to calculate and their name.\n",
    "    \n",
    "    Returns\n",
    "    -------\n",
    "    history: dict{str:float}\n",
    "        Dictionary of metrics.\n",
    "    \"\"\"\n",
    "    optimizer.zero_grad()\n",
    "    pred = model(X)\n",
    "    loss = loss_fn(pred, Y)\n",
    "    loss.backward()\n",
    "\n",
    "    history['loss'] = loss.item()\n",
    "    if metrics:\n",
    "        with torch.no_grad():\n",
    "            for name, metric_fn in metrics.items():\n",
    "                history[name] = metric_fn(pred, Y)\n",
    "\n",
    "    optimizer.step()\n",
    "    return history"
   ]
  },
  {
   "cell_type": "code",
   "execution_count": 10,
   "metadata": {},
   "outputs": [],
   "source": [
    "def val_step(model, optimizer, loss_fn, history, X, Y, metrics=None):\n",
    "    \"\"\"\n",
    "    Calculates the validation metrics over a batch.\n",
    "\n",
    "    Parameters\n",
    "    ----------\n",
    "    model: nn.Module\n",
    "        Torch model.\n",
    "    optimizer:\n",
    "        Torch optimizer.\n",
    "    loss_fn:\n",
    "        Torch loss function.\n",
    "    X: torch.Tensor\n",
    "    Y: torch.Tensor\n",
    "    metrics: dict{str:functions}\n",
    "        Dict of functions (metrics) we want to calculate and their name.\n",
    "    \n",
    "    Returns\n",
    "    -------\n",
    "    history: dict{str:float}\n",
    "        Dictionary of metrics.\n",
    "    \"\"\"\n",
    "    with torch.no_grad():\n",
    "        pred = model(X)\n",
    "        loss = loss_fn(pred, Y)\n",
    "\n",
    "        history['val_loss'] = loss.item()\n",
    "        if metrics:\n",
    "            for name, metric_fn in metrics.items():\n",
    "                history['val_'+name] = metric_fn(pred, Y)\n",
    "\n",
    "    return history"
   ]
  },
  {
   "cell_type": "code",
   "execution_count": 11,
   "metadata": {},
   "outputs": [],
   "source": [
    "class History():\n",
    "    \"\"\"\n",
    "    Class designed to track the metrics during the training of a NN.\n",
    "    \"\"\"\n",
    "    \n",
    "    def __init__(self):\n",
    "        self.history = {}\n",
    "\n",
    "    def update(self, history):\n",
    "        \"\"\"\n",
    "        Adds new values to the history.\n",
    "\n",
    "        Parameters\n",
    "        ----------\n",
    "        history: dict{str:float}\n",
    "\n",
    "        Returns\n",
    "        -------\n",
    "        None\n",
    "        \"\"\"\n",
    "        for metric_name, metric_value in history.items():\n",
    "            if metric_name not in self.history.keys():\n",
    "                self.history[metric_name] = [metric_value]\n",
    "            else:\n",
    "                self.history[metric_name].append(metric_value)\n",
    "    \n",
    "    def plot_history(self, figsize=(16,6)):\n",
    "        \"\"\"\n",
    "        Plots the history values.\n",
    "\n",
    "        Parameters\n",
    "        ----------\n",
    "        history: History object\n",
    "\n",
    "        Returns\n",
    "        -------\n",
    "        None\n",
    "        \"\"\"\n",
    "        ## First retrieve metrics names ## \n",
    "        metrics_names = [a for a in self.history.keys() if a[:3]!='val']\n",
    "        \n",
    "        rows = 1\n",
    "        cols = len(metrics_names)\n",
    "\n",
    "        plt.figure(figsize=figsize)\n",
    "        for i,a in enumerate(metrics_names,1):\n",
    "            plt.subplot(rows,cols,i)\n",
    "            plt.title(a)\n",
    "            plt.plot(history_epoch.history[a], label=\"Train\")\n",
    "            plt.plot(history_epoch.history[\"val_\"+a], label=\"Validation\")\n",
    "            plt.legend()\n",
    "\n",
    "        plt.show()"
   ]
  },
  {
   "cell_type": "code",
   "execution_count": 12,
   "metadata": {},
   "outputs": [],
   "source": [
    "def accuracy_fn(Y_pred, Y_true):\n",
    "    \"\"\"\n",
    "    Calculates the accuracy of our model given its predictions and labels.\n",
    "\n",
    "    Parameters\n",
    "    ----------\n",
    "    Y_pred: torch.Tensor\n",
    "        Raw output from the nn (logits).\n",
    "    Y_true: torch.Tensor\n",
    "        Objective labels.\n",
    "    \n",
    "    Returns\n",
    "    -------\n",
    "    accuracy: float\n",
    "    \"\"\"\n",
    "    Y_pred = torch.softmax(Y_pred, dim=-1)\n",
    "    Y_pred = Y_pred.argmax(dim=-1)\n",
    "    accuracy = torch.where(Y_pred==Y_true, 1, 0).sum() / len(Y_true)\n",
    "\n",
    "    return accuracy.item()"
   ]
  },
  {
   "cell_type": "code",
   "execution_count": 13,
   "metadata": {
    "tags": []
   },
   "outputs": [
    {
     "name": "stdout",
     "output_type": "stream",
     "text": [
      "Epoch 1 -> [Train] (Loss) 1.5580 (Acc) 0.3727 | [Val] (Loss) 1.4107 (Acc) 0.3681\n",
      "Epoch 2 -> [Train] (Loss) 1.4354 (Acc) 0.3681 | [Val] (Loss) 1.3748 (Acc) 0.3750\n",
      "Epoch 3 -> [Train] (Loss) 1.4037 (Acc) 0.3750 | [Val] (Loss) 1.3525 (Acc) 0.3958\n",
      "Epoch 4 -> [Train] (Loss) 1.3847 (Acc) 0.3785 | [Val] (Loss) 1.3311 (Acc) 0.4132\n",
      "Epoch 5 -> [Train] (Loss) 1.3646 (Acc) 0.3877 | [Val] (Loss) 1.3215 (Acc) 0.4167\n",
      "Epoch 6 -> [Train] (Loss) 1.3557 (Acc) 0.3993 | [Val] (Loss) 1.2768 (Acc) 0.4479\n",
      "Epoch 7 -> [Train] (Loss) 1.3283 (Acc) 0.4398 | [Val] (Loss) 1.2541 (Acc) 0.4583\n",
      "Epoch 8 -> [Train] (Loss) 1.2991 (Acc) 0.4525 | [Val] (Loss) 1.1940 (Acc) 0.4965\n",
      "Epoch 9 -> [Train] (Loss) 1.2618 (Acc) 0.4850 | [Val] (Loss) 1.1759 (Acc) 0.4896\n",
      "Epoch 10 -> [Train] (Loss) 1.2381 (Acc) 0.4676 | [Val] (Loss) 1.1499 (Acc) 0.4942\n",
      "Epoch 11 -> [Train] (Loss) 1.1712 (Acc) 0.5069 | [Val] (Loss) 1.0715 (Acc) 0.5266\n",
      "Epoch 12 -> [Train] (Loss) 1.1318 (Acc) 0.5162 | [Val] (Loss) 1.0128 (Acc) 0.5463\n",
      "Epoch 13 -> [Train] (Loss) 1.0972 (Acc) 0.5301 | [Val] (Loss) 0.9930 (Acc) 0.5972\n",
      "Epoch 14 -> [Train] (Loss) 1.0565 (Acc) 0.5764 | [Val] (Loss) 0.9862 (Acc) 0.6146\n",
      "Epoch 15 -> [Train] (Loss) 1.0485 (Acc) 0.6019 | [Val] (Loss) 1.0300 (Acc) 0.5972\n",
      "Epoch 16 -> [Train] (Loss) 1.0927 (Acc) 0.5556 | [Val] (Loss) 1.1038 (Acc) 0.5266\n",
      "Epoch 17 -> [Train] (Loss) 1.1214 (Acc) 0.5208 | [Val] (Loss) 0.9379 (Acc) 0.6042\n",
      "Epoch 18 -> [Train] (Loss) 0.9387 (Acc) 0.6157 | [Val] (Loss) 0.8311 (Acc) 0.6968\n",
      "Epoch 19 -> [Train] (Loss) 0.9353 (Acc) 0.6308 | [Val] (Loss) 0.9406 (Acc) 0.6065\n",
      "Epoch 20 -> [Train] (Loss) 0.9616 (Acc) 0.6042 | [Val] (Loss) 0.8431 (Acc) 0.6377\n",
      "Epoch 21 -> [Train] (Loss) 0.8734 (Acc) 0.6470 | [Val] (Loss) 0.7450 (Acc) 0.6979\n",
      "Epoch 22 -> [Train] (Loss) 0.7904 (Acc) 0.6782 | [Val] (Loss) 0.7184 (Acc) 0.7303\n",
      "Epoch 23 -> [Train] (Loss) 0.7574 (Acc) 0.6898 | [Val] (Loss) 0.6618 (Acc) 0.7512\n",
      "Epoch 24 -> [Train] (Loss) 0.6939 (Acc) 0.7269 | [Val] (Loss) 0.5966 (Acc) 0.7917\n",
      "Epoch 25 -> [Train] (Loss) 0.6402 (Acc) 0.7558 | [Val] (Loss) 0.5612 (Acc) 0.8125\n",
      "Epoch 26 -> [Train] (Loss) 0.5924 (Acc) 0.7836 | [Val] (Loss) 0.5380 (Acc) 0.8322\n",
      "Epoch 27 -> [Train] (Loss) 0.6148 (Acc) 0.7627 | [Val] (Loss) 0.5256 (Acc) 0.8507\n",
      "Epoch 28 -> [Train] (Loss) 0.5385 (Acc) 0.8218 | [Val] (Loss) 0.4924 (Acc) 0.8322\n",
      "Epoch 29 -> [Train] (Loss) 0.5289 (Acc) 0.7951 | [Val] (Loss) 0.4868 (Acc) 0.8681\n",
      "Epoch 30 -> [Train] (Loss) 0.5112 (Acc) 0.8090 | [Val] (Loss) 0.4929 (Acc) 0.8565\n",
      "Epoch 31 -> [Train] (Loss) 0.5218 (Acc) 0.8160 | [Val] (Loss) 0.4669 (Acc) 0.8750\n",
      "Epoch 32 -> [Train] (Loss) 0.4784 (Acc) 0.8345 | [Val] (Loss) 0.3867 (Acc) 0.8877\n",
      "Epoch 33 -> [Train] (Loss) 0.4125 (Acc) 0.8634 | [Val] (Loss) 0.4210 (Acc) 0.8611\n",
      "Epoch 34 -> [Train] (Loss) 0.4479 (Acc) 0.8438 | [Val] (Loss) 0.4222 (Acc) 0.8600\n",
      "Epoch 35 -> [Train] (Loss) 0.4267 (Acc) 0.8715 | [Val] (Loss) 0.3853 (Acc) 0.8704\n",
      "Epoch 36 -> [Train] (Loss) 0.3764 (Acc) 0.8819 | [Val] (Loss) 0.4728 (Acc) 0.8218\n",
      "Epoch 37 -> [Train] (Loss) 0.4045 (Acc) 0.8715 | [Val] (Loss) 0.4329 (Acc) 0.8403\n",
      "Epoch 38 -> [Train] (Loss) 0.3679 (Acc) 0.8970 | [Val] (Loss) 0.3720 (Acc) 0.8843\n",
      "Epoch 39 -> [Train] (Loss) 0.3275 (Acc) 0.9178 | [Val] (Loss) 0.3037 (Acc) 0.9144\n",
      "Epoch 40 -> [Train] (Loss) 0.2928 (Acc) 0.9340 | [Val] (Loss) 0.3164 (Acc) 0.8947\n",
      "Epoch 41 -> [Train] (Loss) 0.2959 (Acc) 0.9340 | [Val] (Loss) 0.2173 (Acc) 0.9456\n",
      "Epoch 42 -> [Train] (Loss) 0.2880 (Acc) 0.9167 | [Val] (Loss) 0.1984 (Acc) 0.9549\n",
      "Epoch 43 -> [Train] (Loss) 0.2290 (Acc) 0.9606 | [Val] (Loss) 0.1614 (Acc) 0.9780\n",
      "Epoch 44 -> [Train] (Loss) 0.1858 (Acc) 0.9699 | [Val] (Loss) 0.1411 (Acc) 0.9907\n",
      "Epoch 45 -> [Train] (Loss) 0.1421 (Acc) 0.9850 | [Val] (Loss) 0.1300 (Acc) 0.9896\n",
      "Epoch 46 -> [Train] (Loss) 0.1297 (Acc) 0.9919 | [Val] (Loss) 0.1036 (Acc) 0.9954\n",
      "Epoch 47 -> [Train] (Loss) 0.1080 (Acc) 0.9965 | [Val] (Loss) 0.0868 (Acc) 0.9977\n",
      "Epoch 48 -> [Train] (Loss) 0.0901 (Acc) 0.9977 | [Val] (Loss) 0.0717 (Acc) 0.9988\n",
      "Epoch 49 -> [Train] (Loss) 0.0746 (Acc) 0.9988 | [Val] (Loss) 0.0628 (Acc) 0.9988\n",
      "Epoch 50 -> [Train] (Loss) 0.0659 (Acc) 0.9988 | [Val] (Loss) 0.0559 (Acc) 0.9988\n",
      "CPU times: user 4min 29s, sys: 29.1 s, total: 4min 58s\n",
      "Wall time: 4min 58s\n"
     ]
    }
   ],
   "source": [
    "%%time\n",
    "EPOCHS = 50\n",
    "VERBOSE = True\n",
    "\n",
    "metrics = {\n",
    "    'accuracy':accuracy_fn\n",
    "}\n",
    "\n",
    "history_epoch = History()\n",
    "\n",
    "for epoch in range(EPOCHS):\n",
    "    history_batch = History()\n",
    "    for batch_i, (X, Y) in enumerate(testloader, 1):\n",
    "        X, Y = X.to(device).float(), torch.squeeze(Y).long().to(device)\n",
    "        history_train = train_step(model, optimizer, loss_fn, {}, X, Y, metrics)\n",
    "        history_batch.update(history_train)\n",
    "        # print(f\"Batch {batch_i} -> Loss: {history.history}\")\n",
    "        # if batch_i == 2:\n",
    "        #     break\n",
    "    for batch_i, (X, Y) in enumerate(testloader, 1):\n",
    "        X, Y = X.to(device).float(), torch.squeeze(Y).long().to(device)\n",
    "        history_val = val_step(model, optimizer, loss_fn, {}, X, Y, metrics)\n",
    "        history_batch.update(history_val)\n",
    "        # if batch_i == 2:\n",
    "        #     break\n",
    "    history_epoch.update({name:np.mean(values) for name,values in history_batch.history.items()})\n",
    "    if VERBOSE:\n",
    "        print(f\"Epoch {epoch+1} -> [Train] (Loss) {history_epoch.history['loss'][-1]:.4f} (Acc) {history_epoch.history['accuracy'][-1]:.4f} | [Val] (Loss) {history_epoch.history['val_loss'][-1]:.4f} (Acc) {history_epoch.history['val_accuracy'][-1]:.4f}\")\n",
    "    # break"
   ]
  },
  {
   "cell_type": "code",
   "execution_count": 16,
   "metadata": {},
   "outputs": [
    {
     "data": {
      "image/png": "[encoded data removed]",
      "text/plain": [
       "<Figure size 1152x432 with 2 Axes>"
      ]
     },
     "metadata": {
      "needs_background": "light"
     },
     "output_type": "display_data"
    }
   ],
   "source": [
    "history_epoch.plot_history()"
   ]
  }
 ],
 "metadata": {
  "interpreter": {
   "hash": "19dfd1d083436ef0c94dc83e82858078ce2d17debee98da79a4ad2d0556f4e62"
  },
  "kernelspec": {
   "display_name": "Python 3.8.5 64-bit ('ssd': conda)",
   "name": "python3"
  },
  "language_info": {
   "codemirror_mode": {
    "name": "ipython",
    "version": 3
   },
   "file_extension": ".py",
   "mimetype": "text/x-python",
   "name": "python",
   "nbconvert_exporter": "python",
   "pygments_lexer": "ipython3",
   "version": "3.8.5"
  }
 },
 "nbformat": 4,
 "nbformat_minor": 2
}