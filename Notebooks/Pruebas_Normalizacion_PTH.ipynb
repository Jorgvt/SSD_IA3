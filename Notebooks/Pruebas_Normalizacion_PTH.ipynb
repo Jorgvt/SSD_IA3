{
 "cells": [
  {
   "cell_type": "code",
   "execution_count": 1,
   "metadata": {},
   "outputs": [],
   "source": [
    "import os\n",
    "from glob import glob\n",
    "import warnings\n",
    "warnings.filterwarnings(\"ignore\", category=RuntimeWarning) \n",
    "\n",
    "import numpy as np\n",
    "import matplotlib.pyplot as plt\n",
    "import torch\n",
    "import torch.nn as nn\n",
    "import torch.nn.functional as F\n",
    "import mne\n",
    "mne.set_log_level(verbose=False)\n",
    "\n",
    "from Datasets import *"
   ]
  },
  {
   "cell_type": "code",
   "execution_count": 2,
   "metadata": {},
   "outputs": [],
   "source": [
    "BATCH_SIZE = 4\n",
    "channels = ['F4']"
   ]
  },
  {
   "cell_type": "code",
   "execution_count": 3,
   "metadata": {},
   "outputs": [
    {
     "data": {
      "text/plain": [
       "device(type='cuda', index=2)"
      ]
     },
     "execution_count": 3,
     "metadata": {},
     "output_type": "execute_result"
    }
   ],
   "source": [
    "device = torch.device(\"cuda:2\" if torch.cuda.is_available() else \"cpu\")\n",
    "device"
   ]
  },
  {
   "cell_type": "code",
   "execution_count": 4,
   "metadata": {},
   "outputs": [],
   "source": [
    "path = \"../Data/PSG1.edf\"\n",
    "test = EDFData_PTH(path, channels=channels)\n",
    "testloader = torch.utils.data.DataLoader(test, batch_size = BATCH_SIZE, drop_last=True)"
   ]
  },
  {
   "cell_type": "code",
   "execution_count": 5,
   "metadata": {},
   "outputs": [
    {
     "data": {
      "text/plain": [
       "512"
      ]
     },
     "execution_count": 5,
     "metadata": {},
     "output_type": "execute_result"
    }
   ],
   "source": [
    "sampling_rate = int(test.sampling_rate)\n",
    "sampling_rate"
   ]
  },
  {
   "cell_type": "code",
   "execution_count": 6,
   "metadata": {},
   "outputs": [],
   "source": [
    "class TinySleepNet(nn.Module):\n",
    "    def __init__(self, sampling_rate, channels, classes):\n",
    "        super(TinySleepNet, self).__init__()\n",
    "        self.sampling_rate = sampling_rate\n",
    "        self.channels = channels\n",
    "        self.classes = classes\n",
    "\n",
    "        self.feature_extraction = nn.Sequential(*[\n",
    "            nn.Conv1d(in_channels=len(channels), out_channels=128, kernel_size=sampling_rate//2, stride=sampling_rate//4),\n",
    "            nn.ReLU(),\n",
    "            # nn.MaxPool1d(kernel_size=8, stride=8),\n",
    "            # nn.Conv1d(in_channels=128, out_channels=128, kernel_size=8, stride=1, padding=3),\n",
    "            # nn.ReLU(),\n",
    "            # nn.Conv1d(in_channels=128, out_channels=128, kernel_size=8, stride=1, padding=3),\n",
    "            # nn.ReLU(),\n",
    "            # nn.Conv1d(in_channels=128, out_channels=128, kernel_size=8, stride=1, padding=3),\n",
    "            # nn.ReLU(),\n",
    "            # nn.MaxPool1d(kernel_size=4, stride=4)\n",
    "        ])\n",
    "\n",
    "        self.lstm = nn.LSTM(input_size=128, hidden_size=128, batch_first=True)\n",
    "        \n",
    "        self.classifier = nn.Linear(128, classes)\n",
    "\n",
    "    def forward(self, X):\n",
    "        X = self.feature_extraction(X)\n",
    "        X, _ = self.lstm(X.permute(0,2,1))\n",
    "        X = X[:,-1,:]\n",
    "        # X = self.classifier(X.reshape(X.shape[0],-1))\n",
    "        X = self.classifier(X)\n",
    "        return X"
   ]
  },
  {
   "cell_type": "code",
   "execution_count": 7,
   "metadata": {},
   "outputs": [
    {
     "data": {
      "text/plain": [
       "TinySleepNet(\n",
       "  (feature_extraction): Sequential(\n",
       "    (0): Conv1d(1, 128, kernel_size=(256,), stride=(128,))\n",
       "    (1): ReLU()\n",
       "  )\n",
       "  (lstm): LSTM(128, 128, batch_first=True)\n",
       "  (classifier): Linear(in_features=128, out_features=5, bias=True)\n",
       ")"
      ]
     },
     "execution_count": 7,
     "metadata": {},
     "output_type": "execute_result"
    }
   ],
   "source": [
    "model = TinySleepNet(sampling_rate, channels, classes=len(test.id_to_class_dict))\n",
    "model.to(device)\n",
    "optimizer = torch.optim.Adam(model.parameters())\n",
    "loss_fn = nn.CrossEntropyLoss()\n",
    "model"
   ]
  },
  {
   "cell_type": "code",
   "execution_count": 8,
   "metadata": {},
   "outputs": [
    {
     "data": {
      "text/plain": [
       "torch.Size([4, 5])"
      ]
     },
     "execution_count": 8,
     "metadata": {},
     "output_type": "execute_result"
    }
   ],
   "source": [
    "for X, Y in testloader:\n",
    "    X = X.to(device).float()\n",
    "    with torch.no_grad():\n",
    "        pap = model(X)\n",
    "    break\n",
    "pap.shape"
   ]
  },
  {
   "cell_type": "code",
   "execution_count": 9,
   "metadata": {},
   "outputs": [],
   "source": [
    "def train_step(model, optimizer, loss_fn, history, X, Y, metrics=None):\n",
    "    \"\"\"\n",
    "    Trains the model over a batch.\n",
    "\n",
    "    Parameters\n",
    "    ----------\n",
    "    model: nn.Module\n",
    "        Torch model.\n",
    "    optimizer:\n",
    "        Torch optimizer.\n",
    "    loss_fn:\n",
    "        Torch loss function.\n",
    "    X: torch.Tensor\n",
    "    Y: torch.Tensor\n",
    "    metrics: dict{str:functions}\n",
    "        Dict of functions (metrics) we want to calculate and their name.\n",
    "    \n",
    "    Returns\n",
    "    -------\n",
    "    history: dict{str:float}\n",
    "        Dictionary of metrics.\n",
    "    \"\"\"\n",
    "    optimizer.zero_grad()\n",
    "    pred = model(X)\n",
    "    loss = loss_fn(pred, Y)\n",
    "    loss.backward()\n",
    "\n",
    "    history['loss'] = loss.item()\n",
    "    if metrics:\n",
    "        with torch.no_grad():\n",
    "            for name, metric_fn in metrics.items():\n",
    "                history[name] = metric_fn(pred, Y)\n",
    "\n",
    "    optimizer.step()\n",
    "    return history"
   ]
  },
  {
   "cell_type": "code",
   "execution_count": 10,
   "metadata": {},
   "outputs": [],
   "source": [
    "def val_step(model, optimizer, loss_fn, history, X, Y, metrics=None):\n",
    "    \"\"\"\n",
    "    Calculates the validation metrics over a batch.\n",
    "\n",
    "    Parameters\n",
    "    ----------\n",
    "    model: nn.Module\n",
    "        Torch model.\n",
    "    optimizer:\n",
    "        Torch optimizer.\n",
    "    loss_fn:\n",
    "        Torch loss function.\n",
    "    X: torch.Tensor\n",
    "    Y: torch.Tensor\n",
    "    metrics: dict{str:functions}\n",
    "        Dict of functions (metrics) we want to calculate and their name.\n",
    "    \n",
    "    Returns\n",
    "    -------\n",
    "    history: dict{str:float}\n",
    "        Dictionary of metrics.\n",
    "    \"\"\"\n",
    "    with torch.no_grad():\n",
    "        pred = model(X)\n",
    "        loss = loss_fn(pred, Y)\n",
    "\n",
    "        history['val_loss'] = loss.item()\n",
    "        if metrics:\n",
    "            for name, metric_fn in metrics.items():\n",
    "                history['val_'+name] = metric_fn(pred, Y)\n",
    "\n",
    "    return history"
   ]
  },
  {
   "cell_type": "code",
   "execution_count": 11,
   "metadata": {},
   "outputs": [],
   "source": [
    "class History():\n",
    "    \"\"\"\n",
    "    Class designed to track the metrics during the training of a NN.\n",
    "    \"\"\"\n",
    "    \n",
    "    def __init__(self):\n",
    "        self.history = {}\n",
    "\n",
    "    def update(self, history):\n",
    "        \"\"\"\n",
    "        Adds new values to the history.\n",
    "\n",
    "        Parameters\n",
    "        ----------\n",
    "        history: dict{str:float}\n",
    "\n",
    "        Returns\n",
    "        -------\n",
    "        None\n",
    "        \"\"\"\n",
    "        for metric_name, metric_value in history.items():\n",
    "            if metric_name not in self.history.keys():\n",
    "                self.history[metric_name] = [metric_value]\n",
    "            else:\n",
    "                self.history[metric_name].append(metric_value)\n",
    "    \n",
    "    def plot_history(self, figsize=(16,6)):\n",
    "        \"\"\"\n",
    "        Plots the history values.\n",
    "\n",
    "        Parameters\n",
    "        ----------\n",
    "        history: History object\n",
    "\n",
    "        Returns\n",
    "        -------\n",
    "        None\n",
    "        \"\"\"\n",
    "        ## First retrieve metrics names ## \n",
    "        metrics_names = [a for a in self.history.keys() if a[:3]!='val']\n",
    "        \n",
    "        rows = 1\n",
    "        cols = len(metrics_names)\n",
    "\n",
    "        plt.figure(figsize=figsize)\n",
    "        for i,a in enumerate(metrics_names,1):\n",
    "            plt.subplot(rows,cols,i)\n",
    "            plt.title(a)\n",
    "            plt.plot(history_epoch.history[a], label=\"Train\")\n",
    "            plt.plot(history_epoch.history[\"val_\"+a], label=\"Validation\")\n",
    "            plt.legend()\n",
    "\n",
    "        plt.show()"
   ]
  },
  {
   "cell_type": "code",
   "execution_count": 12,
   "metadata": {},
   "outputs": [],
   "source": [
    "def accuracy_fn(Y_pred, Y_true):\n",
    "    \"\"\"\n",
    "    Calculates the accuracy of our model given its predictions and labels.\n",
    "\n",
    "    Parameters\n",
    "    ----------\n",
    "    Y_pred: torch.Tensor\n",
    "        Raw output from the nn (logits).\n",
    "    Y_true: torch.Tensor\n",
    "        Objective labels.\n",
    "    \n",
    "    Returns\n",
    "    -------\n",
    "    accuracy: float\n",
    "    \"\"\"\n",
    "    Y_pred = torch.softmax(Y_pred, dim=-1)\n",
    "    Y_pred = Y_pred.argmax(dim=-1)\n",
    "    accuracy = torch.where(Y_pred==Y_true, 1, 0).sum() / len(Y_true)\n",
    "\n",
    "    return accuracy.item()"
   ]
  },
  {
   "cell_type": "code",
   "execution_count": 13,
   "metadata": {
    "tags": []
   },
   "outputs": [
    {
     "name": "stdout",
     "output_type": "stream",
     "text": [
      "Epoch 1 -> [Train] (Loss) 1.5119 (Acc) 0.3909 | [Val] (Loss) 1.4268 (Acc) 0.3602\n",
      "Epoch 2 -> [Train] (Loss) 1.4609 (Acc) 0.3523 | [Val] (Loss) 1.4127 (Acc) 0.3602\n",
      "Epoch 3 -> [Train] (Loss) 1.4528 (Acc) 0.3489 | [Val] (Loss) 1.4042 (Acc) 0.3602\n",
      "Epoch 4 -> [Train] (Loss) 1.4390 (Acc) 0.3284 | [Val] (Loss) 1.3966 (Acc) 0.3625\n",
      "Epoch 5 -> [Train] (Loss) 1.4341 (Acc) 0.3295 | [Val] (Loss) 1.3937 (Acc) 0.3659\n",
      "Epoch 6 -> [Train] (Loss) 1.4271 (Acc) 0.3341 | [Val] (Loss) 1.3877 (Acc) 0.3739\n",
      "Epoch 7 -> [Train] (Loss) 1.4200 (Acc) 0.3568 | [Val] (Loss) 1.3847 (Acc) 0.3830\n",
      "Epoch 8 -> [Train] (Loss) 1.4155 (Acc) 0.3670 | [Val] (Loss) 1.3770 (Acc) 0.3818\n",
      "Epoch 9 -> [Train] (Loss) 1.4178 (Acc) 0.3614 | [Val] (Loss) 1.3763 (Acc) 0.3830\n",
      "Epoch 10 -> [Train] (Loss) 1.4060 (Acc) 0.3705 | [Val] (Loss) 1.3698 (Acc) 0.4023\n",
      "Epoch 11 -> [Train] (Loss) 1.3987 (Acc) 0.3955 | [Val] (Loss) 1.3630 (Acc) 0.4057\n",
      "Epoch 12 -> [Train] (Loss) 1.3858 (Acc) 0.3864 | [Val] (Loss) 1.3521 (Acc) 0.4182\n",
      "Epoch 13 -> [Train] (Loss) 1.3733 (Acc) 0.4057 | [Val] (Loss) 1.3399 (Acc) 0.4307\n",
      "Epoch 14 -> [Train] (Loss) 1.3673 (Acc) 0.4091 | [Val] (Loss) 1.3384 (Acc) 0.4330\n",
      "Epoch 15 -> [Train] (Loss) 1.3624 (Acc) 0.4023 | [Val] (Loss) 1.3204 (Acc) 0.4420\n",
      "Epoch 16 -> [Train] (Loss) 1.3462 (Acc) 0.4205 | [Val] (Loss) 1.3064 (Acc) 0.4432\n",
      "Epoch 17 -> [Train] (Loss) 1.3430 (Acc) 0.4159 | [Val] (Loss) 1.2997 (Acc) 0.4341\n",
      "Epoch 18 -> [Train] (Loss) 1.3161 (Acc) 0.4330 | [Val] (Loss) 1.2783 (Acc) 0.4614\n",
      "Epoch 19 -> [Train] (Loss) 1.3017 (Acc) 0.4409 | [Val] (Loss) 1.2745 (Acc) 0.4557\n",
      "Epoch 20 -> [Train] (Loss) 1.2906 (Acc) 0.4591 | [Val] (Loss) 1.2685 (Acc) 0.4602\n",
      "Epoch 21 -> [Train] (Loss) 1.2939 (Acc) 0.4591 | [Val] (Loss) 1.2526 (Acc) 0.4602\n",
      "Epoch 22 -> [Train] (Loss) 1.2736 (Acc) 0.4557 | [Val] (Loss) 1.2459 (Acc) 0.4625\n",
      "Epoch 23 -> [Train] (Loss) 1.2578 (Acc) 0.4682 | [Val] (Loss) 1.2261 (Acc) 0.4682\n",
      "Epoch 24 -> [Train] (Loss) 1.2450 (Acc) 0.4739 | [Val] (Loss) 1.2170 (Acc) 0.4795\n",
      "Epoch 25 -> [Train] (Loss) 1.2396 (Acc) 0.4909 | [Val] (Loss) 1.2062 (Acc) 0.4955\n",
      "Epoch 26 -> [Train] (Loss) 1.2230 (Acc) 0.4932 | [Val] (Loss) 1.1810 (Acc) 0.5057\n",
      "Epoch 27 -> [Train] (Loss) 1.2005 (Acc) 0.5057 | [Val] (Loss) 1.1536 (Acc) 0.5318\n",
      "Epoch 28 -> [Train] (Loss) 1.1739 (Acc) 0.5148 | [Val] (Loss) 1.1377 (Acc) 0.5193\n",
      "Epoch 29 -> [Train] (Loss) 1.1571 (Acc) 0.5205 | [Val] (Loss) 1.1203 (Acc) 0.5307\n",
      "Epoch 30 -> [Train] (Loss) 1.1632 (Acc) 0.5182 | [Val] (Loss) 1.1037 (Acc) 0.5455\n",
      "Epoch 31 -> [Train] (Loss) 1.1231 (Acc) 0.5352 | [Val] (Loss) 1.0958 (Acc) 0.5523\n",
      "Epoch 32 -> [Train] (Loss) 1.1128 (Acc) 0.5409 | [Val] (Loss) 1.0599 (Acc) 0.5670\n",
      "Epoch 33 -> [Train] (Loss) 1.0924 (Acc) 0.5489 | [Val] (Loss) 1.0524 (Acc) 0.5750\n",
      "Epoch 34 -> [Train] (Loss) 1.0911 (Acc) 0.5568 | [Val] (Loss) 1.0349 (Acc) 0.5852\n",
      "Epoch 35 -> [Train] (Loss) 1.0569 (Acc) 0.5636 | [Val] (Loss) 1.0073 (Acc) 0.6023\n",
      "Epoch 36 -> [Train] (Loss) 1.0192 (Acc) 0.5659 | [Val] (Loss) 0.9684 (Acc) 0.6239\n",
      "Epoch 37 -> [Train] (Loss) 0.9877 (Acc) 0.5977 | [Val] (Loss) 0.9502 (Acc) 0.6330\n",
      "Epoch 38 -> [Train] (Loss) 0.9836 (Acc) 0.6023 | [Val] (Loss) 0.9242 (Acc) 0.6511\n",
      "Epoch 39 -> [Train] (Loss) 0.9431 (Acc) 0.6250 | [Val] (Loss) 0.9179 (Acc) 0.6545\n",
      "Epoch 40 -> [Train] (Loss) 0.9308 (Acc) 0.6239 | [Val] (Loss) 0.9135 (Acc) 0.6511\n",
      "Epoch 41 -> [Train] (Loss) 0.8930 (Acc) 0.6273 | [Val] (Loss) 0.8555 (Acc) 0.6716\n",
      "Epoch 42 -> [Train] (Loss) 0.8743 (Acc) 0.6443 | [Val] (Loss) 0.8392 (Acc) 0.6932\n",
      "Epoch 43 -> [Train] (Loss) 0.8409 (Acc) 0.6773 | [Val] (Loss) 0.8143 (Acc) 0.6943\n",
      "Epoch 44 -> [Train] (Loss) 0.8315 (Acc) 0.6784 | [Val] (Loss) 0.8190 (Acc) 0.6784\n",
      "Epoch 45 -> [Train] (Loss) 0.8015 (Acc) 0.7011 | [Val] (Loss) 0.8010 (Acc) 0.7034\n",
      "Epoch 46 -> [Train] (Loss) 0.7705 (Acc) 0.6989 | [Val] (Loss) 0.7628 (Acc) 0.7182\n",
      "Epoch 47 -> [Train] (Loss) 0.7369 (Acc) 0.7170 | [Val] (Loss) 0.7199 (Acc) 0.7318\n",
      "Epoch 48 -> [Train] (Loss) 0.7436 (Acc) 0.7057 | [Val] (Loss) 0.7286 (Acc) 0.7250\n",
      "Epoch 49 -> [Train] (Loss) 0.7134 (Acc) 0.7307 | [Val] (Loss) 0.6842 (Acc) 0.7648\n",
      "Epoch 50 -> [Train] (Loss) 0.6931 (Acc) 0.7386 | [Val] (Loss) 0.6530 (Acc) 0.7705\n",
      "CPU times: user 5min 57s, sys: 32.1 s, total: 6min 30s\n",
      "Wall time: 6min 29s\n"
     ]
    }
   ],
   "source": [
    "%%time\n",
    "EPOCHS = 50\n",
    "VERBOSE = True\n",
    "\n",
    "metrics = {\n",
    "    'accuracy':accuracy_fn\n",
    "}\n",
    "\n",
    "history_epoch = History()\n",
    "\n",
    "for epoch in range(EPOCHS):\n",
    "    history_batch = History()\n",
    "    for batch_i, (X, Y) in enumerate(testloader, 1):\n",
    "        X, Y = X.to(device).float(), torch.squeeze(Y).long().to(device)\n",
    "        history_train = train_step(model, optimizer, loss_fn, {}, X, Y, metrics)\n",
    "        history_batch.update(history_train)\n",
    "        # print(f\"Batch {batch_i} -> Loss: {history.history}\")\n",
    "        # if batch_i == 2:\n",
    "        #     break\n",
    "    for batch_i, (X, Y) in enumerate(testloader, 1):\n",
    "        X, Y = X.to(device).float(), torch.squeeze(Y).long().to(device)\n",
    "        history_val = val_step(model, optimizer, loss_fn, {}, X, Y, metrics)\n",
    "        history_batch.update(history_val)\n",
    "        # if batch_i == 2:\n",
    "        #     break\n",
    "    history_epoch.update({name:np.mean(values) for name,values in history_batch.history.items()})\n",
    "    if VERBOSE:\n",
    "        print(f\"Epoch {epoch+1} -> [Train] (Loss) {history_epoch.history['loss'][-1]:.4f} (Acc) {history_epoch.history['accuracy'][-1]:.4f} | [Val] (Loss) {history_epoch.history['val_loss'][-1]:.4f} (Acc) {history_epoch.history['val_accuracy'][-1]:.4f}\")\n",
    "    # break"
   ]
  },
  {
   "cell_type": "code",
   "execution_count": 51,
   "metadata": {},
   "outputs": [],
   "source": [
    "def plot_history(history):\n",
    "    \"\"\"\n",
    "    Plots the history values.\n",
    "\n",
    "    Parameters\n",
    "    ----------\n",
    "    history: History object\n",
    "\n",
    "    Returns\n",
    "    -------\n",
    "    None\n",
    "    \"\"\"\n",
    "    ## First retrieve metrics names ## \n",
    "    metrics_names = [a for a in history.history.keys() if a[:3]!='val']\n",
    "    \n",
    "    rows = 1\n",
    "    cols = len(metrics_names)\n",
    "\n",
    "    for i,a in enumerate(metrics_names,1):\n",
    "        plt.subplot(rows,cols,i)\n",
    "        plt.title(a)\n",
    "        plt.plot(history_epoch.history[a], label=\"Train\")\n",
    "        plt.plot(history_epoch.history[\"val_\"+a], label=\"Validation\")\n",
    "        plt.legend()"
   ]
  },
  {
   "cell_type": "code",
   "execution_count": 52,
   "metadata": {},
   "outputs": [
    {
     "data": {
      "image/png": "[encoded data removed]",
      "text/plain": [
       "<Figure size 1152x432 with 2 Axes>"
      ]
     },
     "metadata": {
      "needs_background": "light"
     },
     "output_type": "display_data"
    }
   ],
   "source": [
    "plt.figure(figsize=(16,6))\n",
    "plot_history(history_epoch)\n",
    "plt.show()"
   ]
  },
  {
   "cell_type": "code",
   "execution_count": 18,
   "metadata": {},
   "outputs": [
    {
     "data": {
      "text/plain": [
       "{'loss': [1.7138375172433866,\n",
       "  1.4944959858601743,\n",
       "  1.4948203263634985,\n",
       "  1.494404115866531,\n",
       "  1.494178574125875],\n",
       " 'accuracy': [0.3977272727272727,\n",
       "  0.35795454545454547,\n",
       "  0.35795454545454547,\n",
       "  0.35795454545454547,\n",
       "  0.35795454545454547],\n",
       " 'val_loss': [1.425651281801137,\n",
       "  1.427472654797814,\n",
       "  1.4275500725616108,\n",
       "  1.4275773579424078,\n",
       "  1.427587959983132],\n",
       " 'val_accuracy': [0.36022727272727273,\n",
       "  0.36022727272727273,\n",
       "  0.36022727272727273,\n",
       "  0.36022727272727273,\n",
       "  0.36022727272727273]}"
      ]
     },
     "execution_count": 18,
     "metadata": {},
     "output_type": "execute_result"
    }
   ],
   "source": [
    "history_epoch.plot_history()"
   ]
  }
 ],
 "metadata": {
  "interpreter": {
   "hash": "19dfd1d083436ef0c94dc83e82858078ce2d17debee98da79a4ad2d0556f4e62"
  },
  "kernelspec": {
   "display_name": "Python 3.8.5 64-bit ('ssd': conda)",
   "name": "python3"
  },
  "language_info": {
   "codemirror_mode": {
    "name": "ipython",
    "version": 3
   },
   "file_extension": ".py",
   "mimetype": "text/x-python",
   "name": "python",
   "nbconvert_exporter": "python",
   "pygments_lexer": "ipython3",
   "version": "3.8.5"
  }
 },
 "nbformat": 4,
 "nbformat_minor": 2
}