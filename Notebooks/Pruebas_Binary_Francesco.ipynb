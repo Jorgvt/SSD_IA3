{
 "cells": [
  {
   "cell_type": "code",
   "execution_count": 1,
   "metadata": {},
   "outputs": [],
   "source": [
    "import os\r\n",
    "os.environ[\"CUDA_VISIBLE_DEVICES\"]=\"2\" #0,1,2\r\n",
    "import warnings\r\n",
    "warnings.filterwarnings(\"ignore\")\r\n",
    "\r\n",
    "import numpy as np\r\n",
    "import matplotlib.pyplot as plt\r\n",
    "import tensorflow as tf\r\n",
    "\r\n",
    "import DatasetsPaco\r\n",
    "# import TinySleepNet\r\n",
    "\r\n",
    "from wandb.keras import WandbCallback"
   ]
  },
  {
   "cell_type": "code",
   "execution_count": 2,
   "metadata": {},
   "outputs": [],
   "source": [
    "binary_labels = True\r\n",
    "channels = ['F4']\r\n",
    "batch_size = 64\r\n",
    "dataset = DatasetsPaco.EDFData_TF_old(\"../Data/PSG1.edf\", batch_size=batch_size, channels=channels, binary_labels=binary_labels)"
   ]
  },
  {
   "cell_type": "code",
   "execution_count": 3,
   "metadata": {},
   "outputs": [
    {
     "data": {
      "text/plain": [
       "(array([0, 1]), {0: 'Sleep stage R', 1: 'Sleep stage W'})"
      ]
     },
     "execution_count": 3,
     "metadata": {},
     "output_type": "execute_result"
    }
   ],
   "source": [
    "labels_b = []\r\n",
    "for a,b in dataset:\r\n",
    "    labels_b.extend(b)\r\n",
    "np.unique(labels_b), dataset.id_to_class_dict"
   ]
  },
  {
   "cell_type": "code",
   "execution_count": 4,
   "metadata": {},
   "outputs": [],
   "source": [
    "X_binary_raw = []\r\n",
    "for X, Y in dataset:\r\n",
    "    # temp = (X-dataset_b.mean)/dataset_b.std\r\n",
    "    X_binary_raw.append(X.numpy())\r\n",
    "    # break\r\n",
    "X_binary_raw = np.vstack(X_binary_raw)"
   ]
  },
  {
   "cell_type": "code",
   "execution_count": 5,
   "metadata": {},
   "outputs": [
    {
     "data": {
      "image/png": "[encoded data removed]",
      "text/plain": [
       "<Figure size 432x288 with 1 Axes>"
      ]
     },
     "metadata": {
      "needs_background": "light"
     },
     "output_type": "display_data"
    }
   ],
   "source": [
    "plt.figure()\r\n",
    "plt.hist(X_binary_raw.flatten())\r\n",
    "plt.show()"
   ]
  },
  {
   "cell_type": "code",
   "execution_count": 6,
   "metadata": {},
   "outputs": [],
   "source": [
    "X_binary_std = []\r\n",
    "for X, Y in dataset:\r\n",
    "    temp = (X-dataset.mean)/dataset.std\r\n",
    "    X_binary_std.append(temp.numpy())\r\n",
    "    # break\r\n",
    "X_binary_std = np.vstack(X_binary_std)"
   ]
  },
  {
   "cell_type": "code",
   "execution_count": 7,
   "metadata": {},
   "outputs": [
    {
     "data": {
      "image/png": "[encoded data removed]",
      "text/plain": [
       "<Figure size 432x288 with 1 Axes>"
      ]
     },
     "metadata": {
      "needs_background": "light"
     },
     "output_type": "display_data"
    }
   ],
   "source": [
    "plt.figure()\r\n",
    "plt.hist(X_binary_std.flatten(), range=[-1,1])\r\n",
    "plt.show()"
   ]
  },
  {
   "cell_type": "code",
   "execution_count": 8,
   "metadata": {},
   "outputs": [
    {
     "data": {
      "text/plain": [
       "(512, 2)"
      ]
     },
     "execution_count": 8,
     "metadata": {},
     "output_type": "execute_result"
    }
   ],
   "source": [
    "sr = int(dataset.sampling_rate)\r\n",
    "num_epochs = 30\r\n",
    "if binary_labels:\r\n",
    "    classes = 2\r\n",
    "else:\r\n",
    "    classes = 5\r\n",
    "sr, classes"
   ]
  },
  {
   "cell_type": "code",
   "execution_count": 9,
   "metadata": {},
   "outputs": [],
   "source": [
    "model = tf.keras.models.Sequential([\r\n",
    "        tf.keras.layers.Conv1D(128, kernel_size=sr // 2, padding='same', strides=sr // 4, activation=\"relu\",\r\n",
    "                               data_format='channels_last',\r\n",
    "                               input_shape=(15360,1)),  # 15360 / 128 = 120\r\n",
    "        tf.keras.layers.MaxPooling1D(8),\r\n",
    "        # tf.keras.layers.Dropout(0.5),\r\n",
    "        # tf.keras.layers.Conv1D(128, kernel_size=8, padding='same', strides=1, activation=\"relu\",\r\n",
    "        #                        data_format='channels_last'),\r\n",
    "        # tf.keras.layers.Conv1D(128, kernel_size=8, padding='same', strides=1, activation=\"relu\",\r\n",
    "        #                        data_format='channels_last'),\r\n",
    "        # tf.keras.layers.Conv1D(128, kernel_size=8, padding='same', strides=1, activation=\"relu\",\r\n",
    "        #                        data_format='channels_last'),\r\n",
    "        # tf.keras.layers.MaxPooling1D(4),\r\n",
    "        # tf.keras.layers.Dropout(0.5),\r\n",
    "        # tf.keras.layers.LSTM(128),\r\n",
    "        # tf.keras.layers.Dropout(0.5),\r\n",
    "        tf.keras.layers.Flatten(),\r\n",
    "        tf.keras.layers.Dense(classes, activation=\"softmax\")\r\n",
    "    ])"
   ]
  },
  {
   "cell_type": "code",
   "execution_count": 10,
   "metadata": {},
   "outputs": [
    {
     "name": "stdout",
     "output_type": "stream",
     "text": [
      "Model: \"sequential\"\n",
      "_________________________________________________________________\n",
      "Layer (type)                 Output Shape              Param #   \n",
      "=================================================================\n",
      "conv1d (Conv1D)              (None, 120, 128)          32896     \n",
      "_________________________________________________________________\n",
      "max_pooling1d (MaxPooling1D) (None, 15, 128)           0         \n",
      "_________________________________________________________________\n",
      "flatten (Flatten)            (None, 1920)              0         \n",
      "_________________________________________________________________\n",
      "dense (Dense)                (None, 2)                 3842      \n",
      "=================================================================\n",
      "Total params: 36,738\n",
      "Trainable params: 36,738\n",
      "Non-trainable params: 0\n",
      "_________________________________________________________________\n"
     ]
    }
   ],
   "source": [
    "model.summary()"
   ]
  },
  {
   "cell_type": "code",
   "execution_count": 11,
   "metadata": {},
   "outputs": [],
   "source": [
    "# model = TinySleepNet.TinySleepNet(sampling_rate=sr, channels=len(channels), classes=classes)\n",
    "model.compile(loss=\"sparse_categorical_crossentropy\", optimizer='adam', metrics=['accuracy'])"
   ]
  },
  {
   "cell_type": "code",
   "execution_count": 12,
   "metadata": {},
   "outputs": [
    {
     "name": "stdout",
     "output_type": "stream",
     "text": [
      "Epoch 1/30\n",
      "28/28 [==============================] - 0s 14ms/step - loss: 0.6326 - accuracy: 0.7211\n",
      "Epoch 2/30\n",
      "28/28 [==============================] - 0s 13ms/step - loss: 0.5958 - accuracy: 0.7211\n",
      "Epoch 3/30\n",
      "28/28 [==============================] - 0s 15ms/step - loss: 0.5928 - accuracy: 0.7211\n",
      "Epoch 4/30\n",
      "28/28 [==============================] - 0s 15ms/step - loss: 0.5933 - accuracy: 0.7211\n",
      "Epoch 5/30\n",
      "28/28 [==============================] - 0s 15ms/step - loss: 0.5953 - accuracy: 0.7211\n",
      "Epoch 6/30\n",
      "28/28 [==============================] - 0s 14ms/step - loss: 0.5933 - accuracy: 0.7211\n",
      "Epoch 7/30\n",
      "28/28 [==============================] - 0s 14ms/step - loss: 0.5932 - accuracy: 0.7211\n",
      "Epoch 8/30\n",
      "28/28 [==============================] - 0s 14ms/step - loss: 0.5919 - accuracy: 0.7211\n",
      "Epoch 9/30\n",
      "28/28 [==============================] - 0s 14ms/step - loss: 0.5925 - accuracy: 0.7211\n",
      "Epoch 10/30\n",
      "28/28 [==============================] - 0s 15ms/step - loss: 0.5953 - accuracy: 0.7211\n",
      "Epoch 11/30\n",
      "28/28 [==============================] - 0s 14ms/step - loss: 0.5923 - accuracy: 0.7211\n",
      "Epoch 12/30\n",
      "28/28 [==============================] - 0s 15ms/step - loss: 0.5933 - accuracy: 0.7211\n",
      "Epoch 13/30\n",
      "28/28 [==============================] - 0s 14ms/step - loss: 0.5938 - accuracy: 0.7211\n",
      "Epoch 14/30\n",
      "28/28 [==============================] - 0s 14ms/step - loss: 0.5945 - accuracy: 0.7211\n",
      "Epoch 15/30\n",
      "28/28 [==============================] - 0s 13ms/step - loss: 0.5924 - accuracy: 0.7211\n",
      "Epoch 16/30\n",
      "28/28 [==============================] - 0s 13ms/step - loss: 0.5923 - accuracy: 0.7222\n",
      "Epoch 17/30\n",
      "28/28 [==============================] - 0s 14ms/step - loss: 0.5922 - accuracy: 0.7222\n",
      "Epoch 18/30\n",
      "28/28 [==============================] - 0s 14ms/step - loss: 0.5933 - accuracy: 0.7222\n",
      "Epoch 19/30\n",
      "28/28 [==============================] - 0s 13ms/step - loss: 0.5927 - accuracy: 0.7222\n",
      "Epoch 20/30\n",
      "28/28 [==============================] - 0s 13ms/step - loss: 0.5919 - accuracy: 0.7222\n",
      "Epoch 21/30\n",
      "28/28 [==============================] - 0s 13ms/step - loss: 0.5915 - accuracy: 0.7222\n",
      "Epoch 22/30\n",
      "28/28 [==============================] - 0s 13ms/step - loss: 0.5920 - accuracy: 0.7222\n",
      "Epoch 23/30\n",
      "28/28 [==============================] - 0s 13ms/step - loss: 0.5927 - accuracy: 0.7222\n",
      "Epoch 24/30\n",
      "28/28 [==============================] - 0s 13ms/step - loss: 0.5919 - accuracy: 0.7222\n",
      "Epoch 25/30\n",
      "28/28 [==============================] - 0s 13ms/step - loss: 0.5928 - accuracy: 0.7222\n",
      "Epoch 26/30\n",
      "28/28 [==============================] - 0s 13ms/step - loss: 0.5931 - accuracy: 0.7222\n",
      "Epoch 27/30\n",
      "28/28 [==============================] - 0s 13ms/step - loss: 0.5917 - accuracy: 0.7222\n",
      "Epoch 28/30\n",
      "28/28 [==============================] - 0s 13ms/step - loss: 0.5909 - accuracy: 0.7222\n",
      "Epoch 29/30\n",
      "28/28 [==============================] - 0s 13ms/step - loss: 0.5930 - accuracy: 0.7222\n",
      "Epoch 30/30\n",
      "28/28 [==============================] - 0s 12ms/step - loss: 0.5936 - accuracy: 0.7222\n"
     ]
    }
   ],
   "source": [
    "history = model.fit(X_binary_raw, np.array(labels_b), epochs=num_epochs)"
   ]
  },
  {
   "cell_type": "code",
   "execution_count": 13,
   "metadata": {},
   "outputs": [],
   "source": [
    "model = tf.keras.models.Sequential([\r\n",
    "        tf.keras.layers.Conv1D(128, kernel_size=sr // 2, padding='same', strides=sr // 4, activation=\"relu\",\r\n",
    "                               data_format='channels_last',\r\n",
    "                               input_shape=(15360,1)),  # 15360 / 128 = 120\r\n",
    "        tf.keras.layers.MaxPooling1D(8),\r\n",
    "        # tf.keras.layers.Dropout(0.5),\r\n",
    "        # tf.keras.layers.Conv1D(128, kernel_size=8, padding='same', strides=1, activation=\"relu\",\r\n",
    "        #                        data_format='channels_last'),\r\n",
    "        # tf.keras.layers.Conv1D(128, kernel_size=8, padding='same', strides=1, activation=\"relu\",\r\n",
    "        #                        data_format='channels_last'),\r\n",
    "        # tf.keras.layers.Conv1D(128, kernel_size=8, padding='same', strides=1, activation=\"relu\",\r\n",
    "        #                        data_format='channels_last'),\r\n",
    "        # tf.keras.layers.MaxPooling1D(4),\r\n",
    "        # tf.keras.layers.Dropout(0.5),\r\n",
    "        # tf.keras.layers.LSTM(128),\r\n",
    "        # tf.keras.layers.Dropout(0.5),\r\n",
    "        tf.keras.layers.Flatten(),\r\n",
    "        tf.keras.layers.Dense(classes, activation=\"softmax\")\r\n",
    "    ])"
   ]
  },
  {
   "cell_type": "code",
   "execution_count": 14,
   "metadata": {},
   "outputs": [],
   "source": [
    "model.compile(loss=\"sparse_categorical_crossentropy\", optimizer='adam', metrics=['accuracy'])"
   ]
  },
  {
   "cell_type": "code",
   "execution_count": 15,
   "metadata": {},
   "outputs": [
    {
     "name": "stdout",
     "output_type": "stream",
     "text": [
      "Epoch 1/30\n",
      "28/28 [==============================] - 0s 10ms/step - loss: 0.9199 - accuracy: 0.6077\n",
      "Epoch 2/30\n",
      "28/28 [==============================] - 0s 10ms/step - loss: 0.9704 - accuracy: 0.6780\n",
      "Epoch 3/30\n",
      "28/28 [==============================] - 0s 10ms/step - loss: 0.7616 - accuracy: 0.6893\n",
      "Epoch 4/30\n",
      "28/28 [==============================] - 0s 13ms/step - loss: 0.6926 - accuracy: 0.7075\n",
      "Epoch 5/30\n",
      "28/28 [==============================] - 0s 15ms/step - loss: 0.6006 - accuracy: 0.7154\n",
      "Epoch 6/30\n",
      "28/28 [==============================] - 0s 15ms/step - loss: 0.5291 - accuracy: 0.7608\n",
      "Epoch 7/30\n",
      "28/28 [==============================] - 0s 16ms/step - loss: 0.5158 - accuracy: 0.7608\n",
      "Epoch 8/30\n",
      "28/28 [==============================] - 0s 14ms/step - loss: 0.5152 - accuracy: 0.7698\n",
      "Epoch 9/30\n",
      "28/28 [==============================] - 0s 15ms/step - loss: 0.4888 - accuracy: 0.7664\n",
      "Epoch 10/30\n",
      "28/28 [==============================] - 0s 16ms/step - loss: 0.4030 - accuracy: 0.8379\n",
      "Epoch 11/30\n",
      "28/28 [==============================] - 0s 15ms/step - loss: 0.4248 - accuracy: 0.8095\n",
      "Epoch 12/30\n",
      "28/28 [==============================] - 0s 13ms/step - loss: 0.3682 - accuracy: 0.8401\n",
      "Epoch 13/30\n",
      "28/28 [==============================] - 0s 13ms/step - loss: 0.3614 - accuracy: 0.8560\n",
      "Epoch 14/30\n",
      "28/28 [==============================] - 0s 14ms/step - loss: 0.3553 - accuracy: 0.8424\n",
      "Epoch 15/30\n",
      "28/28 [==============================] - 0s 14ms/step - loss: 0.3381 - accuracy: 0.8549\n",
      "Epoch 16/30\n",
      "28/28 [==============================] - 0s 14ms/step - loss: 0.3231 - accuracy: 0.8730\n",
      "Epoch 17/30\n",
      "28/28 [==============================] - 0s 13ms/step - loss: 0.3320 - accuracy: 0.8617\n",
      "Epoch 18/30\n",
      "28/28 [==============================] - 0s 14ms/step - loss: 0.3140 - accuracy: 0.8639\n",
      "Epoch 19/30\n",
      "28/28 [==============================] - 0s 16ms/step - loss: 0.3344 - accuracy: 0.8594\n",
      "Epoch 20/30\n",
      "28/28 [==============================] - 0s 16ms/step - loss: 0.2948 - accuracy: 0.8741\n",
      "Epoch 21/30\n",
      "28/28 [==============================] - 0s 15ms/step - loss: 0.2951 - accuracy: 0.8787\n",
      "Epoch 22/30\n",
      "28/28 [==============================] - 0s 13ms/step - loss: 0.2654 - accuracy: 0.9002\n",
      "Epoch 23/30\n",
      "28/28 [==============================] - 0s 14ms/step - loss: 0.2244 - accuracy: 0.9252\n",
      "Epoch 24/30\n",
      "28/28 [==============================] - 0s 14ms/step - loss: 0.2113 - accuracy: 0.9184\n",
      "Epoch 25/30\n",
      "28/28 [==============================] - 0s 12ms/step - loss: 0.2052 - accuracy: 0.9342\n",
      "Epoch 26/30\n",
      "28/28 [==============================] - 0s 14ms/step - loss: 0.2372 - accuracy: 0.9206\n",
      "Epoch 27/30\n",
      "28/28 [==============================] - 0s 13ms/step - loss: 0.2313 - accuracy: 0.9150\n",
      "Epoch 28/30\n",
      "28/28 [==============================] - 0s 14ms/step - loss: 0.2035 - accuracy: 0.9184\n",
      "Epoch 29/30\n",
      "28/28 [==============================] - 0s 14ms/step - loss: 0.1894 - accuracy: 0.9410\n",
      "Epoch 30/30\n",
      "28/28 [==============================] - 0s 13ms/step - loss: 0.2875 - accuracy: 0.8855\n"
     ]
    }
   ],
   "source": [
    "history = model.fit(X_binary_std, np.array(labels_b), epochs=num_epochs)"
   ]
  }
 ],
 "metadata": {
  "interpreter": {
   "hash": "57d46a1f3f975f92cc34d815bf69a7d3644582cc16f1cedc66cb95f17202c91e"
  },
  "kernelspec": {
   "display_name": "Python 3.8.5 64-bit ('Master': conda)",
   "name": "python3"
  },
  "language_info": {
   "codemirror_mode": {
    "name": "ipython",
    "version": 3
   },
   "file_extension": ".py",
   "mimetype": "text/x-python",
   "name": "python",
   "nbconvert_exporter": "python",
   "pygments_lexer": "ipython3",
   "version": "3.8.5"
  },
  "orig_nbformat": 4
 },
 "nbformat": 4,
 "nbformat_minor": 2
}