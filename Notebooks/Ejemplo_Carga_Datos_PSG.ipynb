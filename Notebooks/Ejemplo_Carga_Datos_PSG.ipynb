{
 "cells": [
  {
   "cell_type": "code",
   "execution_count": 73,
   "source": [
    "# Al cargar los archivos salen algunas warnings que indican las anotaciones\n",
    "# equivocadas. Las podemos omitir la libreria warnings.\n",
    "import warnings\n",
    "warnings.filterwarnings(\"ignore\", category=RuntimeWarning) \n",
    "\n",
    "import numpy as np\n",
    "import matplotlib.pyplot as plt\n",
    "import mne"
   ],
   "outputs": [],
   "metadata": {}
  },
  {
   "cell_type": "code",
   "execution_count": 74,
   "source": [
    "path = \"/media/usbdisk/data/ProyectoPSG/data/PSG1.edf\""
   ],
   "outputs": [],
   "metadata": {}
  },
  {
   "cell_type": "markdown",
   "source": [
    "# Carga de los datos utilizando la librería MNE\n",
    "\n",
    "Los archivos de PoliSomnoGrama se nos dan en formato `.edf`, un formato médico especial que almacena las señales junto con más información como la frecuencia de muestreo, las anotaciones de los especialistas, etc. Para poder cargarlo tenemos que utilizar la librería `mne`."
   ],
   "metadata": {}
  },
  {
   "cell_type": "code",
   "execution_count": 75,
   "source": [
    "raw_data = mne.io.read_raw_edf(path)\n",
    "raw_data"
   ],
   "outputs": [
    {
     "output_type": "stream",
     "name": "stdout",
     "text": [
      "Extracting EDF parameters from /media/usbdisk/data/ProyectoPSG/data/PSG1.edf...\n",
      "EDF file detected\n",
      "Setting channel info structure...\n",
      "Creating raw.info structure...\n"
     ]
    },
    {
     "output_type": "execute_result",
     "data": {
      "text/html": [
       "\n",
       "\n",
       "<table class=\"table table-hover\">\n",
       "    <tr>\n",
       "        <th>Measurement date</th>\n",
       "        <td>January 01, 2020  22:21:19 GMT</td>\n",
       "        \n",
       "    </tr>\n",
       "    <tr>\n",
       "        <th>Experimenter</th>\n",
       "<td>Unknown</td>\n",
       "    </tr>\n",
       "        <th>Participant</th>\n",
       "<td>Unknown</td>\n",
       "    </tr>\n",
       "    <tr>\n",
       "        <th>Digitized points</th>\n",
       "        <td>Not available</td>\n",
       "    </tr>\n",
       "    <tr>\n",
       "        <th>Good channels</th>\n",
       "        <td>0 magnetometer, 0 gradiometer,\n",
       "            and 50 EEG channels</td>\n",
       "    </tr>\n",
       "    <tr>\n",
       "        <th>Bad channels</th>\n",
       "        <td></td>\n",
       "        \n",
       "    </tr>\n",
       "    <tr>\n",
       "        <th>EOG channels</th>\n",
       "        <td>Not available</td>\n",
       "    </tr>\n",
       "    <tr>\n",
       "        <th>ECG channels</th>\n",
       "        <td>Not available</td>\n",
       "    <tr>\n",
       "        <th>Sampling frequency</th>\n",
       "        <td>512.00 Hz</td>\n",
       "    </tr>\n",
       "    <tr>\n",
       "        <th>Highpass</th>\n",
       "        <td>0.00 Hz</td>\n",
       "    </tr>\n",
       "     <tr>\n",
       "        <th>Lowpass</th>\n",
       "        <td>256.00 Hz</td>\n",
       "    </tr>\n",
       "\n",
       "    <tr>\n",
       "        <th>Filenames</th>\n",
       "        <td>PSG1.edf</td>\n",
       "    </tr>\n",
       "    <tr>\n",
       "        <th>Duration</th>\n",
       "        <td>07:21:42 (HH:MM:SS)</td>\n",
       "    </tr>\n",
       "</table>\n"
      ],
      "text/plain": [
       "<RawEDF | PSG1.edf, 50 x 13569536 (26503.0 s), ~51 kB, data not loaded>"
      ]
     },
     "metadata": {},
     "execution_count": 75
    }
   ],
   "metadata": {}
  },
  {
   "cell_type": "markdown",
   "source": [
    "Como podemos comprobar, esta función nos devuelve un objeto propio de la libreria que contiene mucha información. Wste objeto se puede indexar para obtener los datos, pero como podemos ver, no tienen la forma que podríamos esperar."
   ],
   "metadata": {}
  },
  {
   "cell_type": "code",
   "execution_count": 76,
   "source": [
    "type(raw_data)"
   ],
   "outputs": [
    {
     "output_type": "execute_result",
     "data": {
      "text/plain": [
       "mne.io.edf.edf.RawEDF"
      ]
     },
     "metadata": {},
     "execution_count": 76
    }
   ],
   "metadata": {}
  },
  {
   "cell_type": "code",
   "execution_count": 77,
   "source": [
    "a,b = raw_data[0]\n",
    "a.shape, b.shape"
   ],
   "outputs": [
    {
     "output_type": "execute_result",
     "data": {
      "text/plain": [
       "((1, 13569536), (13569536,))"
      ]
     },
     "metadata": {},
     "execution_count": 77
    }
   ],
   "metadata": {}
  },
  {
   "cell_type": "markdown",
   "source": [
    "## Anotaciones\n",
    "\n",
    "Lo más especial de este tipo de datos es que incluyen anotaciones médicas. Podemos acceder a ellas mediante el atributo `.annotations`, y al igual que antes, podemos indexarlas para ver la información:"
   ],
   "metadata": {}
  },
  {
   "cell_type": "code",
   "execution_count": 78,
   "source": [
    "raw_data.annotations"
   ],
   "outputs": [
    {
     "output_type": "execute_result",
     "data": {
      "text/plain": [
       "<Annotations | 3038 segments: EEG arousal (19), Hypopnea (23), Impedance ...>"
      ]
     },
     "metadata": {},
     "execution_count": 78
    }
   ],
   "metadata": {}
  },
  {
   "cell_type": "markdown",
   "source": [
    "Como se puede ver, contienen toda la información necesaria para trocear la señal original:\n",
    "\n",
    "- `'onset'` indica el tiempo en el que comienza la época.\n",
    "- `'duration'` indica la duración.\n",
    "- `'description'` indica la etiqueta que le han puesto los médicos.\n",
    "- `'orig_time'` indica la fecha en la que se toma ese registro."
   ],
   "metadata": {}
  },
  {
   "cell_type": "code",
   "execution_count": 79,
   "source": [
    "raw_data.annotations[80]"
   ],
   "outputs": [
    {
     "output_type": "execute_result",
     "data": {
      "text/plain": [
       "OrderedDict([('onset', 1920.0),\n",
       "             ('duration', 30.0),\n",
       "             ('description', 'Sleep stage N2'),\n",
       "             ('orig_time',\n",
       "              datetime.datetime(2020, 1, 1, 22, 21, 19, tzinfo=datetime.timezone.utc))])"
      ]
     },
     "metadata": {},
     "execution_count": 79
    }
   ],
   "metadata": {}
  },
  {
   "cell_type": "markdown",
   "source": [
    "Podemos obtener las diferentes etiquetas y sus cantidades si iteramos sobre este objeto:"
   ],
   "metadata": {}
  },
  {
   "cell_type": "code",
   "execution_count": 80,
   "source": [
    "etiquetas = []\n",
    "for ann in raw_data.annotations:\n",
    "    etiquetas.append(ann['description'])"
   ],
   "outputs": [],
   "metadata": {}
  },
  {
   "cell_type": "code",
   "execution_count": 81,
   "source": [
    "from collections import Counter"
   ],
   "outputs": [],
   "metadata": {}
  },
  {
   "cell_type": "code",
   "execution_count": 82,
   "source": [
    "Counter(etiquetas)"
   ],
   "outputs": [
    {
     "output_type": "execute_result",
     "data": {
      "text/plain": [
       "Counter({'Montage:PR, Ref': 2,\n",
       "         'Start Recording': 1,\n",
       "         'Video Recording ON': 1,\n",
       "         'Recording Analyzer - Sleep Events': 1,\n",
       "         'Recording Analyzer - Auto-Staging': 1,\n",
       "         'Recording Analyzer - ECG': 1,\n",
       "         'Recording Analyzer - Data Trends': 1,\n",
       "         'Limb Movement': 103,\n",
       "         'Sleep stage W': 247,\n",
       "         'EEG arousal': 19,\n",
       "         'Lights Off': 1,\n",
       "         'Started Analyzer - Sleep Events': 1,\n",
       "         'Sleep stage N1': 25,\n",
       "         'Sleep stage N2': 317,\n",
       "         'Snoring': 1870,\n",
       "         'Sleep stage N3': 193,\n",
       "         'Hypopnea': 23,\n",
       "         'Oxygen Desaturation': 47,\n",
       "         'Obstructive Apnea': 79,\n",
       "         'Sleep stage R': 101,\n",
       "         'Oximeter Event': 2,\n",
       "         'Pulse Rate Event': 1,\n",
       "         'Impedance at 10 kOhm': 1})"
      ]
     },
     "metadata": {},
     "execution_count": 82
    }
   ],
   "metadata": {}
  },
  {
   "cell_type": "markdown",
   "source": [
    "## Transformación de los datos en épocas\n",
    "\n",
    "El estudio de este tipo de datos se realiza en periodos de 30s que se etiquetan según un criterio médico. Cada uno de estos periodos se llama **Época**. Ya hemos visto que el archivo que hemos cargado tiene incluída también la información de estas etiquetas, así que la podemos aprovechar para transformar nuestros datos.\n",
    "\n",
    "Como se puede ver en la función siguiente, este proceso tiene varias partes:\n",
    "\n",
    "- Extraemos los diferentes eventos a partir de las anotaciones de los datos. Podemos utilizar expresiones regulares para quedarnos solamente con las fases del sueño que nos interesan. Esto es importante porque en el archivo se recogen muchas más fases de las que necesitamos y ocupan mucho espacio en memoria.\n",
    "- `mne.Epochs` trocea la señal original según le indican los eventos. Nos permite elegir los canales que queremos utilizar. Si queremos utilizarlos todos basta con no poner nada."
   ],
   "metadata": {}
  },
  {
   "cell_type": "code",
   "execution_count": 83,
   "source": [
    "def get_epochs(data, channels=None):\n",
    "        sampling_rate = data.info['sfreq']\n",
    "        events, events_id = mne.events_from_annotations(data, regexp='Sleep stage [A-Z]\\d*')\n",
    "\n",
    "        tmax = 30. - 1. / sampling_rate  # tmax is included\n",
    "        epochs = mne.Epochs(raw=data, \n",
    "                            events=events,\n",
    "                            event_id=events_id,\n",
    "                            tmin=0., \n",
    "                            tmax=tmax, \n",
    "                            baseline=None, \n",
    "                            event_repeated='merge',\n",
    "                            picks=channels)\n",
    "\n",
    "        epochs.drop_bad()\n",
    "        return epochs, sampling_rate"
   ],
   "outputs": [],
   "metadata": {}
  },
  {
   "cell_type": "code",
   "execution_count": 84,
   "source": [
    "epochs, sr = get_epochs(raw_data)"
   ],
   "outputs": [
    {
     "output_type": "stream",
     "name": "stdout",
     "text": [
      "Used Annotations descriptions: ['Sleep stage N1', 'Sleep stage N2', 'Sleep stage N3', 'Sleep stage R', 'Sleep stage W']\n",
      "Not setting metadata\n",
      "Not setting metadata\n",
      "883 matching events found\n",
      "No baseline correction applied\n",
      "0 projection items activated\n",
      "Loading data for 883 events and 15360 original time points ...\n",
      "1 bad epochs dropped\n"
     ]
    }
   ],
   "metadata": {}
  },
  {
   "cell_type": "markdown",
   "source": [
    "La particularidad que tienen estas épocas es que no se pueden indexar como hacíamos antes para obtener los datos, si no que tendremos que utilizar el método `.get_data()`. Hay que notar que como este tipo de datos ocupa mucho especio, los datos de cada época se cargan cuando llamamos a este método. Podemos ver que las dimensiones que tiene cada época son `(1, Canales, Puntos por canal)`. (En realidad el primer número corresponde al número de épocas, pero como solo accedemos a una época obtenemos un 1, también se puede hacer `.get_data()` sobre el objeto completo para cargarlo entero en memoria a la vez)."
   ],
   "metadata": {}
  },
  {
   "cell_type": "code",
   "execution_count": 85,
   "source": [
    "epochs[0].get_data().shape"
   ],
   "outputs": [
    {
     "output_type": "stream",
     "name": "stdout",
     "text": [
      "Loading data for 1 events and 15360 original time points ...\n"
     ]
    },
    {
     "output_type": "execute_result",
     "data": {
      "text/plain": [
       "(1, 50, 15360)"
      ]
     },
     "metadata": {},
     "execution_count": 85
    }
   ],
   "metadata": {}
  },
  {
   "cell_type": "markdown",
   "source": [
    "Como no podía ser de otra manera, este objeto también almacena las etiquetas correspondientes a cada época. Por una parte tenemos el atributo `.events` que contiene las etiquetas codificadas en la última dimensión, mientras que en `.event_id` encontramos un diccionario que nos mapea estas etiquetas codificadas con su etiqueta original:"
   ],
   "metadata": {}
  },
  {
   "cell_type": "code",
   "execution_count": 86,
   "source": [
    "epochs.events"
   ],
   "outputs": [
    {
     "output_type": "execute_result",
     "data": {
      "text/plain": [
       "array([[   15360,        0,        5],\n",
       "       [   30720,        0,        5],\n",
       "       [   46080,        0,        5],\n",
       "       ...,\n",
       "       [13516800,        0,        5],\n",
       "       [13532160,        0,        5],\n",
       "       [13547520,        0,        5]])"
      ]
     },
     "metadata": {},
     "execution_count": 86
    }
   ],
   "metadata": {}
  },
  {
   "cell_type": "code",
   "execution_count": 87,
   "source": [
    "epochs.event_id"
   ],
   "outputs": [
    {
     "output_type": "execute_result",
     "data": {
      "text/plain": [
       "{'Sleep stage N1': 1,\n",
       " 'Sleep stage N2': 2,\n",
       " 'Sleep stage N3': 3,\n",
       " 'Sleep stage R': 4,\n",
       " 'Sleep stage W': 5}"
      ]
     },
     "metadata": {},
     "execution_count": 87
    }
   ],
   "metadata": {}
  },
  {
   "cell_type": "markdown",
   "source": [
    "# Pasando a NumPy Array para el análisis\n",
    "\n",
    "Finalmente podemos obtener un `array` completo con nuestros datos y otro con nuestras `etiquetas` para realizar el análisis correspondiente:"
   ],
   "metadata": {}
  },
  {
   "cell_type": "code",
   "execution_count": 88,
   "source": [
    "X = epochs.get_data()\n",
    "Y = epochs.events[:,-1]\n",
    "X.shape, Y.shape"
   ],
   "outputs": [
    {
     "output_type": "stream",
     "name": "stdout",
     "text": [
      "Loading data for 882 events and 15360 original time points ...\n"
     ]
    },
    {
     "output_type": "execute_result",
     "data": {
      "text/plain": [
       "((882, 50, 15360), (882,))"
      ]
     },
     "metadata": {},
     "execution_count": 88
    }
   ],
   "metadata": {}
  },
  {
   "cell_type": "markdown",
   "source": [
    "## Realizando operaciones entre canales\n",
    "\n",
    "Hay que tener en cuenta que los médicos que realizan el etiquetado de los PoliSomnoGramas no ven los datos tal cual los hemos importado. Ellos solamente utilizan 9 canales y, además, realizan operaciones de referenciación entre ellos. Para facilitar este análisis y optimizar el uso de memoria podemos volver a cargar los datos pero utilizando únicamente los canales que necesitamos:"
   ],
   "metadata": {}
  },
  {
   "cell_type": "code",
   "execution_count": 89,
   "source": [
    "channels = [\"C3\", \"C4\", \"A1\", \"A2\", \"O1\", \"O2\", \"LOC\", \"ROC\", \"LAT1\", \"LAT2\", \"ECGL\", \"ECGR\", \"CHIN1\", \"CHIN2\"]"
   ],
   "outputs": [],
   "metadata": {}
  },
  {
   "cell_type": "code",
   "execution_count": 90,
   "source": [
    "epochs, sr = get_epochs(raw_data, channels=channels)"
   ],
   "outputs": [
    {
     "output_type": "stream",
     "name": "stdout",
     "text": [
      "Used Annotations descriptions: ['Sleep stage N1', 'Sleep stage N2', 'Sleep stage N3', 'Sleep stage R', 'Sleep stage W']\n",
      "Not setting metadata\n",
      "Not setting metadata\n",
      "883 matching events found\n",
      "No baseline correction applied\n",
      "0 projection items activated\n",
      "Loading data for 883 events and 15360 original time points ...\n",
      "1 bad epochs dropped\n"
     ]
    }
   ],
   "metadata": {}
  },
  {
   "cell_type": "markdown",
   "source": [
    "Las operaciones de referenciación que utilizan son:\n",
    "$$ C3 - \\frac{A1+A2}{2} $$\n",
    "$$ C4 - \\frac{A1+A2}{2} $$\n",
    "$$ 01 - \\frac{A1+A2}{2} $$\n",
    "$$ 02 - \\frac{A1+A2}{2} $$\n",
    "$$ LOC - A2 $$\n",
    "$$ ROC - A1 $$\n",
    "$$ LAT1 - LAT2 $$\n",
    "$$ ECGL - ECGR $$\n",
    "$$ CHIN1 - CHIN2 $$"
   ],
   "metadata": {}
  },
  {
   "cell_type": "markdown",
   "source": [
    "Aunque son bastantes operaciones, son fáciles de hacer una vez tenemos los datos en formato `array`."
   ],
   "metadata": {}
  },
  {
   "cell_type": "code",
   "execution_count": 91,
   "source": [
    "X = epochs.get_data()\n",
    "Y = epochs.events[:,-1]\n",
    "X.shape, Y.shape"
   ],
   "outputs": [
    {
     "output_type": "stream",
     "name": "stdout",
     "text": [
      "Loading data for 882 events and 15360 original time points ...\n"
     ]
    },
    {
     "output_type": "execute_result",
     "data": {
      "text/plain": [
       "((882, 14, 15360), (882,))"
      ]
     },
     "metadata": {},
     "execution_count": 91
    }
   ],
   "metadata": {}
  },
  {
   "cell_type": "markdown",
   "source": [
    "Podemos construir un diccionario que haga nuestro código mucho más legible para hacer estas operaciones:"
   ],
   "metadata": {}
  },
  {
   "cell_type": "code",
   "execution_count": 92,
   "source": [
    "# Aplicamos expand_dims para no perder la dimensión correspondiente a los canales\n",
    "data = {ch:np.expand_dims(X[:,i,:],1) for i, ch in enumerate(channels)}"
   ],
   "outputs": [],
   "metadata": {}
  },
  {
   "cell_type": "code",
   "execution_count": 93,
   "source": [
    "channel1 = data[\"C3\"] - (data[\"A1\"]+data[\"A2\"])/2\n",
    "channel2 = data[\"C4\"] - (data[\"A1\"]+data[\"A2\"])/2\n",
    "channel3 = data[\"O1\"] - (data[\"A1\"]+data[\"A2\"])/2\n",
    "channel4 = data[\"O2\"] - (data[\"A1\"]+data[\"A2\"])/2\n",
    "channel5 = data[\"LOC\"] - data[\"A2\"]\n",
    "channel6 = data[\"ROC\"] - data[\"A1\"]\n",
    "channel7 = data[\"LAT1\"] - data[\"LAT2\"]\n",
    "channel8 = data[\"ECGL\"] - data[\"ECGR\"]\n",
    "channel9 = data[\"CHIN1\"] - data[\"CHIN2\"]"
   ],
   "outputs": [],
   "metadata": {}
  },
  {
   "cell_type": "code",
   "execution_count": 94,
   "source": [
    "X = np.concatenate([channel1, channel2, channel3, channel4, channel5, channel6, channel7, channel8, channel9],1)\n",
    "X.shape"
   ],
   "outputs": [
    {
     "output_type": "execute_result",
     "data": {
      "text/plain": [
       "(882, 9, 15360)"
      ]
     },
     "metadata": {},
     "execution_count": 94
    }
   ],
   "metadata": {}
  }
 ],
 "metadata": {
  "orig_nbformat": 4,
  "language_info": {
   "name": "python",
   "version": "3.8.5",
   "mimetype": "text/x-python",
   "codemirror_mode": {
    "name": "ipython",
    "version": 3
   },
   "pygments_lexer": "ipython3",
   "nbconvert_exporter": "python",
   "file_extension": ".py"
  },
  "kernelspec": {
   "name": "python3",
   "display_name": "Python 3.8.5 64-bit ('ssd': conda)"
  },
  "interpreter": {
   "hash": "19dfd1d083436ef0c94dc83e82858078ce2d17debee98da79a4ad2d0556f4e62"
  }
 },
 "nbformat": 4,
 "nbformat_minor": 2
}