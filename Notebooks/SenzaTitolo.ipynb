{
  "nbformat": 4,
  "nbformat_minor": 0,
  "metadata": {
    "colab": {
      "name": "SenzaTitolo",
      "provenance": [],
      "collapsed_sections": []
    },
    "kernelspec": {
      "display_name": "Python 3",
      "name": "python3"
    },
    "language_info": {
      "name": "python"
    }
  },
  "cells": [
    {
      "cell_type": "markdown",
      "metadata": {
        "id": "3JsE0gO3F203"
      },
      "source": [
        "`` https://mne.tools/stable/auto_tutorials/sample-datasets/plot_sleep.html#sphx-glr-auto-tutorials-sample-datasets-plot-sleep-py = https://mne.tools/dev/auto_tutorials/sample-datasets/plot_sleep.html#sphx-glr-auto-tutorials-sample-datasets-plot-sleep-py ``"
      ]
    },
    {
      "cell_type": "markdown",
      "metadata": {
        "id": "sZ24PZjPM7_2"
      },
      "source": [
        "`https://pyedflib.readthedocs.io/en/latest/ref/edfreader.html`"
      ]
    },
    {
      "cell_type": "code",
      "metadata": {
        "colab": {
          "base_uri": "https://localhost:8080/"
        },
        "id": "IUyBB9-5NNcw",
        "outputId": "642c6728-f7ea-4309-efeb-2850526e7aff"
      },
      "source": [
        "!pip install mne\n",
        "import mne"
      ],
      "execution_count": null,
      "outputs": [
        {
          "output_type": "stream",
          "text": [
            "Collecting mne\n",
            "\u001b[?25l  Downloading https://files.pythonhosted.org/packages/60/f7/2bf5de3fad42b66d00ee27539bc3be0260b4e66fdecc12f740cdf2daf2e7/mne-0.23.0-py3-none-any.whl (6.9MB)\n",
            "\u001b[K     |████████████████████████████████| 7.0MB 4.8MB/s \n",
            "\u001b[?25hRequirement already satisfied: scipy>=1.1.0 in /usr/local/lib/python3.7/dist-packages (from mne) (1.4.1)\n",
            "Requirement already satisfied: numpy>=1.15.4 in /usr/local/lib/python3.7/dist-packages (from mne) (1.19.5)\n",
            "Installing collected packages: mne\n",
            "Successfully installed mne-0.23.0\n"
          ],
          "name": "stdout"
        }
      ]
    },
    {
      "cell_type": "code",
      "metadata": {
        "id": "gBQGznjG96fO"
      },
      "source": [
        "import matplotlib.pyplot as plt\n",
        "import numpy as np\n",
        "import pandas as pd"
      ],
      "execution_count": null,
      "outputs": []
    },
    {
      "cell_type": "code",
      "metadata": {
        "colab": {
          "base_uri": "https://localhost:8080/"
        },
        "id": "gW4zJMNYetDF",
        "outputId": "09e3a652-de43-4f46-d615-a702bb513ddb"
      },
      "source": [
        "%cd /content/drive/MyDrive/Colab Notebooks/TFM"
      ],
      "execution_count": null,
      "outputs": [
        {
          "output_type": "stream",
          "text": [
            "/content/drive/MyDrive/Colab Notebooks/TFM\n"
          ],
          "name": "stdout"
        }
      ]
    },
    {
      "cell_type": "code",
      "metadata": {
        "colab": {
          "base_uri": "https://localhost:8080/"
        },
        "id": "Fvi8Gkzkf07q",
        "outputId": "cf0524f4-3cea-4adf-b12f-c8d7346aabeb"
      },
      "source": [
        "%ls"
      ],
      "execution_count": null,
      "outputs": [
        {
          "output_type": "stream",
          "text": [
            " 10_epochs_overview.ipynb   notes.txt           PSG2_ann.csv\n",
            " 60_sleep.ipynb            'PROJECTE PSG.pdf'   PSG2.edf\n",
            "'Copia di Untitled'         PSG1_ann.csv        test_generator_2.edf\n",
            " edf_file.edf               PSG1_ann.gsheet     Untitled\n",
            "'lectura fases sueño.pdf'   PSG1.edf\n"
          ],
          "name": "stdout"
        }
      ]
    },
    {
      "cell_type": "code",
      "metadata": {
        "colab": {
          "base_uri": "https://localhost:8080/"
        },
        "id": "PAgT4LfHNOpn",
        "outputId": "891104c7-2978-4b53-997c-64cb412b77c6"
      },
      "source": [
        "# files = ['PSG1.edf', 'PSG2.edf']\n",
        "# for f in files:\n",
        "  # data = mne.io.read_raw_edf(f)\n",
        "  # raw_data = data.get_data()\n",
        "\n",
        "file = \"PSG1.edf\"\n",
        "data = mne.io.read_raw_edf(file) # 13569536\n",
        "raw_data = data.get_data() # 50 x 13569536"
      ],
      "execution_count": null,
      "outputs": [
        {
          "output_type": "stream",
          "text": [
            "Extracting EDF parameters from /content/drive/MyDrive/Colab Notebooks/TFM/PSG1.edf...\n",
            "EDF file detected\n",
            "Setting channel info structure...\n",
            "Creating raw.info structure...\n"
          ],
          "name": "stdout"
        },
        {
          "output_type": "stream",
          "text": [
            "<ipython-input-5-8bed9ec4d111>:7: RuntimeWarning: Omitted 3 annotation(s) that were outside data range.\n",
            "  data = mne.io.read_raw_edf(file) # 13569536\n",
            "<ipython-input-5-8bed9ec4d111>:7: RuntimeWarning: Limited 1 annotation(s) that were expanding outside the data range.\n",
            "  data = mne.io.read_raw_edf(file) # 13569536\n"
          ],
          "name": "stderr"
        }
      ]
    },
    {
      "cell_type": "code",
      "metadata": {
        "id": "d78GgPPFAWPt"
      },
      "source": [
        "# file2 = \"PSG2.edf\"\n",
        "# data2 = mne.io.read_raw_edf(file2) # 12939776\n",
        "# raw_data2 = data2.get_data() # 50 x 12939776 "
      ],
      "execution_count": null,
      "outputs": []
    },
    {
      "cell_type": "code",
      "metadata": {
        "id": "aKtphnUh_imv"
      },
      "source": [
        "# raw_data_tot = np.concatenate(raw_data, raw_data2)\n",
        "info = data.info\n",
        "channels = data.ch_names"
      ],
      "execution_count": null,
      "outputs": []
    },
    {
      "cell_type": "code",
      "metadata": {
        "id": "sXtqDHhPA5a1"
      },
      "source": [
        "annot_train = mne.read_annotations(file) # data.annotations # PSG1_ann.csv # 3041 # annot_train[0]['onset']"
      ],
      "execution_count": null,
      "outputs": []
    },
    {
      "cell_type": "code",
      "metadata": {
        "id": "aVdcziRDlBu5"
      },
      "source": [
        "sleep_stages_targets = ['Sleep stage N1', 'Sleep stage N2', 'Sleep stage N3', 'Sleep stage W', 'Sleep stage R']\n",
        "indices =[index for index, item in enumerate(annot_train) if item['description'] in sleep_stages_targets] # 884\n",
        "annotation_train_indexed = annot_train[indices] \n",
        "labels = annotation_train_indexed.to_data_frame()['description'].to_numpy()"
      ],
      "execution_count": null,
      "outputs": []
    },
    {
      "cell_type": "code",
      "metadata": {
        "id": "W4TaN6aDNeJw"
      },
      "source": [
        "onsets = [] \n",
        "for i in annotation_train_indexed:\n",
        "  onsets.append(i['onset']) "
      ],
      "execution_count": null,
      "outputs": []
    },
    {
      "cell_type": "code",
      "metadata": {
        "id": "78hfj5Epp_VX"
      },
      "source": [
        "signals_queued = [] # 44200 items\n",
        "t_epoch = 30 # s\n",
        "for o in map(int, onsets):\n",
        "  for c in range(len(channels)):\n",
        "    signals_queued.append(raw_data[c][o:o+t_epoch])"
      ],
      "execution_count": null,
      "outputs": []
    },
    {
      "cell_type": "code",
      "metadata": {
        "id": "EXU_yazc55jP"
      },
      "source": [
        "signals = [] # 884\n",
        "n_channels = len(channels)\n",
        "for i in range(0,len(signals_queued),n_channels):\n",
        "  signals.append(signals_queued[i:i+n_channels])"
      ],
      "execution_count": null,
      "outputs": []
    },
    {
      "cell_type": "code",
      "metadata": {
        "id": "NPwZshwm5Wpv"
      },
      "source": [
        "df = pd.DataFrame(data={'signals': signals}) \n",
        "df['labels']=annotation_train_indexed.to_data_frame()['description']"
      ],
      "execution_count": null,
      "outputs": []
    },
    {
      "cell_type": "code",
      "metadata": {
        "colab": {
          "base_uri": "https://localhost:8080/",
          "height": 424
        },
        "id": "qSC98y3J95hC",
        "outputId": "c08b72c9-ed40-4439-bed0-1e2af905e869"
      },
      "source": [
        "df"
      ],
      "execution_count": null,
      "outputs": [
        {
          "output_type": "execute_result",
          "data": {
            "text/html": [
              "<div>\n",
              "<style scoped>\n",
              "    .dataframe tbody tr th:only-of-type {\n",
              "        vertical-align: middle;\n",
              "    }\n",
              "\n",
              "    .dataframe tbody tr th {\n",
              "        vertical-align: top;\n",
              "    }\n",
              "\n",
              "    .dataframe thead th {\n",
              "        text-align: right;\n",
              "    }\n",
              "</style>\n",
              "<table border=\"1\" class=\"dataframe\">\n",
              "  <thead>\n",
              "    <tr style=\"text-align: right;\">\n",
              "      <th></th>\n",
              "      <th>signals</th>\n",
              "      <th>labels</th>\n",
              "    </tr>\n",
              "  </thead>\n",
              "  <tbody>\n",
              "    <tr>\n",
              "      <th>0</th>\n",
              "      <td>[[-0.010799999999999999, -0.010799999999999999...</td>\n",
              "      <td>Sleep stage W</td>\n",
              "    </tr>\n",
              "    <tr>\n",
              "      <th>1</th>\n",
              "      <td>[[-0.010799999999999999, -0.010799999999999999...</td>\n",
              "      <td>Sleep stage W</td>\n",
              "    </tr>\n",
              "    <tr>\n",
              "      <th>2</th>\n",
              "      <td>[[-0.010799999999999999, -0.010799999999999999...</td>\n",
              "      <td>Sleep stage W</td>\n",
              "    </tr>\n",
              "    <tr>\n",
              "      <th>3</th>\n",
              "      <td>[[-0.010799999999999999, -0.010799999999999999...</td>\n",
              "      <td>Sleep stage W</td>\n",
              "    </tr>\n",
              "    <tr>\n",
              "      <th>4</th>\n",
              "      <td>[[-0.010799999999999999, -0.010799999999999999...</td>\n",
              "      <td>Sleep stage W</td>\n",
              "    </tr>\n",
              "    <tr>\n",
              "      <th>...</th>\n",
              "      <td>...</td>\n",
              "      <td>...</td>\n",
              "    </tr>\n",
              "    <tr>\n",
              "      <th>879</th>\n",
              "      <td>[[-0.00017781643396658255, -0.0001722133211261...</td>\n",
              "      <td>Sleep stage W</td>\n",
              "    </tr>\n",
              "    <tr>\n",
              "      <th>880</th>\n",
              "      <td>[[-0.00017023575188830376, -0.0001603479056992...</td>\n",
              "      <td>Sleep stage W</td>\n",
              "    </tr>\n",
              "    <tr>\n",
              "      <th>881</th>\n",
              "      <td>[[-0.00012771801327534886, -0.0001053055619134...</td>\n",
              "      <td>Sleep stage W</td>\n",
              "    </tr>\n",
              "    <tr>\n",
              "      <th>882</th>\n",
              "      <td>[[-9.40993362325473e-05, -0.000105305561913481...</td>\n",
              "      <td>Sleep stage W</td>\n",
              "    </tr>\n",
              "    <tr>\n",
              "      <th>883</th>\n",
              "      <td>[[-0.00011684138246738367, -0.0001231036850537...</td>\n",
              "      <td>Sleep stage W</td>\n",
              "    </tr>\n",
              "  </tbody>\n",
              "</table>\n",
              "<p>884 rows × 2 columns</p>\n",
              "</div>"
            ],
            "text/plain": [
              "                                               signals         labels\n",
              "0    [[-0.010799999999999999, -0.010799999999999999...  Sleep stage W\n",
              "1    [[-0.010799999999999999, -0.010799999999999999...  Sleep stage W\n",
              "2    [[-0.010799999999999999, -0.010799999999999999...  Sleep stage W\n",
              "3    [[-0.010799999999999999, -0.010799999999999999...  Sleep stage W\n",
              "4    [[-0.010799999999999999, -0.010799999999999999...  Sleep stage W\n",
              "..                                                 ...            ...\n",
              "879  [[-0.00017781643396658255, -0.0001722133211261...  Sleep stage W\n",
              "880  [[-0.00017023575188830376, -0.0001603479056992...  Sleep stage W\n",
              "881  [[-0.00012771801327534886, -0.0001053055619134...  Sleep stage W\n",
              "882  [[-9.40993362325473e-05, -0.000105305561913481...  Sleep stage W\n",
              "883  [[-0.00011684138246738367, -0.0001231036850537...  Sleep stage W\n",
              "\n",
              "[884 rows x 2 columns]"
            ]
          },
          "metadata": {
            "tags": []
          },
          "execution_count": 14
        }
      ]
    },
    {
      "cell_type": "code",
      "metadata": {
        "id": "E41Hz24qshEa"
      },
      "source": [
        "channels_to_detect = ['O2','LOC']\n",
        "channels_indices = []\n",
        "for c in channels_to_detect:\n",
        "  channels_indices.append(channels.index(c))"
      ],
      "execution_count": null,
      "outputs": []
    },
    {
      "cell_type": "code",
      "metadata": {
        "id": "Mo27TMyCEgl9"
      },
      "source": [
        "signals_O2_and_LOC = []\n",
        " \n",
        "for i in df['signals']:\n",
        "  accessed_mapping = map(i.__getitem__, channels_indices)\n",
        "  signals_O2_and_LOC.append(list(accessed_mapping))"
      ],
      "execution_count": null,
      "outputs": []
    },
    {
      "cell_type": "code",
      "metadata": {
        "colab": {
          "base_uri": "https://localhost:8080/",
          "height": 424
        },
        "id": "FbiSwy8q544b",
        "outputId": "daf5d024-3af5-4257-df49-35b578591608"
      },
      "source": [
        "df_O2_and_LOC = pd.DataFrame(data={'signals': signals_O2_and_LOC})\n",
        "df_O2_and_LOC['labels'] = annotation_train_indexed.to_data_frame()['description']\n",
        " \n",
        "df_O2_and_LOC "
      ],
      "execution_count": null,
      "outputs": [
        {
          "output_type": "execute_result",
          "data": {
            "text/html": [
              "<div>\n",
              "<style scoped>\n",
              "    .dataframe tbody tr th:only-of-type {\n",
              "        vertical-align: middle;\n",
              "    }\n",
              "\n",
              "    .dataframe tbody tr th {\n",
              "        vertical-align: top;\n",
              "    }\n",
              "\n",
              "    .dataframe thead th {\n",
              "        text-align: right;\n",
              "    }\n",
              "</style>\n",
              "<table border=\"1\" class=\"dataframe\">\n",
              "  <thead>\n",
              "    <tr style=\"text-align: right;\">\n",
              "      <th></th>\n",
              "      <th>signals</th>\n",
              "      <th>labels</th>\n",
              "    </tr>\n",
              "  </thead>\n",
              "  <tbody>\n",
              "    <tr>\n",
              "      <th>0</th>\n",
              "      <td>[[-0.0042667704280155636, -0.00426677042801556...</td>\n",
              "      <td>Sleep stage W</td>\n",
              "    </tr>\n",
              "    <tr>\n",
              "      <th>1</th>\n",
              "      <td>[[-0.0042176607919432365, -0.00421930876630807...</td>\n",
              "      <td>Sleep stage W</td>\n",
              "    </tr>\n",
              "    <tr>\n",
              "      <th>2</th>\n",
              "      <td>[[-0.004151741817349508, -0.004155696955825131...</td>\n",
              "      <td>Sleep stage W</td>\n",
              "    </tr>\n",
              "    <tr>\n",
              "      <th>3</th>\n",
              "      <td>[[-0.004116804760814831, -0.004119111924925612...</td>\n",
              "      <td>Sleep stage W</td>\n",
              "    </tr>\n",
              "    <tr>\n",
              "      <th>4</th>\n",
              "      <td>[[-0.004059784847791256, -0.004062751201647974...</td>\n",
              "      <td>Sleep stage W</td>\n",
              "    </tr>\n",
              "    <tr>\n",
              "      <th>...</th>\n",
              "      <td>...</td>\n",
              "      <td>...</td>\n",
              "    </tr>\n",
              "    <tr>\n",
              "      <th>879</th>\n",
              "      <td>[[3.2794689860380116e-05, 4.03753719386589e-05...</td>\n",
              "      <td>Sleep stage W</td>\n",
              "    </tr>\n",
              "    <tr>\n",
              "      <th>880</th>\n",
              "      <td>[[5.0592813000686825e-05, 4.696726939803175e-0...</td>\n",
              "      <td>Sleep stage W</td>\n",
              "    </tr>\n",
              "    <tr>\n",
              "      <th>881</th>\n",
              "      <td>[[1.3678187228198843e-05, 6.427100022888704e-0...</td>\n",
              "      <td>Sleep stage W</td>\n",
              "    </tr>\n",
              "    <tr>\n",
              "      <th>882</th>\n",
              "      <td>[[4.004577706569026e-05, 4.8615243762874965e-0...</td>\n",
              "      <td>Sleep stage W</td>\n",
              "    </tr>\n",
              "    <tr>\n",
              "      <th>883</th>\n",
              "      <td>[[6.937972075989945e-05, 6.707255664911897e-05...</td>\n",
              "      <td>Sleep stage W</td>\n",
              "    </tr>\n",
              "  </tbody>\n",
              "</table>\n",
              "<p>884 rows × 2 columns</p>\n",
              "</div>"
            ],
            "text/plain": [
              "                                               signals         labels\n",
              "0    [[-0.0042667704280155636, -0.00426677042801556...  Sleep stage W\n",
              "1    [[-0.0042176607919432365, -0.00421930876630807...  Sleep stage W\n",
              "2    [[-0.004151741817349508, -0.004155696955825131...  Sleep stage W\n",
              "3    [[-0.004116804760814831, -0.004119111924925612...  Sleep stage W\n",
              "4    [[-0.004059784847791256, -0.004062751201647974...  Sleep stage W\n",
              "..                                                 ...            ...\n",
              "879  [[3.2794689860380116e-05, 4.03753719386589e-05...  Sleep stage W\n",
              "880  [[5.0592813000686825e-05, 4.696726939803175e-0...  Sleep stage W\n",
              "881  [[1.3678187228198843e-05, 6.427100022888704e-0...  Sleep stage W\n",
              "882  [[4.004577706569026e-05, 4.8615243762874965e-0...  Sleep stage W\n",
              "883  [[6.937972075989945e-05, 6.707255664911897e-05...  Sleep stage W\n",
              "\n",
              "[884 rows x 2 columns]"
            ]
          },
          "metadata": {
            "tags": []
          },
          "execution_count": 17
        }
      ]
    },
    {
      "cell_type": "code",
      "metadata": {
        "colab": {
          "base_uri": "https://localhost:8080/"
        },
        "id": "jFS_l2krDQbk",
        "outputId": "6dd05642-77d8-44b0-9045-4048391dbd9a"
      },
      "source": [
        "len(df_O2_and_LOC.iloc[0]['signals'][0])"
      ],
      "execution_count": null,
      "outputs": [
        {
          "output_type": "execute_result",
          "data": {
            "text/plain": [
              "30"
            ]
          },
          "metadata": {
            "tags": []
          },
          "execution_count": 18
        }
      ]
    },
    {
      "cell_type": "code",
      "metadata": {
        "id": "Jwbxo-tVTCkg"
      },
      "source": [
        "# len(segnales) 884 # len(df2['signals'][0]) 50 # len(df2['signals'][0][0]) 30 # signals_total[0:50] == signals[0]\n",
        "\n",
        "# signals_tot = []\n",
        "# for c in range(len(channels)):\n",
        "#   for o in onsets:\n",
        "#     signals_tot.append(raw_data[c][int(o):int(o)+30])"
      ],
      "execution_count": null,
      "outputs": []
    }
  ]
}