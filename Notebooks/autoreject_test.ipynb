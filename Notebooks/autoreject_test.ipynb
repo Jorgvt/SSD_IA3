{
 "cells": [
  {
   "cell_type": "code",
   "execution_count": 1,
   "source": [
    "import os\r\n",
    "from glob import glob\r\n",
    "import warnings\r\n",
    "warnings.filterwarnings(\"ignore\", category=RuntimeWarning) \r\n",
    "\r\n",
    "import numpy as np\r\n",
    "import matplotlib.pyplot as plt\r\n",
    "import pandas as pd\r\n",
    "from tqdm.auto import  tqdm\r\n",
    "\r\n",
    "import mne\r\n",
    "mne.set_log_level(verbose=False)\r\n",
    "\r\n",
    "from Datasets import *\r\n",
    "import utils"
   ],
   "outputs": [],
   "metadata": {}
  },
  {
   "cell_type": "code",
   "execution_count": 2,
   "source": [
    "channels = [\"C3\", \"C4\", \"O1\", \"O2\", \"A1\", \"A2\", \"LOC\", \"ROC\", \"LAT1\", \"LAT2\", \"RAT1\", \"RAT2\", \"CHIN1\", \"CHIN2\"]"
   ],
   "outputs": [],
   "metadata": {}
  },
  {
   "cell_type": "code",
   "execution_count": 27,
   "source": [
    "data = mne.io.read_raw_edf(\"../Data/PSG1.edf\")\r\n",
    "dataset = EDFData(\"../Data/PSG1.edf\", channels=channels)"
   ],
   "outputs": [],
   "metadata": {}
  },
  {
   "cell_type": "code",
   "execution_count": 28,
   "source": [
    "dataset.epochs.set_channel_types({\r\n",
    "    \"LAT1\":\"eog\",\r\n",
    "    \"LAT2\":\"eog\",\r\n",
    "    \"RAT1\":\"eog\",\r\n",
    "    \"RAT2\":\"eog\",\r\n",
    "    \"CHIN1\":\"emg\",\r\n",
    "    \"CHIN2\":\"emg\"\r\n",
    "})"
   ],
   "outputs": [
    {
     "output_type": "execute_result",
     "data": {
      "text/plain": [
       "<Epochs |  882 events (all good), 0 - 29.998 sec, baseline off, ~18 kB, data not loaded,\n",
       " 'Sleep stage N1': 25\n",
       " 'Sleep stage N2': 317\n",
       " 'Sleep stage N3': 193\n",
       " 'Sleep stage R': 101\n",
       " 'Sleep stage W': 246>"
      ],
      "text/html": [
       "\n",
       "<table class=\"table table-hover\">\n",
       "    <tr>\n",
       "        <th>Number of events</th>\n",
       "        <td>882</td>\n",
       "    </tr>\n",
       "    <tr>\n",
       "        <th>Events</th>\n",
       "        <td>Sleep stage N1: 25<br>Sleep stage N2: 317<br>Sleep stage N3: 193<br>Sleep stage R: 101<br>Sleep stage W: 246<br></td>\n",
       "    </tr>\n",
       "    <tr>\n",
       "        <th>Time range</th>\n",
       "        <td>0.000 – 29.998 sec</td>\n",
       "    </tr>\n",
       "    <tr>\n",
       "        <th>Baseline</th>\n",
       "        <td>off</td>\n",
       "    </tr>\n",
       "</table>\n"
      ]
     },
     "metadata": {},
     "execution_count": 28
    }
   ],
   "metadata": {}
  },
  {
   "cell_type": "markdown",
   "source": [
    "## Same threshold for same type channels"
   ],
   "metadata": {}
  },
  {
   "cell_type": "code",
   "execution_count": 5,
   "source": [
    "from autoreject import get_rejection_threshold"
   ],
   "outputs": [],
   "metadata": {}
  },
  {
   "cell_type": "code",
   "execution_count": 6,
   "source": [
    "reject = get_rejection_threshold(dataset.epochs, decim=2)"
   ],
   "outputs": [
    {
     "output_type": "stream",
     "name": "stdout",
     "text": [
      "Estimating rejection dictionary for eeg\n",
      "Estimating rejection dictionary for eog\n"
     ]
    }
   ],
   "metadata": {}
  },
  {
   "cell_type": "code",
   "execution_count": 29,
   "source": [
    "reject"
   ],
   "outputs": [
    {
     "output_type": "execute_result",
     "data": {
      "text/plain": [
       "{'eeg': 0.0008236575875486381, 'eog': 0.0018925337605859463}"
      ]
     },
     "metadata": {},
     "execution_count": 29
    }
   ],
   "metadata": {}
  },
  {
   "cell_type": "code",
   "execution_count": 30,
   "source": [
    "dataset.epochs.drop_bad(reject=reject)\r\n"
   ],
   "outputs": [
    {
     "output_type": "execute_result",
     "data": {
      "text/plain": [
       "<Epochs |  573 events (all good), 0 - 29.998 sec, baseline off, ~18 kB, data not loaded,\n",
       " 'Sleep stage N1': 17\n",
       " 'Sleep stage N2': 240\n",
       " 'Sleep stage N3': 153\n",
       " 'Sleep stage R': 76\n",
       " 'Sleep stage W': 87>"
      ],
      "text/html": [
       "\n",
       "<table class=\"table table-hover\">\n",
       "    <tr>\n",
       "        <th>Number of events</th>\n",
       "        <td>573</td>\n",
       "    </tr>\n",
       "    <tr>\n",
       "        <th>Events</th>\n",
       "        <td>Sleep stage N1: 17<br>Sleep stage N2: 240<br>Sleep stage N3: 153<br>Sleep stage R: 76<br>Sleep stage W: 87<br></td>\n",
       "    </tr>\n",
       "    <tr>\n",
       "        <th>Time range</th>\n",
       "        <td>0.000 – 29.998 sec</td>\n",
       "    </tr>\n",
       "    <tr>\n",
       "        <th>Baseline</th>\n",
       "        <td>off</td>\n",
       "    </tr>\n",
       "</table>\n"
      ]
     },
     "metadata": {},
     "execution_count": 30
    }
   ],
   "metadata": {}
  },
  {
   "cell_type": "code",
   "execution_count": 9,
   "source": [
    "dataset.epochs.plot_drop_log()"
   ],
   "outputs": [
    {
     "output_type": "display_data",
     "data": {
      "text/plain": [
       "<Figure size 432x288 with 1 Axes>"
      ],
      "image/png": "[encoded data removed]"
     },
     "metadata": {
      "needs_background": "light"
     }
    },
    {
     "output_type": "execute_result",
     "data": {
      "text/plain": [
       "<Figure size 432x288 with 1 Axes>"
      ],
      "image/png": "[encoded data removed]"
     },
     "metadata": {},
     "execution_count": 9
    }
   ],
   "metadata": {}
  },
  {
   "cell_type": "markdown",
   "source": [
    "## Threshold per channel"
   ],
   "metadata": {}
  },
  {
   "cell_type": "code",
   "execution_count": 10,
   "source": [
    "from autoreject import compute_thresholds"
   ],
   "outputs": [],
   "metadata": {}
  },
  {
   "cell_type": "code",
   "execution_count": 11,
   "source": [
    "dataset = EDFData(\"../Data/PSG1.edf\", channels=channels)"
   ],
   "outputs": [],
   "metadata": {}
  },
  {
   "cell_type": "code",
   "execution_count": 12,
   "source": [
    "dataset.epochs.set_channel_types({\r\n",
    "    \"LAT1\":\"eog\",\r\n",
    "    \"LAT2\":\"eog\",\r\n",
    "    \"RAT1\":\"eog\",\r\n",
    "    \"RAT2\":\"eog\",\r\n",
    "    \"CHIN1\":\"emg\",\r\n",
    "    \"CHIN2\":\"emg\"\r\n",
    "})"
   ],
   "outputs": [
    {
     "output_type": "execute_result",
     "data": {
      "text/plain": [
       "<Epochs |  882 events (all good), 0 - 29.998 sec, baseline off, ~18 kB, data not loaded,\n",
       " 'Sleep stage N1': 25\n",
       " 'Sleep stage N2': 317\n",
       " 'Sleep stage N3': 193\n",
       " 'Sleep stage R': 101\n",
       " 'Sleep stage W': 246>"
      ],
      "text/html": [
       "\n",
       "<table class=\"table table-hover\">\n",
       "    <tr>\n",
       "        <th>Number of events</th>\n",
       "        <td>882</td>\n",
       "    </tr>\n",
       "    <tr>\n",
       "        <th>Events</th>\n",
       "        <td>Sleep stage N1: 25<br>Sleep stage N2: 317<br>Sleep stage N3: 193<br>Sleep stage R: 101<br>Sleep stage W: 246<br></td>\n",
       "    </tr>\n",
       "    <tr>\n",
       "        <th>Time range</th>\n",
       "        <td>0.000 – 29.998 sec</td>\n",
       "    </tr>\n",
       "    <tr>\n",
       "        <th>Baseline</th>\n",
       "        <td>off</td>\n",
       "    </tr>\n",
       "</table>\n"
      ]
     },
     "metadata": {},
     "execution_count": 12
    }
   ],
   "metadata": {}
  },
  {
   "cell_type": "code",
   "execution_count": 13,
   "source": [
    "dataset.epochs.load_data() # Has to be preloaded"
   ],
   "outputs": [
    {
     "output_type": "execute_result",
     "data": {
      "text/plain": [
       "<Epochs |  882 events (all good), 0 - 29.998 sec, baseline off, ~1.41 GB, data loaded,\n",
       " 'Sleep stage N1': 25\n",
       " 'Sleep stage N2': 317\n",
       " 'Sleep stage N3': 193\n",
       " 'Sleep stage R': 101\n",
       " 'Sleep stage W': 246>"
      ],
      "text/html": [
       "\n",
       "<table class=\"table table-hover\">\n",
       "    <tr>\n",
       "        <th>Number of events</th>\n",
       "        <td>882</td>\n",
       "    </tr>\n",
       "    <tr>\n",
       "        <th>Events</th>\n",
       "        <td>Sleep stage N1: 25<br>Sleep stage N2: 317<br>Sleep stage N3: 193<br>Sleep stage R: 101<br>Sleep stage W: 246<br></td>\n",
       "    </tr>\n",
       "    <tr>\n",
       "        <th>Time range</th>\n",
       "        <td>0.000 – 29.998 sec</td>\n",
       "    </tr>\n",
       "    <tr>\n",
       "        <th>Baseline</th>\n",
       "        <td>off</td>\n",
       "    </tr>\n",
       "</table>\n"
      ]
     },
     "metadata": {},
     "execution_count": 13
    }
   ],
   "metadata": {}
  },
  {
   "cell_type": "code",
   "execution_count": 14,
   "source": [
    "montage = mne.channels.make_standard_montage('standard_alphabetic')\r\n",
    "montage"
   ],
   "outputs": [
    {
     "output_type": "execute_result",
     "data": {
      "text/plain": [
       "<DigMontage | 0 extras (headshape), 0 HPIs, 3 fiducials, 65 channels>"
      ]
     },
     "metadata": {},
     "execution_count": 14
    }
   ],
   "metadata": {}
  },
  {
   "cell_type": "code",
   "execution_count": 15,
   "source": [
    "channels_not_in_montage = [ch for ch in dataset.epochs.ch_names if ch not in montage.ch_names]\r\n",
    "channels_not_in_montage"
   ],
   "outputs": [
    {
     "output_type": "execute_result",
     "data": {
      "text/plain": [
       "['LOC', 'ROC', 'LAT1', 'LAT2', 'RAT1', 'RAT2', 'CHIN1', 'CHIN2']"
      ]
     },
     "metadata": {},
     "execution_count": 15
    }
   ],
   "metadata": {}
  },
  {
   "cell_type": "code",
   "execution_count": 16,
   "source": [
    "## Have to drop the channes that are not present in the montage\r\n",
    "dataset.epochs.drop_channels(channels_not_in_montage)"
   ],
   "outputs": [
    {
     "output_type": "execute_result",
     "data": {
      "text/plain": [
       "<Epochs |  882 events (all good), 0 - 29.998 sec, baseline off, ~620.2 MB, data loaded,\n",
       " 'Sleep stage N1': 25\n",
       " 'Sleep stage N2': 317\n",
       " 'Sleep stage N3': 193\n",
       " 'Sleep stage R': 101\n",
       " 'Sleep stage W': 246>"
      ],
      "text/html": [
       "\n",
       "<table class=\"table table-hover\">\n",
       "    <tr>\n",
       "        <th>Number of events</th>\n",
       "        <td>882</td>\n",
       "    </tr>\n",
       "    <tr>\n",
       "        <th>Events</th>\n",
       "        <td>Sleep stage N1: 25<br>Sleep stage N2: 317<br>Sleep stage N3: 193<br>Sleep stage R: 101<br>Sleep stage W: 246<br></td>\n",
       "    </tr>\n",
       "    <tr>\n",
       "        <th>Time range</th>\n",
       "        <td>0.000 – 29.998 sec</td>\n",
       "    </tr>\n",
       "    <tr>\n",
       "        <th>Baseline</th>\n",
       "        <td>off</td>\n",
       "    </tr>\n",
       "</table>\n"
      ]
     },
     "metadata": {},
     "execution_count": 16
    }
   ],
   "metadata": {}
  },
  {
   "cell_type": "code",
   "execution_count": 17,
   "source": [
    "dataset.epochs.set_montage(montage)"
   ],
   "outputs": [
    {
     "output_type": "execute_result",
     "data": {
      "text/plain": [
       "<Epochs |  882 events (all good), 0 - 29.998 sec, baseline off, ~620.2 MB, data loaded,\n",
       " 'Sleep stage N1': 25\n",
       " 'Sleep stage N2': 317\n",
       " 'Sleep stage N3': 193\n",
       " 'Sleep stage R': 101\n",
       " 'Sleep stage W': 246>"
      ],
      "text/html": [
       "\n",
       "<table class=\"table table-hover\">\n",
       "    <tr>\n",
       "        <th>Number of events</th>\n",
       "        <td>882</td>\n",
       "    </tr>\n",
       "    <tr>\n",
       "        <th>Events</th>\n",
       "        <td>Sleep stage N1: 25<br>Sleep stage N2: 317<br>Sleep stage N3: 193<br>Sleep stage R: 101<br>Sleep stage W: 246<br></td>\n",
       "    </tr>\n",
       "    <tr>\n",
       "        <th>Time range</th>\n",
       "        <td>0.000 – 29.998 sec</td>\n",
       "    </tr>\n",
       "    <tr>\n",
       "        <th>Baseline</th>\n",
       "        <td>off</td>\n",
       "    </tr>\n",
       "</table>\n"
      ]
     },
     "metadata": {},
     "execution_count": 17
    }
   ],
   "metadata": {}
  },
  {
   "cell_type": "code",
   "execution_count": 18,
   "source": [
    "picks = mne.pick_types(dataset.epochs.info, meg=False, eeg=True, stim=False,\r\n",
    "                       eog=False, exclude='bads')\r\n",
    "picks"
   ],
   "outputs": [
    {
     "output_type": "execute_result",
     "data": {
      "text/plain": [
       "array([0, 1, 2, 3, 4, 5])"
      ]
     },
     "metadata": {},
     "execution_count": 18
    }
   ],
   "metadata": {}
  },
  {
   "cell_type": "code",
   "execution_count": 19,
   "source": [
    "# Get a dictionary of rejection thresholds\r\n",
    "threshes = compute_thresholds(dataset.epochs, picks=picks, method='random_search',\r\n",
    "                              random_state=42, augment=False,\r\n",
    "                              verbose='progressbar')"
   ],
   "outputs": [
    {
     "output_type": "stream",
     "name": "stderr",
     "text": [
      "Computing thresholds ...: 100%|██████████| 6/6 [04:03<00:00, 40.55s/it]\n"
     ]
    }
   ],
   "metadata": {}
  },
  {
   "cell_type": "code",
   "execution_count": 20,
   "source": [
    "threshes"
   ],
   "outputs": [
    {
     "output_type": "execute_result",
     "data": {
      "text/plain": [
       "{'C3': 0.000682550879668534,\n",
       " 'C4': 0.0006954571469068374,\n",
       " 'O1': 0.0003097264174410735,\n",
       " 'O2': 0.00029736556164296457,\n",
       " 'A1': 0.0005372412360935214,\n",
       " 'A2': 0.0007219453320870493}"
      ]
     },
     "metadata": {},
     "execution_count": 20
    }
   ],
   "metadata": {}
  },
  {
   "cell_type": "code",
   "execution_count": 21,
   "source": [
    "plt.figure()\r\n",
    "plt.bar(range(len(threshes.keys())), threshes.values())\r\n",
    "plt.xticks(range(len(threshes.keys())), threshes.keys())\r\n",
    "plt.xlabel(\"Channels\")\r\n",
    "plt.ylabel(\"Threshold\")\r\n",
    "plt.show()"
   ],
   "outputs": [
    {
     "output_type": "display_data",
     "data": {
      "text/plain": [
       "<Figure size 432x288 with 1 Axes>"
      ],
      "image/png": "[encoded data removed]"
     },
     "metadata": {
      "needs_background": "light"
     }
    }
   ],
   "metadata": {}
  },
  {
   "cell_type": "code",
   "execution_count": null,
   "source": [],
   "outputs": [],
   "metadata": {}
  },
  {
   "cell_type": "code",
   "execution_count": 25,
   "source": [
    "# dataset.epochs.drop_bad(reject=threshes)"
   ],
   "outputs": [],
   "metadata": {}
  },
  {
   "cell_type": "code",
   "execution_count": 22,
   "source": [
    "# from autoreject import set_matplotlib_defaults\r\n",
    "# set_matplotlib_defaults(plt)\r\n",
    "\r\n",
    "# unit = r'fT/cm'\r\n",
    "# scaling = 1e13\r\n",
    "\r\n",
    "# plt.figure(figsize=(6, 5))\r\n",
    "# plt.tick_params(axis='x', which='both', bottom='off', top='off')\r\n",
    "# plt.tick_params(axis='y', which='both', left='off', right='off')\r\n",
    "\r\n",
    "# plt.hist(scaling * np.array(list(threshes.values())), 30,\r\n",
    "#          color='g', alpha=0.4)\r\n",
    "# plt.xlabel('Threshold (%s)' % unit)\r\n",
    "# plt.ylabel('Number of sensors')\r\n",
    "# plt.xlim((100, 950))\r\n",
    "# plt.tight_layout()\r\n",
    "# plt.show()"
   ],
   "outputs": [],
   "metadata": {}
  }
 ],
 "metadata": {
  "orig_nbformat": 4,
  "language_info": {
   "name": "python",
   "version": "3.8.5",
   "mimetype": "text/x-python",
   "codemirror_mode": {
    "name": "ipython",
    "version": 3
   },
   "pygments_lexer": "ipython3",
   "nbconvert_exporter": "python",
   "file_extension": ".py"
  },
  "kernelspec": {
   "name": "python3",
   "display_name": "Python 3.8.5 64-bit ('Master': conda)"
  },
  "interpreter": {
   "hash": "57d46a1f3f975f92cc34d815bf69a7d3644582cc16f1cedc66cb95f17202c91e"
  }
 },
 "nbformat": 4,
 "nbformat_minor": 2
}