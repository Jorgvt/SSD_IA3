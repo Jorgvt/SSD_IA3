{
 "cells": [
  {
   "cell_type": "code",
   "execution_count": 1,
   "id": "b1fb40f1",
   "metadata": {},
   "outputs": [],
   "source": [
    "from numpy import save\n",
    "import mne\n",
    "import numpy as np\n",
    "import matplotlib.pyplot as plt\n",
    "import pandas as pd\n",
    "\n",
    "def datos(file):\n",
    "    data = mne.io.read_raw_edf(f'{file}.edf')\n",
    "    raw_data = data.get_data()\n",
    "    events, events_id = mne.events_from_annotations(data)\n",
    "    tmax = 30. - 1. / data.info['sfreq']  # tmax in included\n",
    "\n",
    "    epochs_train = mne.Epochs(raw=data, events=events,\n",
    "                              event_id=events_id, tmin=0., tmax=tmax, baseline=None, event_repeated='merge')\n",
    "    patatuela = epochs_train.load_data()\n",
    "    id_to_class_dict = {value:key for key, value in patatuela.event_id.items()}\n",
    "\n",
    "    objective_stages = ['Sleep stage N1','Sleep stage N2','Sleep stage N3','Sleep stage R','Sleep stage W']\n",
    "    epochs_to_df = [a for a in patatuela]\n",
    "    epochs_to_df = []\n",
    "    label_to_df = []\n",
    "    for epoch, label in zip(patatuela, patatuela.events[:,-1]):\n",
    "        # print(label)\n",
    "        label = id_to_class_dict[label]\n",
    "        if label in objective_stages:\n",
    "            # print(\"True\")\n",
    "            epochs_to_df.append(epoch)\n",
    "            label_to_df.append(label)\n",
    "    dict_to_df = {\"Epoch\":epochs_to_df,\"Label\":label_to_df}\n",
    "    df1=pd.DataFrame(dict_to_df)\n",
    "    valores=df1.Epoch.values\n",
    "    channels = data.ch_names\n",
    "    diccionarios=[dict(zip(channels, sublist)) for sublist in valores]\n",
    "    c3=[d['C3'] for d in diccionarios]\n",
    "    c4=[d['C4'] for d in diccionarios]\n",
    "    o1=[d['O1'] for d in diccionarios]\n",
    "    o2=[d['O2'] for d in diccionarios]\n",
    "    loc=[d['LOC'] for d in diccionarios]\n",
    "    roc=[d['ROC'] for d in diccionarios]\n",
    "    chin=[d['CHIN1'] for d in diccionarios]\n",
    "    matriz=np.array([c3,c4,o1,o2,loc,roc,chin])\n",
    "\n",
    "    name=file\n",
    "    save(f'datos_{name}.npy', matriz)\n",
    "    df1.Label.to_csv(f'Etiquetas_{name}.csv',index=None)\n",
    "\n",
    "    return matriz, df1.Label"
   ]
  },
  {
   "cell_type": "code",
   "execution_count": 2,
   "id": "c145e68a",
   "metadata": {},
   "outputs": [],
   "source": [
    "filess=[f'PSG{i}' for i in range(1,15)]"
   ]
  },
  {
   "cell_type": "code",
   "execution_count": 55,
   "id": "01f192fc",
   "metadata": {},
   "outputs": [],
   "source": [
    "# for fil in filess:\n",
    "#     print(datos(fil))    #ejecutar esto para que te cree los archivos npy y csv de etiquetas pero lo dejo así para no verlo por pantalla"
   ]
  },
  {
   "cell_type": "code",
   "execution_count": 12,
   "id": "cfe98e48",
   "metadata": {},
   "outputs": [],
   "source": [
    "datos=[f'datos_PSG{i}.npy' for i in range(1,15)]"
   ]
  },
  {
   "cell_type": "code",
   "execution_count": 16,
   "id": "681dd376",
   "metadata": {},
   "outputs": [],
   "source": [
    "matriz_tocha=[np.load(d) for d in datos]"
   ]
  },
  {
   "cell_type": "code",
   "execution_count": 24,
   "id": "3c1ac848",
   "metadata": {},
   "outputs": [
    {
     "data": {
      "text/plain": [
       "(7, 882, 15360)"
      ]
     },
     "execution_count": 24,
     "metadata": {},
     "output_type": "execute_result"
    }
   ],
   "source": [
    "np.shape(matriz_tocha[0])"
   ]
  },
  {
   "cell_type": "code",
   "execution_count": 56,
   "id": "2b339f88",
   "metadata": {},
   "outputs": [],
   "source": [
    "# matriz_tocha[0:10]"
   ]
  },
  {
   "cell_type": "code",
   "execution_count": 43,
   "id": "195c74e7",
   "metadata": {},
   "outputs": [],
   "source": [
    "etiquetas=[f'Etiquetas_PSG{i}.csv' for i in range(1,15)]"
   ]
  },
  {
   "cell_type": "code",
   "execution_count": 53,
   "id": "7ac8c2ac",
   "metadata": {},
   "outputs": [],
   "source": [
    "et_todas=[pd.read_csv(d).iloc[:,0] for d in etiquetas]"
   ]
  },
  {
   "cell_type": "code",
   "execution_count": 57,
   "id": "cbf6a077",
   "metadata": {},
   "outputs": [],
   "source": [
    "# et_todas"
   ]
  }
 ],
 "metadata": {
  "kernelspec": {
   "display_name": "Python 3",
   "language": "python",
   "name": "python3"
  },
  "language_info": {
   "codemirror_mode": {
    "name": "ipython",
    "version": 3
   },
   "file_extension": ".py",
   "mimetype": "text/x-python",
   "name": "python",
   "nbconvert_exporter": "python",
   "pygments_lexer": "ipython3",
   "version": "3.7.10"
  }
 },
 "nbformat": 4,
 "nbformat_minor": 5
}
