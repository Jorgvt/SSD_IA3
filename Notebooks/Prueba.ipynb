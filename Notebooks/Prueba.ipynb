{
 "metadata": {
  "language_info": {
   "codemirror_mode": {
    "name": "ipython",
    "version": 3
   },
   "file_extension": ".py",
   "mimetype": "text/x-python",
   "name": "python",
   "nbconvert_exporter": "python",
   "pygments_lexer": "ipython3",
   "version": "3.8.5"
  },
  "orig_nbformat": 2,
  "kernelspec": {
   "name": "python385jvsc74a57bd057d46a1f3f975f92cc34d815bf69a7d3644582cc16f1cedc66cb95f17202c91e",
   "display_name": "Python 3.8.5 64-bit ('Master': conda)"
  }
 },
 "nbformat": 4,
 "nbformat_minor": 2,
 "cells": [
  {
   "cell_type": "code",
   "execution_count": 1,
   "metadata": {},
   "outputs": [],
   "source": [
    "import mne\n",
    "import numpy as np\n",
    "import matplotlib.pyplot as plt\n",
    "import pandas as pd"
   ]
  },
  {
   "source": [
    "## Carga de los datos"
   ],
   "cell_type": "markdown",
   "metadata": {}
  },
  {
   "cell_type": "code",
   "execution_count": 2,
   "metadata": {},
   "outputs": [
    {
     "output_type": "stream",
     "name": "stdout",
     "text": [
      "Extracting EDF parameters from e:\\Python\\TFM\\SSD_IA3\\Data\\PSG1_0001.edf...\n",
      "EDF file detected\n",
      "Setting channel info structure...\n",
      "Creating raw.info structure...\n",
      "<ipython-input-2-f4ce31b30072>:2: RuntimeWarning: Omitted 1 annotation(s) that were outside data range.\n",
      "  data = mne.io.read_raw_edf(file)\n",
      "<ipython-input-2-f4ce31b30072>:2: RuntimeWarning: Limited 1 annotation(s) that were expanding outside the data range.\n",
      "  data = mne.io.read_raw_edf(file)\n"
     ]
    }
   ],
   "source": [
    "file = \"../Data/PSG1_0001.edf\"\n",
    "data = mne.io.read_raw_edf(file)\n",
    "raw_data = data.get_data()"
   ]
  },
  {
   "cell_type": "code",
   "execution_count": 9,
   "metadata": {},
   "outputs": [
    {
     "output_type": "stream",
     "name": "stdout",
     "text": [
      "Used Annotations descriptions: ['EEG arousal', 'Hypopnea', 'Lights Off', 'Limb Movement', 'Montage:PR, Ref', 'Obstructive Apnea', 'Oximeter Event', 'Oxygen Desaturation', 'Pulse Rate Event', 'Recording Analyzer - Auto-Staging', 'Recording Analyzer - Data Trends', 'Recording Analyzer - ECG', 'Recording Analyzer - Sleep Events', 'Sleep stage N1', 'Sleep stage N2', 'Sleep stage N3', 'Sleep stage R', 'Sleep stage W', 'Snoring', 'Start Recording', 'Started Analyzer - Sleep Events', 'Video Recording ON']\n"
     ]
    }
   ],
   "source": [
    "events, events_id = mne.events_from_annotations(data)"
   ]
  },
  {
   "cell_type": "code",
   "execution_count": 10,
   "metadata": {},
   "outputs": [
    {
     "output_type": "execute_result",
     "data": {
      "text/plain": [
       "((3014, 3),\n",
       " {'EEG arousal': 1,\n",
       "  'Hypopnea': 2,\n",
       "  'Lights Off': 3,\n",
       "  'Limb Movement': 4,\n",
       "  'Montage:PR, Ref': 5,\n",
       "  'Obstructive Apnea': 6,\n",
       "  'Oximeter Event': 7,\n",
       "  'Oxygen Desaturation': 8,\n",
       "  'Pulse Rate Event': 9,\n",
       "  'Recording Analyzer - Auto-Staging': 10,\n",
       "  'Recording Analyzer - Data Trends': 11,\n",
       "  'Recording Analyzer - ECG': 12,\n",
       "  'Recording Analyzer - Sleep Events': 13,\n",
       "  'Sleep stage N1': 14,\n",
       "  'Sleep stage N2': 15,\n",
       "  'Sleep stage N3': 16,\n",
       "  'Sleep stage R': 17,\n",
       "  'Sleep stage W': 18,\n",
       "  'Snoring': 19,\n",
       "  'Start Recording': 20,\n",
       "  'Started Analyzer - Sleep Events': 21,\n",
       "  'Video Recording ON': 22})"
      ]
     },
     "metadata": {},
     "execution_count": 10
    }
   ],
   "source": [
    "events.shape, events_id"
   ]
  },
  {
   "cell_type": "code",
   "execution_count": 11,
   "metadata": {},
   "outputs": [
    {
     "output_type": "stream",
     "name": "stdout",
     "text": [
      "Not setting metadata\n",
      "Multiple event values for single event times found. Creating new event value to reflect simultaneous events.\n",
      "Not setting metadata\n",
      "3007 matching events found\n",
      "No baseline correction applied\n",
      "0 projection items activated\n",
      "<Epochs |  3007 events (good & bad), 0 - 29.998 sec, baseline off, ~51 kB, data not loaded,\n",
      " 'EEG arousal': 19\n",
      " 'Hypopnea': 23\n",
      " 'Lights Off': 1\n",
      " 'Limb Movement': 100\n",
      " 'Limb Movement/Snoring': 1\n",
      " 'Montage:PR, Ref/Start Recording': 1\n",
      " 'Obstructive Apnea': 79\n",
      " 'Oximeter Event': 1\n",
      " 'Oximeter Event/Pulse Rate Event': 1\n",
      " 'Oxygen Desaturation': 47\n",
      " 'Recording Analyzer - Auto-Staging/Recording Analyzer - Data Trends/Recording Analyzer - ECG/Recording Analyzer - Sleep Events': 1\n",
      " 'Sleep stage N1': 25\n",
      " 'Sleep stage N2': 317\n",
      " 'Sleep stage N3': 193\n",
      " 'Sleep stage R': 101\n",
      " 'Sleep stage W': 226\n",
      " 'Snoring': 1869\n",
      " 'Started Analyzer - Sleep Events': 1\n",
      " 'Video Recording ON': 1>\n"
     ]
    }
   ],
   "source": [
    "tmax = 30. - 1. / data.info['sfreq']  # tmax in included\n",
    "\n",
    "epochs_train = mne.Epochs(raw=data, events=events,\n",
    "                          event_id=events_id, tmin=0., tmax=tmax, baseline=None, event_repeated='merge')\n",
    "\n",
    "print(epochs_train)"
   ]
  },
  {
   "cell_type": "code",
   "execution_count": 12,
   "metadata": {},
   "outputs": [
    {
     "output_type": "stream",
     "name": "stdout",
     "text": [
      "Loading data for 3007 events and 15360 original time points ...\n",
      "1 bad epochs dropped\n"
     ]
    }
   ],
   "source": [
    "patatuela = epochs_train.load_data()"
   ]
  },
  {
   "cell_type": "code",
   "execution_count": 59,
   "metadata": {},
   "outputs": [
    {
     "output_type": "execute_result",
     "data": {
      "text/plain": [
       "array([[      19,        0,       23],\n",
       "       [      67,        0,       22],\n",
       "       [     101,        0,       24],\n",
       "       ...,\n",
       "       [13194240,        0,       18],\n",
       "       [13209600,        0,       18],\n",
       "       [13224960,        0,       18]])"
      ]
     },
     "metadata": {},
     "execution_count": 59
    }
   ],
   "source": [
    "patatuela.events"
   ]
  },
  {
   "cell_type": "code",
   "execution_count": 32,
   "metadata": {},
   "outputs": [
    {
     "output_type": "execute_result",
     "data": {
      "text/plain": [
       "{'EEG arousal': 1,\n",
       " 'Hypopnea': 2,\n",
       " 'Lights Off': 3,\n",
       " 'Limb Movement': 4,\n",
       " 'Obstructive Apnea': 6,\n",
       " 'Oximeter Event': 7,\n",
       " 'Oxygen Desaturation': 8,\n",
       " 'Sleep stage N1': 14,\n",
       " 'Sleep stage N2': 15,\n",
       " 'Sleep stage N3': 16,\n",
       " 'Sleep stage R': 17,\n",
       " 'Sleep stage W': 18,\n",
       " 'Snoring': 19,\n",
       " 'Started Analyzer - Sleep Events': 21,\n",
       " 'Video Recording ON': 22,\n",
       " 'Montage:PR, Ref/Start Recording': 23,\n",
       " 'Recording Analyzer - Auto-Staging/Recording Analyzer - Data Trends/Recording Analyzer - ECG/Recording Analyzer - Sleep Events': 24,\n",
       " 'Limb Movement/Snoring': 25,\n",
       " 'Oximeter Event/Pulse Rate Event': 26}"
      ]
     },
     "metadata": {},
     "execution_count": 32
    }
   ],
   "source": [
    "patatuela.event_id"
   ]
  },
  {
   "cell_type": "code",
   "execution_count": 43,
   "metadata": {},
   "outputs": [
    {
     "output_type": "execute_result",
     "data": {
      "text/plain": [
       "{1: 'EEG arousal',\n",
       " 2: 'Hypopnea',\n",
       " 3: 'Lights Off',\n",
       " 4: 'Limb Movement',\n",
       " 6: 'Obstructive Apnea',\n",
       " 7: 'Oximeter Event',\n",
       " 8: 'Oxygen Desaturation',\n",
       " 14: 'Sleep stage N1',\n",
       " 15: 'Sleep stage N2',\n",
       " 16: 'Sleep stage N3',\n",
       " 17: 'Sleep stage R',\n",
       " 18: 'Sleep stage W',\n",
       " 19: 'Snoring',\n",
       " 21: 'Started Analyzer - Sleep Events',\n",
       " 22: 'Video Recording ON',\n",
       " 23: 'Montage:PR, Ref/Start Recording',\n",
       " 24: 'Recording Analyzer - Auto-Staging/Recording Analyzer - Data Trends/Recording Analyzer - ECG/Recording Analyzer - Sleep Events',\n",
       " 25: 'Limb Movement/Snoring',\n",
       " 26: 'Oximeter Event/Pulse Rate Event'}"
      ]
     },
     "metadata": {},
     "execution_count": 43
    }
   ],
   "source": [
    "id_to_class_dict = {value:key for key, value in patatuela.event_id.items()}\n",
    "id_to_class_dict"
   ]
  },
  {
   "cell_type": "code",
   "execution_count": 52,
   "metadata": {},
   "outputs": [
    {
     "output_type": "execute_result",
     "data": {
      "text/plain": [
       "((3006, 50, 15360),\n",
       " array([[      19,        0,       23],\n",
       "        [      67,        0,       22],\n",
       "        [     101,        0,       24],\n",
       "        ...,\n",
       "        [13194240,        0,       18],\n",
       "        [13209600,        0,       18],\n",
       "        [13224960,        0,       18]]))"
      ]
     },
     "metadata": {},
     "execution_count": 52
    }
   ],
   "source": [
    "patatuela._data.shape, patatuela.events"
   ]
  },
  {
   "cell_type": "code",
   "execution_count": 67,
   "metadata": {},
   "outputs": [],
   "source": [
    "objective_stages = ['Sleep stage N1',\n",
    "'Sleep stage N2',\n",
    "'Sleep stage N3',\n",
    "'Sleep stage R',\n",
    "'Sleep stage W']"
   ]
  },
  {
   "cell_type": "code",
   "execution_count": 88,
   "metadata": {},
   "outputs": [],
   "source": [
    "epochs_to_df = [a for a in patatuela]\n",
    "label_to_df = [id_to_class_dict[i] for i in patatuela.events[:,-1]]\n",
    "dict_to_df = {\"Epoch\":epochs_to_df,\n",
    "              \"Label\":label_to_df}\n",
    "# dict_to_df = {key:label for key, label in dict_to_df.items() if label in objective_stages}"
   ]
  },
  {
   "cell_type": "code",
   "execution_count": null,
   "metadata": {},
   "outputs": [],
   "source": [
    "prueba = {}"
   ]
  },
  {
   "cell_type": "code",
   "execution_count": 93,
   "metadata": {
    "tags": []
   },
   "outputs": [],
   "source": [
    "epochs_to_df = []\n",
    "label_to_df = []\n",
    "for epoch, label in zip(patatuela, patatuela.events[:,-1]):\n",
    "    # print(label)\n",
    "    label = id_to_class_dict[label]\n",
    "    if label in objective_stages:\n",
    "        # print(\"True\")\n",
    "        epochs_to_df.append(epoch)\n",
    "        label_to_df.append(label)\n",
    "    # else:\n",
    "        # print(\"False\")"
   ]
  },
  {
   "cell_type": "code",
   "execution_count": 95,
   "metadata": {},
   "outputs": [],
   "source": [
    "dict_to_df = {\"Epoch\":epochs_to_df,\n",
    "              \"Label\":label_to_df}"
   ]
  },
  {
   "cell_type": "code",
   "execution_count": 96,
   "metadata": {},
   "outputs": [
    {
     "output_type": "execute_result",
     "data": {
      "text/plain": [
       "                                                 Epoch          Label\n",
       "0    [[-0.0004177615014877544, -0.00041776150148775...  Sleep stage W\n",
       "1    [[-9.278095674067275e-05, -8.421149004348803e-...  Sleep stage W\n",
       "2    [[-0.00019297779812314013, -0.0001942961776150...  Sleep stage W\n",
       "3    [[-2.356603341725778e-05, -2.191805905241457e-...  Sleep stage W\n",
       "4    [[-4.2352941176470415e-05, -4.2352941176470415...  Sleep stage W\n",
       "..                                                 ...            ...\n",
       "856  [[2.3895628290226768e-05, 2.785076676585048e-0...  Sleep stage W\n",
       "857  [[2.191805905241491e-05, 2.5214007782101335e-0...  Sleep stage W\n",
       "858  [[1.0382238498512416e-05, 1.33485923552302e-05...  Sleep stage W\n",
       "859  [[4.7956054016937685e-05, 4.762645914396904e-0...  Sleep stage W\n",
       "860  [[0.0001151934081025408, 0.0001132158388647289...  Sleep stage W\n",
       "\n",
       "[861 rows x 2 columns]"
      ],
      "text/html": "<div>\n<style scoped>\n    .dataframe tbody tr th:only-of-type {\n        vertical-align: middle;\n    }\n\n    .dataframe tbody tr th {\n        vertical-align: top;\n    }\n\n    .dataframe thead th {\n        text-align: right;\n    }\n</style>\n<table border=\"1\" class=\"dataframe\">\n  <thead>\n    <tr style=\"text-align: right;\">\n      <th></th>\n      <th>Epoch</th>\n      <th>Label</th>\n    </tr>\n  </thead>\n  <tbody>\n    <tr>\n      <th>0</th>\n      <td>[[-0.0004177615014877544, -0.00041776150148775...</td>\n      <td>Sleep stage W</td>\n    </tr>\n    <tr>\n      <th>1</th>\n      <td>[[-9.278095674067275e-05, -8.421149004348803e-...</td>\n      <td>Sleep stage W</td>\n    </tr>\n    <tr>\n      <th>2</th>\n      <td>[[-0.00019297779812314013, -0.0001942961776150...</td>\n      <td>Sleep stage W</td>\n    </tr>\n    <tr>\n      <th>3</th>\n      <td>[[-2.356603341725778e-05, -2.191805905241457e-...</td>\n      <td>Sleep stage W</td>\n    </tr>\n    <tr>\n      <th>4</th>\n      <td>[[-4.2352941176470415e-05, -4.2352941176470415...</td>\n      <td>Sleep stage W</td>\n    </tr>\n    <tr>\n      <th>...</th>\n      <td>...</td>\n      <td>...</td>\n    </tr>\n    <tr>\n      <th>856</th>\n      <td>[[2.3895628290226768e-05, 2.785076676585048e-0...</td>\n      <td>Sleep stage W</td>\n    </tr>\n    <tr>\n      <th>857</th>\n      <td>[[2.191805905241491e-05, 2.5214007782101335e-0...</td>\n      <td>Sleep stage W</td>\n    </tr>\n    <tr>\n      <th>858</th>\n      <td>[[1.0382238498512416e-05, 1.33485923552302e-05...</td>\n      <td>Sleep stage W</td>\n    </tr>\n    <tr>\n      <th>859</th>\n      <td>[[4.7956054016937685e-05, 4.762645914396904e-0...</td>\n      <td>Sleep stage W</td>\n    </tr>\n    <tr>\n      <th>860</th>\n      <td>[[0.0001151934081025408, 0.0001132158388647289...</td>\n      <td>Sleep stage W</td>\n    </tr>\n  </tbody>\n</table>\n<p>861 rows × 2 columns</p>\n</div>"
     },
     "metadata": {},
     "execution_count": 96
    }
   ],
   "source": [
    "pd.DataFrame(dict_to_df)"
   ]
  }
 ]
}