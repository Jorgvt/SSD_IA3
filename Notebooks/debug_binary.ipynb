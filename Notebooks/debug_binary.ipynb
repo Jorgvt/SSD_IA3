{
 "cells": [
  {
   "cell_type": "code",
   "execution_count": 1,
   "source": [
    "import os\r\n",
    "from glob import glob\r\n",
    "import warnings\r\n",
    "warnings.filterwarnings(\"ignore\", category=RuntimeWarning) \r\n",
    "\r\n",
    "import numpy as np\r\n",
    "# import matplotlib.pyplot as plt\r\n",
    "\r\n",
    "import mne\r\n",
    "mne.set_log_level(verbose=False)\r\n",
    "import wandb\r\n",
    "from tqdm.auto import tqdm\r\n",
    "\r\n",
    "from DatasetsPaco import *"
   ],
   "outputs": [],
   "metadata": {}
  },
  {
   "cell_type": "code",
   "execution_count": 2,
   "source": [
    "dataset1 = EDFData(\"../Data/PSG1.edf\", channels=['F4'])"
   ],
   "outputs": [],
   "metadata": {}
  },
  {
   "cell_type": "code",
   "execution_count": 4,
   "source": [
    "data1 = dataset1.epochs.get_data()\r\n",
    "data1.shape"
   ],
   "outputs": [
    {
     "output_type": "execute_result",
     "data": {
      "text/plain": [
       "(882, 1, 15360)"
      ]
     },
     "metadata": {},
     "execution_count": 4
    }
   ],
   "metadata": {}
  },
  {
   "cell_type": "code",
   "execution_count": 5,
   "source": [
    "data1 = np.squeeze(data1, axis=1)\r\n",
    "data1.shape"
   ],
   "outputs": [
    {
     "output_type": "execute_result",
     "data": {
      "text/plain": [
       "(882, 15360)"
      ]
     },
     "metadata": {},
     "execution_count": 5
    }
   ],
   "metadata": {}
  },
  {
   "cell_type": "code",
   "execution_count": 8,
   "source": [
    "labels = dataset1.epochs.events[:,-1]\r\n",
    "labels.shape"
   ],
   "outputs": [
    {
     "output_type": "execute_result",
     "data": {
      "text/plain": [
       "(882,)"
      ]
     },
     "metadata": {},
     "execution_count": 8
    }
   ],
   "metadata": {}
  },
  {
   "cell_type": "code",
   "execution_count": 12,
   "source": [
    "dataset1.epochs.event_id"
   ],
   "outputs": [
    {
     "output_type": "execute_result",
     "data": {
      "text/plain": [
       "{'Sleep stage N1': 1,\n",
       " 'Sleep stage N2': 2,\n",
       " 'Sleep stage N3': 3,\n",
       " 'Sleep stage R': 4,\n",
       " 'Sleep stage W': 5}"
      ]
     },
     "metadata": {},
     "execution_count": 12
    }
   ],
   "metadata": {}
  },
  {
   "cell_type": "code",
   "execution_count": 14,
   "source": [
    "labels_binary = []\r\n",
    "\r\n",
    "for label in labels:\r\n",
    "    if label == 5:\r\n",
    "        labels_binary.append(1) # Awake -> 1\r\n",
    "    else:\r\n",
    "        labels_binary.append(0) # Sleeping -> 0\r\n",
    "\r\n",
    "labels_binary = np.array(labels_binary)\r\n",
    "labels_binary.shape"
   ],
   "outputs": [
    {
     "output_type": "execute_result",
     "data": {
      "text/plain": [
       "(882,)"
      ]
     },
     "metadata": {},
     "execution_count": 14
    }
   ],
   "metadata": {}
  },
  {
   "cell_type": "code",
   "execution_count": 2,
   "source": [
    "def create_simple_model():\r\n",
    "    model = tf.keras.models.Sequential([\r\n",
    "        tf.keras.layers.Conv1D(128, 512//2, strides=512//4, input_shape=(15360, 1), activation=\"relu\"),\r\n",
    "        tf.keras.layers.Flatten(),\r\n",
    "        tf.keras.layers.Dense(1, activation=\"sigmoid\")\r\n",
    "    ])\r\n",
    "    model.compile(optimizer=\"adam\", loss=\"binary_crossentropy\", metrics=[\"accuracy\"])\r\n",
    "    return model"
   ],
   "outputs": [],
   "metadata": {}
  },
  {
   "cell_type": "code",
   "execution_count": 24,
   "source": [
    "model = create_simple_model()\r\n",
    "model.summary()"
   ],
   "outputs": [
    {
     "output_type": "stream",
     "name": "stdout",
     "text": [
      "Model: \"sequential_2\"\n",
      "_________________________________________________________________\n",
      "Layer (type)                 Output Shape              Param #   \n",
      "=================================================================\n",
      "conv1d_2 (Conv1D)            (None, 119, 128)          32896     \n",
      "_________________________________________________________________\n",
      "flatten_2 (Flatten)          (None, 15232)             0         \n",
      "_________________________________________________________________\n",
      "dense_2 (Dense)              (None, 1)                 15233     \n",
      "=================================================================\n",
      "Total params: 48,129\n",
      "Trainable params: 48,129\n",
      "Non-trainable params: 0\n",
      "_________________________________________________________________\n"
     ]
    }
   ],
   "metadata": {}
  },
  {
   "cell_type": "code",
   "execution_count": 20,
   "source": [
    "history = model.fit(np.expand_dims(data1,-1), labels_binary, batch_size=16, epochs=10)"
   ],
   "outputs": [
    {
     "output_type": "stream",
     "name": "stdout",
     "text": [
      "Epoch 1/10\n",
      "56/56 [==============================] - 18s 316ms/step - loss: 0.6121 - accuracy: 0.7177\n",
      "Epoch 2/10\n",
      "56/56 [==============================] - 0s 5ms/step - loss: 0.5945 - accuracy: 0.7211\n",
      "Epoch 3/10\n",
      "56/56 [==============================] - 0s 5ms/step - loss: 0.5959 - accuracy: 0.7211\n",
      "Epoch 4/10\n",
      "56/56 [==============================] - 0s 5ms/step - loss: 0.5974 - accuracy: 0.7211\n",
      "Epoch 5/10\n",
      "56/56 [==============================] - 0s 5ms/step - loss: 0.5997 - accuracy: 0.7211\n",
      "Epoch 6/10\n",
      "56/56 [==============================] - 0s 6ms/step - loss: 0.5944 - accuracy: 0.7211\n",
      "Epoch 7/10\n",
      "56/56 [==============================] - 0s 5ms/step - loss: 0.5952 - accuracy: 0.7211\n",
      "Epoch 8/10\n",
      "56/56 [==============================] - 0s 6ms/step - loss: 0.5983 - accuracy: 0.7211\n",
      "Epoch 9/10\n",
      "56/56 [==============================] - 0s 6ms/step - loss: 0.5972 - accuracy: 0.7211\n",
      "Epoch 10/10\n",
      "56/56 [==============================] - 0s 6ms/step - loss: 0.5989 - accuracy: 0.7211\n"
     ]
    }
   ],
   "metadata": {}
  },
  {
   "cell_type": "code",
   "execution_count": 21,
   "source": [
    "mean = data1.mean()\r\n",
    "std = data1.std()\r\n",
    "mean, std"
   ],
   "outputs": [
    {
     "output_type": "execute_result",
     "data": {
      "text/plain": [
       "(2.941610868569235e-05, 0.0001535793839162135)"
      ]
     },
     "metadata": {},
     "execution_count": 21
    }
   ],
   "metadata": {}
  },
  {
   "cell_type": "code",
   "execution_count": 22,
   "source": [
    "data1_std = (data1 - mean)/std"
   ],
   "outputs": [],
   "metadata": {}
  },
  {
   "cell_type": "code",
   "execution_count": 25,
   "source": [
    "model = create_simple_model()\r\n",
    "history = model.fit(np.expand_dims(data1_std,-1), labels_binary, batch_size=16, epochs=10)"
   ],
   "outputs": [
    {
     "output_type": "stream",
     "name": "stdout",
     "text": [
      "Epoch 1/10\n",
      "56/56 [==============================] - 0s 8ms/step - loss: 0.7652 - accuracy: 0.7177\n",
      "Epoch 2/10\n",
      "56/56 [==============================] - 0s 5ms/step - loss: 0.6117 - accuracy: 0.7041\n",
      "Epoch 3/10\n",
      "56/56 [==============================] - 0s 5ms/step - loss: 0.5421 - accuracy: 0.7551\n",
      "Epoch 4/10\n",
      "56/56 [==============================] - 0s 5ms/step - loss: 0.5147 - accuracy: 0.7506\n",
      "Epoch 5/10\n",
      "56/56 [==============================] - 0s 5ms/step - loss: 0.4962 - accuracy: 0.7551\n",
      "Epoch 6/10\n",
      "56/56 [==============================] - 0s 5ms/step - loss: 0.4782 - accuracy: 0.7664\n",
      "Epoch 7/10\n",
      "56/56 [==============================] - 0s 5ms/step - loss: 0.4555 - accuracy: 0.7823\n",
      "Epoch 8/10\n",
      "56/56 [==============================] - 0s 6ms/step - loss: 0.4298 - accuracy: 0.7891\n",
      "Epoch 9/10\n",
      "56/56 [==============================] - 0s 6ms/step - loss: 0.4103 - accuracy: 0.8005\n",
      "Epoch 10/10\n",
      "56/56 [==============================] - 0s 5ms/step - loss: 0.4035 - accuracy: 0.8129\n"
     ]
    }
   ],
   "metadata": {}
  },
  {
   "cell_type": "code",
   "execution_count": 3,
   "source": [
    "dataset_gen = EDFData_GEN_TF(\"../Data/PSG1.edf\", channels=['F4'])"
   ],
   "outputs": [],
   "metadata": {}
  },
  {
   "cell_type": "code",
   "execution_count": 4,
   "source": [
    "def our_generator():\r\n",
    "    for X, Y in dataset_gen:\r\n",
    "        # Consistency with the other test\r\n",
    "        X = np.squeeze(X)\r\n",
    "\r\n",
    "        # Scale the data\r\n",
    "        X = (X - dataset_gen.mean.item())/dataset_gen.std.item()\r\n",
    "        X = np.expand_dims(X, -1)\r\n",
    "        # Binarize labels\r\n",
    "        Y = 1 if 5 else 0\r\n",
    "\r\n",
    "        yield X,Y"
   ],
   "outputs": [],
   "metadata": {}
  },
  {
   "cell_type": "code",
   "execution_count": 57,
   "source": [
    "dataset = tf.data.Dataset.from_generator(our_generator, \r\n",
    "                                        output_types=(tf.float64, tf.int32),\r\n",
    "                                        output_shapes=(tf.TensorShape([15360,1]),tf.TensorShape([]))).batch(16)"
   ],
   "outputs": [],
   "metadata": {}
  },
  {
   "cell_type": "code",
   "execution_count": 60,
   "source": [
    "for a, b in dataset:\r\n",
    "    break\r\n",
    "a.shape, b.shape"
   ],
   "outputs": [
    {
     "output_type": "execute_result",
     "data": {
      "text/plain": [
       "(TensorShape([16, 15360, 1]), TensorShape([16]))"
      ]
     },
     "metadata": {},
     "execution_count": 60
    }
   ],
   "metadata": {}
  },
  {
   "cell_type": "code",
   "execution_count": 50,
   "source": [
    "model = create_simple_model()\r\n",
    "history = model.fit(x=dataset, epochs=10)"
   ],
   "outputs": [
    {
     "output_type": "stream",
     "name": "stdout",
     "text": [
      "Epoch 1/10\n",
      "56/56 [==============================] - 9s 154ms/step - loss: 0.0188 - accuracy: 0.9932\n",
      "Epoch 2/10\n",
      "56/56 [==============================] - 6s 109ms/step - loss: 7.4451e-16 - accuracy: 1.0000\n",
      "Epoch 3/10\n",
      "56/56 [==============================] - 6s 103ms/step - loss: 6.4117e-16 - accuracy: 1.0000\n",
      "Epoch 4/10\n",
      "56/56 [==============================] - 5s 96ms/step - loss: 6.4083e-16 - accuracy: 1.0000\n",
      "Epoch 5/10\n",
      "56/56 [==============================] - 4s 69ms/step - loss: 6.4083e-16 - accuracy: 1.0000\n",
      "Epoch 6/10\n",
      "56/56 [==============================] - 4s 73ms/step - loss: 6.4083e-16 - accuracy: 1.0000\n",
      "Epoch 7/10\n",
      "56/56 [==============================] - 4s 68ms/step - loss: 6.4083e-16 - accuracy: 1.0000\n",
      "Epoch 8/10\n",
      "56/56 [==============================] - 4s 63ms/step - loss: 6.4083e-16 - accuracy: 1.0000\n",
      "Epoch 9/10\n",
      "56/56 [==============================] - 5s 91ms/step - loss: 6.4083e-16 - accuracy: 1.0000\n",
      "Epoch 10/10\n",
      "56/56 [==============================] - 5s 90ms/step - loss: 6.4083e-16 - accuracy: 1.0000\n"
     ]
    }
   ],
   "metadata": {}
  },
  {
   "cell_type": "code",
   "execution_count": null,
   "source": [],
   "outputs": [],
   "metadata": {}
  }
 ],
 "metadata": {
  "orig_nbformat": 4,
  "language_info": {
   "name": "python"
  }
 },
 "nbformat": 4,
 "nbformat_minor": 2
}